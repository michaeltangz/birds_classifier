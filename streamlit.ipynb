{
 "cells": [
  {
   "cell_type": "code",
   "execution_count": 1,
   "metadata": {},
   "outputs": [],
   "source": [
    "# create a streamlit web app to deploy the model\n",
    "import streamlit as st\n",
    "import pandas as pd\n",
    "import numpy as np\n",
    "import pickle\n",
    "\n",
    "# Importing the libraries needed\n",
    "import torch\n",
    "import urllib.request\n",
    "from PIL import Image\n",
    "from transformers import pipeline\n",
    "\n",
    "\n"
   ]
  },
  {
   "cell_type": "code",
   "execution_count": null,
   "metadata": {},
   "outputs": [],
   "source": [
    "# create a image upload function using streamlit in order to use the model\n",
    "\n"
   ]
  },
  {
   "cell_type": "code",
   "execution_count": 3,
   "metadata": {},
   "outputs": [
    {
     "ename": "ValueError",
     "evalue": "unknown url type: 'some url'",
     "output_type": "error",
     "traceback": [
      "\u001b[0;31m---------------------------------------------------------------------------\u001b[0m",
      "\u001b[0;31mValueError\u001b[0m                                Traceback (most recent call last)",
      "Cell \u001b[0;32mIn[3], line 5\u001b[0m\n\u001b[1;32m      2\u001b[0m url \u001b[38;5;241m=\u001b[39m \u001b[38;5;124m'\u001b[39m\u001b[38;5;124msome url\u001b[39m\u001b[38;5;124m'\u001b[39m\n\u001b[1;32m      4\u001b[0m \u001b[38;5;66;03m# Opening the image using PIL\u001b[39;00m\n\u001b[0;32m----> 5\u001b[0m img \u001b[38;5;241m=\u001b[39m Image\u001b[38;5;241m.\u001b[39mopen(\u001b[43murllib\u001b[49m\u001b[38;5;241;43m.\u001b[39;49m\u001b[43mrequest\u001b[49m\u001b[38;5;241;43m.\u001b[39;49m\u001b[43murlretrieve\u001b[49m\u001b[43m(\u001b[49m\u001b[43murl\u001b[49m\u001b[43m)\u001b[49m[\u001b[38;5;241m0\u001b[39m])\n\u001b[1;32m      7\u001b[0m \u001b[38;5;66;03m# Loading the model and preprocessor using Pipeline\u001b[39;00m\n\u001b[1;32m      8\u001b[0m pipe \u001b[38;5;241m=\u001b[39m pipeline(\u001b[38;5;124m\"\u001b[39m\u001b[38;5;124mimage-classification\u001b[39m\u001b[38;5;124m\"\u001b[39m, model\u001b[38;5;241m=\u001b[39m\u001b[38;5;124m\"\u001b[39m\u001b[38;5;124mdennisjooo/Birds-Classifier-EfficientNetB2\u001b[39m\u001b[38;5;124m\"\u001b[39m)\n",
      "File \u001b[0;32m/opt/conda/envs/streamlit/lib/python3.9/urllib/request.py:239\u001b[0m, in \u001b[0;36murlretrieve\u001b[0;34m(url, filename, reporthook, data)\u001b[0m\n\u001b[1;32m    222\u001b[0m \u001b[38;5;250m\u001b[39m\u001b[38;5;124;03m\"\"\"\u001b[39;00m\n\u001b[1;32m    223\u001b[0m \u001b[38;5;124;03mRetrieve a URL into a temporary location on disk.\u001b[39;00m\n\u001b[1;32m    224\u001b[0m \n\u001b[0;32m   (...)\u001b[0m\n\u001b[1;32m    235\u001b[0m \u001b[38;5;124;03mdata file as well as the resulting HTTPMessage object.\u001b[39;00m\n\u001b[1;32m    236\u001b[0m \u001b[38;5;124;03m\"\"\"\u001b[39;00m\n\u001b[1;32m    237\u001b[0m url_type, path \u001b[38;5;241m=\u001b[39m _splittype(url)\n\u001b[0;32m--> 239\u001b[0m \u001b[38;5;28;01mwith\u001b[39;00m contextlib\u001b[38;5;241m.\u001b[39mclosing(\u001b[43murlopen\u001b[49m\u001b[43m(\u001b[49m\u001b[43murl\u001b[49m\u001b[43m,\u001b[49m\u001b[43m \u001b[49m\u001b[43mdata\u001b[49m\u001b[43m)\u001b[49m) \u001b[38;5;28;01mas\u001b[39;00m fp:\n\u001b[1;32m    240\u001b[0m     headers \u001b[38;5;241m=\u001b[39m fp\u001b[38;5;241m.\u001b[39minfo()\n\u001b[1;32m    242\u001b[0m     \u001b[38;5;66;03m# Just return the local path and the \"headers\" for file://\u001b[39;00m\n\u001b[1;32m    243\u001b[0m     \u001b[38;5;66;03m# URLs. No sense in performing a copy unless requested.\u001b[39;00m\n",
      "File \u001b[0;32m/opt/conda/envs/streamlit/lib/python3.9/urllib/request.py:214\u001b[0m, in \u001b[0;36murlopen\u001b[0;34m(url, data, timeout, cafile, capath, cadefault, context)\u001b[0m\n\u001b[1;32m    212\u001b[0m \u001b[38;5;28;01melse\u001b[39;00m:\n\u001b[1;32m    213\u001b[0m     opener \u001b[38;5;241m=\u001b[39m _opener\n\u001b[0;32m--> 214\u001b[0m \u001b[38;5;28;01mreturn\u001b[39;00m \u001b[43mopener\u001b[49m\u001b[38;5;241;43m.\u001b[39;49m\u001b[43mopen\u001b[49m\u001b[43m(\u001b[49m\u001b[43murl\u001b[49m\u001b[43m,\u001b[49m\u001b[43m \u001b[49m\u001b[43mdata\u001b[49m\u001b[43m,\u001b[49m\u001b[43m \u001b[49m\u001b[43mtimeout\u001b[49m\u001b[43m)\u001b[49m\n",
      "File \u001b[0;32m/opt/conda/envs/streamlit/lib/python3.9/urllib/request.py:501\u001b[0m, in \u001b[0;36mOpenerDirector.open\u001b[0;34m(self, fullurl, data, timeout)\u001b[0m\n\u001b[1;32m    498\u001b[0m \u001b[38;5;28;01mdef\u001b[39;00m \u001b[38;5;21mopen\u001b[39m(\u001b[38;5;28mself\u001b[39m, fullurl, data\u001b[38;5;241m=\u001b[39m\u001b[38;5;28;01mNone\u001b[39;00m, timeout\u001b[38;5;241m=\u001b[39msocket\u001b[38;5;241m.\u001b[39m_GLOBAL_DEFAULT_TIMEOUT):\n\u001b[1;32m    499\u001b[0m     \u001b[38;5;66;03m# accept a URL or a Request object\u001b[39;00m\n\u001b[1;32m    500\u001b[0m     \u001b[38;5;28;01mif\u001b[39;00m \u001b[38;5;28misinstance\u001b[39m(fullurl, \u001b[38;5;28mstr\u001b[39m):\n\u001b[0;32m--> 501\u001b[0m         req \u001b[38;5;241m=\u001b[39m \u001b[43mRequest\u001b[49m\u001b[43m(\u001b[49m\u001b[43mfullurl\u001b[49m\u001b[43m,\u001b[49m\u001b[43m \u001b[49m\u001b[43mdata\u001b[49m\u001b[43m)\u001b[49m\n\u001b[1;32m    502\u001b[0m     \u001b[38;5;28;01melse\u001b[39;00m:\n\u001b[1;32m    503\u001b[0m         req \u001b[38;5;241m=\u001b[39m fullurl\n",
      "File \u001b[0;32m/opt/conda/envs/streamlit/lib/python3.9/urllib/request.py:320\u001b[0m, in \u001b[0;36mRequest.__init__\u001b[0;34m(self, url, data, headers, origin_req_host, unverifiable, method)\u001b[0m\n\u001b[1;32m    317\u001b[0m \u001b[38;5;28;01mdef\u001b[39;00m \u001b[38;5;21m__init__\u001b[39m(\u001b[38;5;28mself\u001b[39m, url, data\u001b[38;5;241m=\u001b[39m\u001b[38;5;28;01mNone\u001b[39;00m, headers\u001b[38;5;241m=\u001b[39m{},\n\u001b[1;32m    318\u001b[0m              origin_req_host\u001b[38;5;241m=\u001b[39m\u001b[38;5;28;01mNone\u001b[39;00m, unverifiable\u001b[38;5;241m=\u001b[39m\u001b[38;5;28;01mFalse\u001b[39;00m,\n\u001b[1;32m    319\u001b[0m              method\u001b[38;5;241m=\u001b[39m\u001b[38;5;28;01mNone\u001b[39;00m):\n\u001b[0;32m--> 320\u001b[0m     \u001b[38;5;28mself\u001b[39m\u001b[38;5;241m.\u001b[39mfull_url \u001b[38;5;241m=\u001b[39m url\n\u001b[1;32m    321\u001b[0m     \u001b[38;5;28mself\u001b[39m\u001b[38;5;241m.\u001b[39mheaders \u001b[38;5;241m=\u001b[39m {}\n\u001b[1;32m    322\u001b[0m     \u001b[38;5;28mself\u001b[39m\u001b[38;5;241m.\u001b[39munredirected_hdrs \u001b[38;5;241m=\u001b[39m {}\n",
      "File \u001b[0;32m/opt/conda/envs/streamlit/lib/python3.9/urllib/request.py:346\u001b[0m, in \u001b[0;36mRequest.full_url\u001b[0;34m(self, url)\u001b[0m\n\u001b[1;32m    344\u001b[0m \u001b[38;5;28mself\u001b[39m\u001b[38;5;241m.\u001b[39m_full_url \u001b[38;5;241m=\u001b[39m unwrap(url)\n\u001b[1;32m    345\u001b[0m \u001b[38;5;28mself\u001b[39m\u001b[38;5;241m.\u001b[39m_full_url, \u001b[38;5;28mself\u001b[39m\u001b[38;5;241m.\u001b[39mfragment \u001b[38;5;241m=\u001b[39m _splittag(\u001b[38;5;28mself\u001b[39m\u001b[38;5;241m.\u001b[39m_full_url)\n\u001b[0;32m--> 346\u001b[0m \u001b[38;5;28;43mself\u001b[39;49m\u001b[38;5;241;43m.\u001b[39;49m\u001b[43m_parse\u001b[49m\u001b[43m(\u001b[49m\u001b[43m)\u001b[49m\n",
      "File \u001b[0;32m/opt/conda/envs/streamlit/lib/python3.9/urllib/request.py:375\u001b[0m, in \u001b[0;36mRequest._parse\u001b[0;34m(self)\u001b[0m\n\u001b[1;32m    373\u001b[0m \u001b[38;5;28mself\u001b[39m\u001b[38;5;241m.\u001b[39mtype, rest \u001b[38;5;241m=\u001b[39m _splittype(\u001b[38;5;28mself\u001b[39m\u001b[38;5;241m.\u001b[39m_full_url)\n\u001b[1;32m    374\u001b[0m \u001b[38;5;28;01mif\u001b[39;00m \u001b[38;5;28mself\u001b[39m\u001b[38;5;241m.\u001b[39mtype \u001b[38;5;129;01mis\u001b[39;00m \u001b[38;5;28;01mNone\u001b[39;00m:\n\u001b[0;32m--> 375\u001b[0m     \u001b[38;5;28;01mraise\u001b[39;00m \u001b[38;5;167;01mValueError\u001b[39;00m(\u001b[38;5;124m\"\u001b[39m\u001b[38;5;124munknown url type: \u001b[39m\u001b[38;5;132;01m%r\u001b[39;00m\u001b[38;5;124m\"\u001b[39m \u001b[38;5;241m%\u001b[39m \u001b[38;5;28mself\u001b[39m\u001b[38;5;241m.\u001b[39mfull_url)\n\u001b[1;32m    376\u001b[0m \u001b[38;5;28mself\u001b[39m\u001b[38;5;241m.\u001b[39mhost, \u001b[38;5;28mself\u001b[39m\u001b[38;5;241m.\u001b[39mselector \u001b[38;5;241m=\u001b[39m _splithost(rest)\n\u001b[1;32m    377\u001b[0m \u001b[38;5;28;01mif\u001b[39;00m \u001b[38;5;28mself\u001b[39m\u001b[38;5;241m.\u001b[39mhost:\n",
      "\u001b[0;31mValueError\u001b[0m: unknown url type: 'some url'"
     ]
    }
   ],
   "source": [
    "# Determining the file URL\n",
    "url = 'some url'\n",
    "\n",
    "# Opening the image using PIL\n",
    "img = Image.open(urllib.request.urlretrieve(url)[0])\n",
    "\n",
    "# Loading the model and preprocessor using Pipeline\n",
    "pipe = pipeline(\"image-classification\", model=\"dennisjooo/Birds-Classifier-EfficientNetB2\")\n",
    "\n",
    "# Running the inference\n",
    "result = pipe(img)[0]\n",
    "\n",
    "# Printing the result label\n",
    "print(result['label'])"
   ]
  },
  {
   "cell_type": "code",
   "execution_count": 111,
   "metadata": {},
   "outputs": [
    {
     "data": {
      "text/html": [
       "\n",
       "            <style>\n",
       "                .geemap-dark {\n",
       "                    --jp-widgets-color: white;\n",
       "                    --jp-widgets-label-color: white;\n",
       "                    --jp-ui-font-color1: white;\n",
       "                    --jp-layout-color2: #454545;\n",
       "                    background-color: #383838;\n",
       "                }\n",
       "\n",
       "                .geemap-dark .jupyter-button {\n",
       "                    --jp-layout-color3: #383838;\n",
       "                }\n",
       "\n",
       "                .geemap-colab {\n",
       "                    background-color: var(--colab-primary-surface-color, white);\n",
       "                }\n",
       "\n",
       "                .geemap-colab .jupyter-button {\n",
       "                    --jp-layout-color3: var(--colab-primary-surface-color, white);\n",
       "                }\n",
       "            </style>\n",
       "            "
      ],
      "text/plain": [
       "<IPython.core.display.HTML object>"
      ]
     },
     "metadata": {},
     "output_type": "display_data"
    }
   ],
   "source": [
    "# create a function to convert the \"ALEXANDRINE PARAKEET\", to \"Alexandrine_parakeet\" sytle\n",
    "\n",
    "def convert_label(label):\n",
    "    return label.replace(\" \", \"_\").lower()"
   ]
  },
  {
   "cell_type": "code",
   "execution_count": 113,
   "metadata": {},
   "outputs": [
    {
     "data": {
      "text/html": [
       "\n",
       "            <style>\n",
       "                .geemap-dark {\n",
       "                    --jp-widgets-color: white;\n",
       "                    --jp-widgets-label-color: white;\n",
       "                    --jp-ui-font-color1: white;\n",
       "                    --jp-layout-color2: #454545;\n",
       "                    background-color: #383838;\n",
       "                }\n",
       "\n",
       "                .geemap-dark .jupyter-button {\n",
       "                    --jp-layout-color3: #383838;\n",
       "                }\n",
       "\n",
       "                .geemap-colab {\n",
       "                    background-color: var(--colab-primary-surface-color, white);\n",
       "                }\n",
       "\n",
       "                .geemap-colab .jupyter-button {\n",
       "                    --jp-layout-color3: var(--colab-primary-surface-color, white);\n",
       "                }\n",
       "            </style>\n",
       "            "
      ],
      "text/plain": [
       "<IPython.core.display.HTML object>"
      ]
     },
     "metadata": {},
     "output_type": "display_data"
    },
    {
     "data": {
      "text/plain": [
       "'gold_wing_warbler'"
      ]
     },
     "execution_count": 113,
     "metadata": {},
     "output_type": "execute_result"
    }
   ],
   "source": [
    "convert_label('GOLD WING WARBLER')"
   ]
  },
  {
   "cell_type": "code",
   "execution_count": 119,
   "metadata": {},
   "outputs": [
    {
     "data": {
      "text/html": [
       "\n",
       "            <style>\n",
       "                .geemap-dark {\n",
       "                    --jp-widgets-color: white;\n",
       "                    --jp-widgets-label-color: white;\n",
       "                    --jp-ui-font-color1: white;\n",
       "                    --jp-layout-color2: #454545;\n",
       "                    background-color: #383838;\n",
       "                }\n",
       "\n",
       "                .geemap-dark .jupyter-button {\n",
       "                    --jp-layout-color3: #383838;\n",
       "                }\n",
       "\n",
       "                .geemap-colab {\n",
       "                    background-color: var(--colab-primary-surface-color, white);\n",
       "                }\n",
       "\n",
       "                .geemap-colab .jupyter-button {\n",
       "                    --jp-layout-color3: var(--colab-primary-surface-color, white);\n",
       "                }\n",
       "            </style>\n",
       "            "
      ],
      "text/plain": [
       "<IPython.core.display.HTML object>"
      ]
     },
     "metadata": {},
     "output_type": "display_data"
    },
    {
     "name": "stdout",
     "output_type": "stream",
     "text": [
      "No extract available\n"
     ]
    }
   ],
   "source": [
    "import requests\n",
    "\n",
    "# Define the endpoint\n",
    "endpoint = \"https://en.wikipedia.org/w/api.php\"\n",
    "\n",
    "# Define the parameters\n",
    "params = {\n",
    "    \"action\": \"query\",\n",
    "    \"format\": \"json\",\n",
    "    \n",
    "    \"titles\": \"gold-winged warbler\",\n",
    "    \"prop\": \"extracts\",\n",
    "    \"exintro\": True,\n",
    "    \"explaintext\": True\n",
    "}\n",
    "\n",
    "# Make the request\n",
    "response = requests.get(endpoint, params=params)\n",
    "\n",
    "# Parse the response\n",
    "data = response.json()\n",
    "\n",
    "# Extract the page content\n",
    "page = next(iter(data['query']['pages'].values()))\n",
    "extract = page.get('extract', 'No extract available')\n",
    "\n",
    "print(extract)"
   ]
  },
  {
   "cell_type": "code",
   "execution_count": 13,
   "metadata": {},
   "outputs": [],
   "source": [
    "import geocoder\n",
    "\n"
   ]
  },
  {
   "cell_type": "code",
   "execution_count": 14,
   "metadata": {},
   "outputs": [
    {
     "name": "stdout",
     "output_type": "stream",
     "text": [
      "[-33.8678, 151.2073]\n"
     ]
    }
   ],
   "source": [
    "import geocoder\n",
    "\n",
    "# Get the current location based on IP\n",
    "g = geocoder.ip('me')\n",
    "\n",
    "# Print coordinates\n",
    "print(g.latlng)"
   ]
  },
  {
   "cell_type": "code",
   "execution_count": 28,
   "metadata": {},
   "outputs": [
    {
     "data": {
      "text/html": [
       "\n",
       "            <style>\n",
       "                .geemap-dark {\n",
       "                    --jp-widgets-color: white;\n",
       "                    --jp-widgets-label-color: white;\n",
       "                    --jp-ui-font-color1: white;\n",
       "                    --jp-layout-color2: #454545;\n",
       "                    background-color: #383838;\n",
       "                }\n",
       "\n",
       "                .geemap-dark .jupyter-button {\n",
       "                    --jp-layout-color3: #383838;\n",
       "                }\n",
       "\n",
       "                .geemap-colab {\n",
       "                    background-color: var(--colab-primary-surface-color, white);\n",
       "                }\n",
       "\n",
       "                .geemap-colab .jupyter-button {\n",
       "                    --jp-layout-color3: var(--colab-primary-surface-color, white);\n",
       "                }\n",
       "            </style>\n",
       "            "
      ],
      "text/plain": [
       "<IPython.core.display.HTML object>"
      ]
     },
     "metadata": {},
     "output_type": "display_data"
    },
    {
     "data": {
      "application/vnd.jupyter.widget-view+json": {
       "model_id": "39b0a7753d9f43c0996804e5d97f4f87",
       "version_major": 2,
       "version_minor": 0
      },
      "text/plain": [
       "Map(center=[-33.8678, 151.2073], controls=(WidgetControl(options=['position', 'transparent_bg'], widget=Search…"
      ]
     },
     "metadata": {},
     "output_type": "display_data"
    }
   ],
   "source": [
    "lat, lon = g.latlng\n",
    "import geemap\n",
    "Map = geemap.Map(center=(lat, lon), zoom=15)\n",
    "Map"
   ]
  },
  {
   "cell_type": "code",
   "execution_count": 3,
   "metadata": {},
   "outputs": [
    {
     "name": "stderr",
     "output_type": "stream",
     "text": [
      "2025-02-02 14:37:18.215 Thread 'MainThread': missing ScriptRunContext! This warning can be ignored when running in bare mode.\n",
      "2025-02-02 14:37:18.218 Thread 'MainThread': missing ScriptRunContext! This warning can be ignored when running in bare mode.\n",
      "2025-02-02 14:37:18.219 Thread 'MainThread': missing ScriptRunContext! This warning can be ignored when running in bare mode.\n",
      "2025-02-02 14:37:18.219 Thread 'MainThread': missing ScriptRunContext! This warning can be ignored when running in bare mode.\n",
      "2025-02-02 14:37:18.221 Thread 'MainThread': missing ScriptRunContext! This warning can be ignored when running in bare mode.\n",
      "2025-02-02 14:37:18.221 Thread 'MainThread': missing ScriptRunContext! This warning can be ignored when running in bare mode.\n"
     ]
    }
   ],
   "source": [
    "# pip install streamlit-geolocation\n",
    "from streamlit_geolocation import streamlit_geolocation\n",
    "location = streamlit_geolocation()\n",
    "st.write(location)"
   ]
  },
  {
   "cell_type": "code",
   "execution_count": null,
   "metadata": {},
   "outputs": [],
   "source": [
    "import streamlit as st\n",
    "from bokeh.models.widgets import Button\n",
    "from bokeh.models import CustomJS\n",
    "from streamlit_bokeh_events import streamlit_bokeh_events\n",
    "\n",
    "loc_button = Button(label=\"Get Location\")\n",
    "loc_button.js_on_event(\"button_click\", CustomJS(code=\"\"\"\n",
    "    navigator.geolocation.getCurrentPosition(\n",
    "        (loc) => {\n",
    "            document.dispatchEvent(new CustomEvent(\"GET_LOCATION\", {detail: {lat: loc.coords.latitude, lon: loc.coords.longitude}}))\n",
    "        }\n",
    "    )\n",
    "    \"\"\"))\n",
    "result = streamlit_bokeh_events(\n",
    "    loc_button,\n",
    "    events=\"GET_LOCATION\",\n",
    "    key=\"get_location\",\n",
    "    refresh_on_update=False,\n",
    "    override_height=75,\n",
    "    debounce_time=0)"
   ]
  },
  {
   "cell_type": "code",
   "execution_count": 23,
   "metadata": {},
   "outputs": [
    {
     "data": {
      "text/html": [
       "\n",
       "            <style>\n",
       "                .geemap-dark {\n",
       "                    --jp-widgets-color: white;\n",
       "                    --jp-widgets-label-color: white;\n",
       "                    --jp-ui-font-color1: white;\n",
       "                    --jp-layout-color2: #454545;\n",
       "                    background-color: #383838;\n",
       "                }\n",
       "\n",
       "                .geemap-dark .jupyter-button {\n",
       "                    --jp-layout-color3: #383838;\n",
       "                }\n",
       "\n",
       "                .geemap-colab {\n",
       "                    background-color: var(--colab-primary-surface-color, white);\n",
       "                }\n",
       "\n",
       "                .geemap-colab .jupyter-button {\n",
       "                    --jp-layout-color3: var(--colab-primary-surface-color, white);\n",
       "                }\n",
       "            </style>\n",
       "            "
      ],
      "text/plain": [
       "<IPython.core.display.HTML object>"
      ]
     },
     "metadata": {},
     "output_type": "display_data"
    },
    {
     "name": "stderr",
     "output_type": "stream",
     "text": [
      "2025-02-01 00:44:29.865 Thread 'MainThread': missing ScriptRunContext! This warning can be ignored when running in bare mode.\n"
     ]
    },
    {
     "ename": "TypeError",
     "evalue": "'module' object is not callable",
     "output_type": "error",
     "traceback": [
      "\u001b[0;31m---------------------------------------------------------------------------\u001b[0m",
      "\u001b[0;31mTypeError\u001b[0m                                 Traceback (most recent call last)",
      "Cell \u001b[0;32mIn[23], line 2\u001b[0m\n\u001b[1;32m      1\u001b[0m \u001b[38;5;28;01mimport\u001b[39;00m \u001b[38;5;21;01mstreamlit_js_eval\u001b[39;00m\n\u001b[0;32m----> 2\u001b[0m st\u001b[38;5;241m.\u001b[39mwrite(\u001b[38;5;124mf\u001b[39m\u001b[38;5;124m\"\u001b[39m\u001b[38;5;124mScreen width is \u001b[39m\u001b[38;5;132;01m{\u001b[39;00mstreamlit_js_eval(js_expressions\u001b[38;5;241m=\u001b[39m\u001b[38;5;124m'\u001b[39m\u001b[38;5;124mscreen.width\u001b[39m\u001b[38;5;124m'\u001b[39m,\u001b[38;5;250m \u001b[39mkey\u001b[38;5;250m \u001b[39m\u001b[38;5;241m=\u001b[39m\u001b[38;5;250m \u001b[39m\u001b[38;5;124m'\u001b[39m\u001b[38;5;124mSCR\u001b[39m\u001b[38;5;124m'\u001b[39m)\u001b[38;5;132;01m}\u001b[39;00m\u001b[38;5;124m\"\u001b[39m)\n",
      "\u001b[0;31mTypeError\u001b[0m: 'module' object is not callable"
     ]
    }
   ],
   "source": [
    "import streamlit_js_eval\n",
    "st.write(f\"Screen width is {streamlit_js_eval(js_expressions='screen.width', key = 'SCR')}\")"
   ]
  },
  {
   "cell_type": "code",
   "execution_count": 25,
   "metadata": {},
   "outputs": [
    {
     "data": {
      "text/html": [
       "\n",
       "            <style>\n",
       "                .geemap-dark {\n",
       "                    --jp-widgets-color: white;\n",
       "                    --jp-widgets-label-color: white;\n",
       "                    --jp-ui-font-color1: white;\n",
       "                    --jp-layout-color2: #454545;\n",
       "                    background-color: #383838;\n",
       "                }\n",
       "\n",
       "                .geemap-dark .jupyter-button {\n",
       "                    --jp-layout-color3: #383838;\n",
       "                }\n",
       "\n",
       "                .geemap-colab {\n",
       "                    background-color: var(--colab-primary-surface-color, white);\n",
       "                }\n",
       "\n",
       "                .geemap-colab .jupyter-button {\n",
       "                    --jp-layout-color3: var(--colab-primary-surface-color, white);\n",
       "                }\n",
       "            </style>\n",
       "            "
      ],
      "text/plain": [
       "<IPython.core.display.HTML object>"
      ]
     },
     "metadata": {},
     "output_type": "display_data"
    },
    {
     "name": "stderr",
     "output_type": "stream",
     "text": [
      "2025-02-01 00:45:35.320 Thread 'MainThread': missing ScriptRunContext! This warning can be ignored when running in bare mode.\n",
      "2025-02-01 00:45:35.320 Thread 'MainThread': missing ScriptRunContext! This warning can be ignored when running in bare mode.\n",
      "2025-02-01 00:45:35.321 Thread 'MainThread': missing ScriptRunContext! This warning can be ignored when running in bare mode.\n",
      "2025-02-01 00:45:35.322 Thread 'MainThread': missing ScriptRunContext! This warning can be ignored when running in bare mode.\n"
     ]
    },
    {
     "name": "stdout",
     "output_type": "stream",
     "text": [
      "{'latitude': None, 'longitude': None, 'altitude': None, 'accuracy': None, 'altitudeAccuracy': None, 'heading': None, 'speed': None}\n"
     ]
    }
   ],
   "source": [
    "# Returns user's location after asking for permission when the user clicks the generated link with the given text\n",
    "from streamlit_geolocation import streamlit_geolocation\n",
    "\n",
    "location = streamlit_geolocation()\n",
    "print(location)"
   ]
  },
  {
   "cell_type": "code",
   "execution_count": 27,
   "metadata": {},
   "outputs": [
    {
     "data": {
      "text/html": [
       "\n",
       "            <style>\n",
       "                .geemap-dark {\n",
       "                    --jp-widgets-color: white;\n",
       "                    --jp-widgets-label-color: white;\n",
       "                    --jp-ui-font-color1: white;\n",
       "                    --jp-layout-color2: #454545;\n",
       "                    background-color: #383838;\n",
       "                }\n",
       "\n",
       "                .geemap-dark .jupyter-button {\n",
       "                    --jp-layout-color3: #383838;\n",
       "                }\n",
       "\n",
       "                .geemap-colab {\n",
       "                    background-color: var(--colab-primary-surface-color, white);\n",
       "                }\n",
       "\n",
       "                .geemap-colab .jupyter-button {\n",
       "                    --jp-layout-color3: var(--colab-primary-surface-color, white);\n",
       "                }\n",
       "            </style>\n",
       "            "
      ],
      "text/plain": [
       "<IPython.core.display.HTML object>"
      ]
     },
     "metadata": {},
     "output_type": "display_data"
    },
    {
     "name": "stdout",
     "output_type": "stream",
     "text": [
      "Christchurch, Christchurch City, Canterbury, New Zealand / Aotearoa\n",
      "Latitude =  -43.530955 \n",
      "\n",
      "Longitude =  172.6364343\n"
     ]
    }
   ],
   "source": [
    "# importing geopy library\n",
    "from geopy.geocoders import Nominatim\n",
    " \n",
    "# calling the Nominatim tool\n",
    "loc = Nominatim(user_agent=\"GetLoc\")\n",
    " \n",
    "# entering the location name\n",
    "getLoc = loc.geocode(\"christchurch\")\n",
    " \n",
    "# printing address\n",
    "print(getLoc.address)\n",
    " \n",
    "# printing latitude and longitude\n",
    "print(\"Latitude = \", getLoc.latitude, \"\\n\")\n",
    "print(\"Longitude = \", getLoc.longitude)"
   ]
  },
  {
   "cell_type": "code",
   "execution_count": 2,
   "metadata": {},
   "outputs": [
    {
     "name": "stderr",
     "output_type": "stream",
     "text": [
      "2025-02-01 01:58:56.748 WARNING streamlit.runtime.scriptrunner_utils.script_run_context: Thread 'MainThread': missing ScriptRunContext! This warning can be ignored when running in bare mode.\n"
     ]
    }
   ],
   "source": [
    "from streamlit_folium import st_folium"
   ]
  },
  {
   "cell_type": "code",
   "execution_count": 1,
   "metadata": {},
   "outputs": [
    {
     "ename": "ModuleNotFoundError",
     "evalue": "No module named 'streamlit_folium'",
     "output_type": "error",
     "traceback": [
      "\u001b[0;31m---------------------------------------------------------------------------\u001b[0m",
      "\u001b[0;31mModuleNotFoundError\u001b[0m                       Traceback (most recent call last)",
      "Cell \u001b[0;32mIn[1], line 1\u001b[0m\n\u001b[0;32m----> 1\u001b[0m \u001b[38;5;28;01mfrom\u001b[39;00m \u001b[38;5;21;01mstreamlit_folium\u001b[39;00m \u001b[38;5;28;01mimport\u001b[39;00m st_folium\n",
      "\u001b[0;31mModuleNotFoundError\u001b[0m: No module named 'streamlit_folium'"
     ]
    }
   ],
   "source": [
    "# Install the streamlit_folium package\n",
    "%pip install streamlit_folium\n",
    "\n",
    "from streamlit_folium import st_folium"
   ]
  },
  {
   "cell_type": "code",
   "execution_count": 2,
   "metadata": {},
   "outputs": [
    {
     "data": {
      "text/html": [
       "\n",
       "            <style>\n",
       "                .geemap-dark {\n",
       "                    --jp-widgets-color: white;\n",
       "                    --jp-widgets-label-color: white;\n",
       "                    --jp-ui-font-color1: white;\n",
       "                    --jp-layout-color2: #454545;\n",
       "                    background-color: #383838;\n",
       "                }\n",
       "\n",
       "                .geemap-dark .jupyter-button {\n",
       "                    --jp-layout-color3: #383838;\n",
       "                }\n",
       "\n",
       "                .geemap-colab {\n",
       "                    background-color: var(--colab-primary-surface-color, white);\n",
       "                }\n",
       "\n",
       "                .geemap-colab .jupyter-button {\n",
       "                    --jp-layout-color3: var(--colab-primary-surface-color, white);\n",
       "                }\n",
       "            </style>\n",
       "            "
      ],
      "text/plain": [
       "<IPython.core.display.HTML object>"
      ]
     },
     "metadata": {},
     "output_type": "display_data"
    },
    {
     "name": "stdout",
     "output_type": "stream",
     "text": [
      "L4001220,NZ,NZ-CAN,NZ-CAN-059,-43.2817824,172.5454009,Ashley River--Dunlops Road access,2024-09-21 11:24,42\n",
      "L1023141,NZ,NZ-CAN,NZ-CAN-059,-43.2803547,172.5793362,Ashley River--Rossitors Rd,2024-12-27 14:35,38\n",
      "L5126261,NZ,NZ-CAN,NZ-CAN-059,-43.2813294,172.6356786,Ashley River--Smarts Road,2025-01-31 16:02,46\n",
      "L523081,NZ,NZ-CAN,NZ-CAN-060,-43.5204229,172.7277374,Avon River mudflats @ Kibblewhite St,2024-12-29 20:27,48\n",
      "L1257339,NZ,NZ-CAN,NZ-CAN-060,-43.5001318,172.685667,Avon River--New Brighton Rd,2024-12-27 20:43,37\n",
      "L8597161,NZ,NZ-CAN,NZ-CAN-060,-43.5381682,172.7374619,Avon-Heathcote Estuary Ihutai--Ebbtide Street area,2025-02-03 19:30,46\n",
      "L15352477,NZ,NZ-CAN,NZ-CAN-060,-43.5307182,172.7236054,Avon-Heathcote Estuary Ihutai--Eel Trap Bay,2024-12-29 20:00,37\n",
      "L9979404,NZ,NZ-CAN,NZ-CAN-060,-43.558405,172.708853,Avon-Heathcote Estuary Ihutai--Heathcote River Bridge,2025-01-07 08:59,43\n",
      "L558750,NZ,NZ-CAN,NZ-CAN-060,-43.5541622,172.7035975,Avon-Heathcote Estuary Ihutai--Humphreys Drive Foreshore,2025-01-18 16:10,55\n",
      "L1097349,NZ,NZ-CAN,NZ-CAN-060,-43.5568991,172.7261817,Avon-Heathcote Estuary Ihutai--McCormacks Bay Reserve,2025-02-02 15:15,62\n",
      "L15352938,NZ,NZ-CAN,NZ-CAN-060,-43.5463793,172.716399,Avon-Heathcote Estuary Ihutai--Sandy Point,2025-01-15 09:40,45\n",
      "L11230171,NZ,NZ-CAN,NZ-CAN-060,-43.5299992,172.7314018,Avon-Heathcote Estuary Ihutai--South Brighton Domain,2025-01-09 19:32,54\n",
      "L1516130,NZ,NZ-CAN,NZ-CAN-060,-43.5499357,172.7040082,Avon-Heathcote Estuary Ihutai--Windsurf Car Park,2025-02-01 17:15,56\n",
      "L28802207,NZ,NZ-CAN,NZ-CAN-060,-43.5337448,172.7321724,Avon-Heathcote Estuary/Ihutai--Estuary Edge Walk,2025-01-14 14:09,44\n",
      "L3400718,NZ,NZ-CAN,NZ-CAN-060,-43.5601179,172.7479935,Avon-Heathcote Estuary/Ihutai--Southshore Spit Reserve,2025-01-28 14:57,59\n",
      "L683867,NZ,NZ-CAN,NZ-CAN-060,-43.5267359,172.7246583,Avon-Heathcote Estuary/Ihutai--northern arm,2025-01-09 16:00,55\n",
      "L554872,NZ,NZ-CAN,NZ-CAN-060,-43.5206252,172.723918,Bexley Wetland,2025-02-02 19:14,58\n",
      "L1528306,NZ,NZ-CAN,NZ-CAN-060,-43.5153346,172.7248099,Bexley Wetland--north end,2025-01-14 14:33,48\n",
      "L1071663,NZ,NZ-CAN,NZ-CAN-060,-43.531127,172.7112579,Bromley WTP,2025-01-14 15:49,63\n",
      "L1019425,NZ,NZ-CAN,NZ-CAN-060,-43.4057708,172.6984477,Brooklands -- Seafield Lagoon,2024-10-06 15:37,56\n",
      "L5078062,NZ,NZ-CAN,NZ-CAN-060,-43.4216094,172.7023745,Brooklands Lagoon,2025-01-26 14:50,60\n",
      "L5865635,NZ,NZ-CAN,NZ-CAN-060,-43.3973615,172.7024817,Brooklands Lagoon--north end,2025-01-26 15:04,58\n",
      "L31637523,NZ,NZ-CAN,NZ-CAN-060,-43.392721,172.7107349,Brooklands Spit,2024-11-24 14:11,24\n",
      "L2320851,NZ,NZ-CAN,NZ-CAN-060,-43.4845174,172.5456905,Christchurch International Airport,2025-01-25 15:33,34\n",
      "L34876575,NZ,NZ-CAN,NZ-CAN-060,-43.580912,172.616965,Christchurch — Adventure Park Wetlands,2025-01-08 18:40,35\n",
      "L32225418,NZ,NZ-CAN,NZ-CAN-060,-43.543559,172.622214,Christchurch--Addington Cemetery,2024-09-27 17:40,14\n",
      "L3437699,NZ,NZ-CAN,NZ-CAN-060,-43.5329316,172.6267147,Christchurch--Avon River (near Hospital),2025-02-02 13:43,50\n",
      "L523511,NZ,NZ-CAN,NZ-CAN-060,-43.5474283,172.7316856,Christchurch--Avon-Heathcote Estuary general (please be more site specific if possible),2025-01-09 06:25,62\n",
      "L1014703,NZ,NZ-CAN,NZ-CAN-060,-43.503889,172.7075,Christchurch--Avondale,2024-12-10 17:49,33\n",
      "L10298641,NZ,NZ-CAN,NZ-CAN-060,-43.52399,172.6460559,Christchurch--Barbadoes Street Cemetery,2025-01-17 14:11,36\n",
      "L607653,NZ,NZ-CAN,NZ-CAN-060,-43.5296646,172.6198483,Christchurch--Botanic Gardens,2025-02-03 09:10,56\n",
      "L12323480,NZ,NZ-CAN,NZ-CAN-060,-43.4632482,172.6912766,Christchurch--Bottle Lake Forest Park,2025-01-15 15:37,33\n",
      "L12108922,NZ,NZ-CAN,NZ-CAN-060,-43.5836593,172.6494739,Christchurch--Bowenvale Valley Track,2025-01-23 11:54,31\n",
      "L17857456,NZ,NZ-CAN,NZ-CAN-060,-43.5350126,172.528836,Christchurch--Carmen Reserve,2024-12-01 08:16,23\n",
      "L6354713,NZ,NZ-CAN,NZ-CAN-060,-43.5901356,172.5860363,Christchurch--Cashmere Rd ephemeral wetland,2023-11-02 15:31,30\n",
      "L558745,NZ,NZ-CAN,NZ-CAN-060,-43.5520317,172.7007222,Christchurch--Charlesworth Wetland Reserve,2025-01-11 10:35,56\n",
      "L12531064,NZ,NZ-CAN,NZ-CAN-060,-43.5924098,172.6319172,Christchurch--Christchurch Adventure Park,2025-01-16 10:33,31\n",
      "L9024946,NZ,NZ-CAN,NZ-CAN-060,-43.4901832,172.6820403,Christchurch--Clare Park Wetlands,2024-12-27 20:57,41\n",
      "L17486469,NZ,NZ-CAN,NZ-CAN-060,-43.5481536,172.5837684,Christchurch--Curletts Road stormwater basin,2024-10-31 18:11,35\n",
      "L11611832,NZ,NZ-CAN,NZ-CAN-060,-43.5201896,172.5920391,Christchurch--Fendalton Park,2023-12-28 11:23,20\n",
      "L4550819,NZ,NZ-CAN,NZ-CAN-060,-43.5670525,172.7022243,Christchurch--Ferrymead Historic Park,2024-12-08 13:41,51\n",
      "L596619,NZ,NZ-CAN,NZ-CAN-060,-43.5997557,172.5752914,Christchurch--Halswell Quarry Park,2025-01-17 13:17,52\n",
      "L11369473,NZ,NZ-CAN,NZ-CAN-060,-43.5973225,172.5848424,Christchurch--Halswell Quarry Park Crocodile Track,2023-10-09 18:38,21\n",
      "L11440382,NZ,NZ-CAN,NZ-CAN-060,-43.5993049,172.5809515,Christchurch--Halswell Quarry Park Findlays Picnic Area,2024-11-22 12:01,26\n",
      "L14631839,NZ,NZ-CAN,NZ-CAN-060,-43.5995852,172.5790859,Christchurch--Halswell Quarry Park--Mound,2024-08-24 09:45,35\n",
      "L11402521,NZ,NZ-CAN,NZ-CAN-060,-43.5609366,172.6618853,Christchurch--Hansen Park,2024-12-15 13:34,38\n",
      "L9101129,NZ,NZ-CAN,NZ-CAN-060,-43.6001875,172.642963,Christchurch--Harry Ell Walkway,2025-01-19 17:40,26\n",
      "L596339,NZ,NZ-CAN,NZ-CAN-060,-43.4951489,172.6738787,Christchurch--Horseshoe Lake Reserve,2024-12-15 14:05,47\n",
      "L10267713,NZ,NZ-CAN,NZ-CAN-060,-43.5239848,172.5769417,Christchurch--Ilam Gardens,2024-10-16 10:14,27\n",
      "L11229088,NZ,NZ-CAN,NZ-CAN-060,-43.5143225,172.5931677,Christchurch--Jeffreys Park,2025-01-22 10:46,18\n",
      "L11276860,NZ,NZ-CAN,NZ-CAN-060,-43.5079524,172.5817269,Christchurch--Jellie Park,2024-10-26 16:50,24\n",
      "L27855076,NZ,NZ-CAN,NZ-CAN-060,-43.5569751,172.7167886,Christchurch--King Park,2025-02-04 15:30,40\n",
      "L5213645,NZ,NZ-CAN,NZ-CAN-060,-43.4991684,172.7019346,Christchurch--Lake Kate Sheppard,2025-01-27 18:55,43\n",
      "L9153296,NZ,NZ-CAN,NZ-CAN-060,-43.547755,172.6975391,Christchurch--Linwood Canal,2025-01-24 12:37,44\n",
      "L4752315,NZ,NZ-CAN,NZ-CAN-060,-43.5447418,172.7032113,Christchurch--Linwood Paddocks,2024-12-14 09:24,49\n",
      "L10572785,NZ,NZ-CAN,NZ-CAN-060,-43.5592414,172.7023713,Christchurch--Lower Heathcote Estuary,2025-01-20 14:14,56\n",
      "L27756977,NZ,NZ-CAN,NZ-CAN-060,-43.5688304,172.7044033,Christchurch--Matuku Lakes,2025-01-30 10:40,48\n",
      "L29036673,NZ,NZ-CAN,NZ-CAN-060,-43.5233481,172.6081753,Christchurch--Mona Vale Garden Park,2025-01-19 08:00,27\n",
      "L17611837,NZ,NZ-CAN,NZ-CAN-060,-43.57108,172.661736,Christchurch--Mount Vernon Park,2024-10-21 17:27,29\n",
      "L21616054,NZ,NZ-CAN,NZ-CAN-060,-43.5556103,172.5428366,Christchurch--Mustang Flood Ponds,2023-08-17 15:17,16\n",
      "L7785151,NZ,NZ-CAN,NZ-CAN-060,-43.5065353,172.731861,Christchurch--New Brighton beach,2024-12-04 18:11,42\n",
      "L1093566,NZ,NZ-CAN,NZ-CAN-060,-43.4664802,172.463042,Christchurch--Orana Wildlife Trust,2025-01-17 17:34,48\n",
      "L16062194,NZ,NZ-CAN,NZ-CAN-060,-43.4670094,172.5242312,Christchurch--Peacock Springs (restricted access),2024-05-13 09:22,31\n",
      "L3480419,NZ,NZ-CAN,NZ-CAN-060,-43.448269,172.5964701,Christchurch--Pepper's Clearwater Resort,2024-10-24 18:43,32\n",
      "L1357600,NZ,NZ-CAN,NZ-CAN-060,-43.5278946,172.5959791,Christchurch--Riccarton Bush,2025-01-20 14:39,44\n",
      "L5749005,NZ,NZ-CAN,NZ-CAN-060,-43.4636661,172.5731134,Christchurch--Roto Kohatu,2025-01-19 16:58,50\n",
      "L8601530,NZ,NZ-CAN,NZ-CAN-060,-43.53468,172.73578,Christchurch--South Brighton Holiday Park,2025-01-09 12:20,39\n",
      "L12076906,NZ,NZ-CAN,NZ-CAN-060,-43.5730818,172.5910275,Christchurch--Sparks Road Wetland,2025-01-25 16:31,40\n",
      "L7785253,NZ,NZ-CAN,NZ-CAN-060,-43.5704024,172.7631855,Christchurch--Sumner Beach,2025-01-23 09:06,50\n",
      "L6217756,NZ,NZ-CAN,NZ-CAN-060,-43.5829115,172.7759453,Christchurch--Taylors Mistake Beach,2025-01-10 13:11,37\n",
      "L1227665,NZ,NZ-CAN,NZ-CAN-060,-43.449928,172.6044846,Christchurch--The Groynes,2025-02-01 12:12,46\n",
      "L563061,NZ,NZ-CAN,NZ-CAN-060,-43.4864623,172.6940448,Christchurch--Travis Wetland/Ōruapaeroa (general),2025-01-31 09:30,72\n",
      "L2508000,NZ,NZ-CAN,NZ-CAN-060,-43.5900896,172.6430655,Christchurch--Victoria Park,2025-01-30 20:02,39\n",
      "L4490312,NZ,NZ-CAN,NZ-CAN-060,-43.553929,172.5775552,Christchurch--Wigram Retention Basin,2025-01-29 12:28,57\n",
      "L6514864,NZ,NZ-CAN,NZ-CAN-060,-43.4635556,172.5940556,Christchurch--Willowbank Wildlife Reserve,2025-01-18 11:15,42\n",
      "L11120308,NZ,NZ-CAN,NZ-CAN-060,-43.5283846,172.6378167,Christchurch--former Armagh Street gull colony (historical submissions only),2025-01-26 17:31,29\n",
      "L17559232,NZ,NZ-CAN,NZ-CAN-060,-43.5640257,172.633241,Christchurch—Ernle Clark Reserve,2025-01-23 13:12,40\n",
      "L1328639,NZ,NZ-CAN,NZ-CAN-060,-43.4258172,172.6231578,Coutts Island,2024-02-16 14:10,35\n",
      "L19524239,NZ,NZ-CAN,NZ-CAN-060,-43.6234193,172.7415118,Diamond Harbour--Stoddart Point Reserve,2025-01-10 18:02,44\n",
      "L2482958,NZ,NZ-CAN,NZ-CAN-060,-43.588523,172.7990456,Godley Head,2025-02-01 12:23,64\n",
      "L8524320,NZ,NZ-CAN,NZ-CAN-060,-43.5273991,172.622333,Hagley Park--Victoria Lake,2025-01-26 15:26,45\n",
      "L8348176,NZ,NZ-CAN,NZ-CAN-060,-43.591543,172.5563963,Halswell--Creamery Reserve,2025-01-28 09:22,43\n",
      "L3251832,NZ,NZ-CAN,NZ-CAN-060,-43.5704368,172.5544572,Halswell--Westlake Reserve Ponds,2025-01-31 15:37,45\n",
      "L10941373,NZ,NZ-CAN,NZ-CAN-060,-43.5530006,172.6852405,Heathcote River @ Rutherford Street bridge,2025-01-20 13:02,39\n",
      "L3937474,NZ,NZ-CAN,NZ-CAN-059,-43.2857955,172.5039071,\"Hillcrest Rd, Fernside\",2024-04-27 14:35,22\n",
      "L1489273,NZ,NZ-CAN,NZ-CAN-059,-43.3613239,172.6625945,Kaiapoi Lakes--South Pond,2025-01-13 13:41,51\n",
      "L11753844,NZ,NZ-CAN,NZ-CAN-059,-43.3829581,172.6580701,Kaiapoi--Kaiapoi River precinct,2025-01-17 15:19,44\n",
      "L1227824,NZ,NZ-CAN,NZ-CAN-059,-43.3868364,172.7090263,Kairaki--Waimakariri River Mouth ,2025-01-06 17:01,50\n",
      "L9667472,NZ,NZ-CAN,NZ-CAN-060,-43.6028143,172.5837929,Kennedys Bush Rd,2024-05-12 15:14,25\n",
      "L5146144,NZ,NZ-CAN,NZ-CAN-062,-43.6322237,172.6249981,Kennedys Bush--Sign of the Bellbird,2025-02-03 07:46,32\n",
      "L12271046,NZ,NZ-CAN,NZ-CAN-059,-43.3087867,172.69553,Lake Pegasus,2025-02-02 11:18,51\n",
      "L7785176,NZ,NZ-CAN,NZ-CAN-062,-43.6436842,172.467767,Lincoln University,2024-09-24 16:00,33\n",
      "L4955097,NZ,NZ-CAN,NZ-CAN-062,-43.650671,172.50234,Lincoln Wetlands,2025-01-16 15:20,53\n",
      "L3761859,NZ,NZ-CAN,NZ-CAN-062,-43.6343751,172.4869823,Lincoln--Mahoe Reserve,2025-02-01 20:41,24\n",
      "L599604,NZ,NZ-CAN,NZ-CAN-060,-43.6522705,172.6357913,Living Springs Centre,2024-02-08 12:19,29\n",
      "L3887328,NZ,NZ-CAN,NZ-CAN-060,-43.641002,172.6511121,Lyttelton Harbour--Allandale,2025-01-21 19:14,48\n",
      "L19754326,NZ,NZ-CAN,NZ-CAN-060,-43.6602302,172.6692815,Lyttelton Harbour--Head of the Bay,2025-01-15 20:08,32\n",
      "L10009229,NZ,NZ-CAN,NZ-CAN-060,-43.6031067,172.7224431,Lyttelton--town and waterfront,2025-01-25 09:48,45\n",
      "L1575575,NZ,NZ-CAN,NZ-CAN-060,-43.5258732,172.626255,North Hagley Park,2025-01-31 19:55,47\n",
      "L5146148,NZ,NZ-CAN,NZ-CAN-062,-43.6631529,172.6214361,Omahu Bush Reserve,2024-09-12 18:15,25\n",
      "L3571697,NZ,NZ-CAN,NZ-CAN-060,-43.6617481,172.7148682,Orton Bradley Park,2025-01-15 19:13,40\n",
      "L1795874,NZ,NZ-CAN,NZ-CAN-060,-43.4337828,172.6447392,Otukaikino Reserve,2024-12-27 12:31,44\n",
      "L14653905,NZ,NZ-CAN,NZ-CAN-059,-43.3144884,172.6935564,Pegasus (General-please use specific sites if possible),2024-06-30 14:28,37\n",
      "L12230293,NZ,NZ-CAN,NZ-CAN-059,-43.315204,172.7142419,Pegasus Beach,2024-12-30 15:22,33\n",
      "L11771031,NZ,NZ-CAN,NZ-CAN-059,-43.3133521,172.6829338,Pegasus Golf & Sports Club,2024-12-04 16:59,33\n",
      "L2809218,NZ,NZ-CAN,NZ-CAN-059,-43.3127281,172.7012587,Pegasus Wetland,2025-02-02 11:29,63\n",
      "L4919431,NZ,NZ-CAN,NZ-CAN-059,-43.3045067,172.7049494,Pegasus Wetlands N of Tiritiri Moana Dr,2025-02-02 11:47,60\n",
      "L11751127,NZ,NZ-CAN,NZ-CAN-059,-43.3213767,172.6913945,Pegasus--Gladstone Park,2023-12-16 19:37,32\n",
      "L25619040,NZ,NZ-CAN,NZ-CAN-059,-43.3118681,172.688369,Pegasus--Kaitiritiri Ridge,2023-12-16 18:25,24\n",
      "L521319,NZ,NZ-CAN,NZ-CAN-060,-43.6289,172.6971,Quail Island,2025-02-04 09:41,51\n",
      "L970761,NZ,NZ-CAN,NZ-CAN-059,-43.2819959,172.5912552,Rangiora--Mike Kean walkway,2025-01-15 16:00,44\n",
      "L558004,NZ,NZ-CAN,NZ-CAN-059,-43.3151866,172.5814819,Rangiora--Northbrook Ponds,2023-07-25 12:44,41\n",
      "L12549402,NZ,NZ-CAN,NZ-CAN-059,-43.3115663,172.6051813,Rangiora--Northbrook Wetlands,2025-01-30 19:55,41\n",
      "L9071189,NZ,NZ-CAN,NZ-CAN-060,-43.6060115,172.6495079,Rapaki--Mitchell’s Track,2024-09-29 19:07,25\n",
      "L14905135,NZ,NZ-CAN,NZ-CAN-059,-43.3059058,172.6711835,Ravenswood--Kesteven Place Wetland,2025-02-02 17:45,51\n",
      "L24386738,NZ,NZ-CAN,NZ-CAN-059,-43.3109335,172.6639171,Ravenswood--Woodford Avenue Creek,2024-12-04 16:14,28\n",
      "L28905308,NZ,NZ-CAN,NZ-CAN-060,-43.5304035,172.5423982,Riccarton Park,2024-12-01 12:15,24\n",
      "L8782672,NZ,NZ-CAN,NZ-CAN-062,-43.5949391,172.3818831,Rolleston Reserve,2025-01-24 07:14,15\n",
      "L12675365,NZ,NZ-CAN,NZ-CAN-059,-43.4117457,172.6041123,Silverstream Reserve,2024-10-20 11:39,29\n",
      "L12812546,NZ,NZ-CAN,NZ-CAN-060,-43.5353319,172.617367,South Hagley Park,2025-01-10 17:04,42\n",
      "L2484336,NZ,NZ-CAN,NZ-CAN-060,-43.4653215,172.6084621,Styx Mill Walkway,2025-01-31 11:00,59\n",
      "L23130967,NZ,NZ-CAN,NZ-CAN-060,-43.588283,172.59343,\"Te Kuru Wetlands, Christchurch NZ-Canterbury\",2024-12-28 11:20,42\n",
      "L27844831,NZ,NZ-CAN,NZ-CAN-062,-43.6976422,172.5414442,Te Pae o Ahuriri,2024-11-22 17:44,38\n",
      "L1516132,NZ,NZ-CAN,NZ-CAN-060,-43.4852527,172.6971174,Travis Wetland--New Pond,2025-02-02 09:59,61\n",
      "L19884089,NZ,NZ-CAN,NZ-CAN-060,-43.4893921,172.6939784,Travis Wetland/Ōruapaeroa--Angela Stream,2024-12-30 19:50,43\n",
      "L19898856,NZ,NZ-CAN,NZ-CAN-060,-43.4882085,172.6963129,Travis Wetland/Ōruapaeroa--Stockyard Scape,2025-02-02 09:41,51\n",
      "L19884259,NZ,NZ-CAN,NZ-CAN-060,-43.4870806,172.6875392,Travis Wetland/Ōruapaeroa--Western Edge,2024-12-30 20:05,41\n",
      "L28021654,NZ,NZ-CAN,NZ-CAN-060,-43.4926627,172.7002532,Travis Wetland/Ōruapaeroa--roundabout pond,2025-01-16 09:56,36\n",
      "L2415037,NZ,NZ-CAN,NZ-CAN-059,-43.3365702,172.7036941,Tutaepatu Trail & Lagoon,2024-10-16 12:05,47\n",
      "L11106122,NZ,NZ-CAN,NZ-CAN-060,-43.601146,172.731354,Uramau Reserve Saddle Lookout,2025-01-28 10:33,23\n",
      "L25645251,NZ,NZ-CAN,NZ-CAN-060,-43.466851,172.716554,Waimairi Beach Park--Northern Ponds,2024-11-25 10:52,36\n",
      "L11660777,NZ,NZ-CAN,NZ-CAN-059,-43.3879738,172.6890424,Waimakariri River Mouth--McIntoshs & southern Kaiapoi Oxidation Ponds,2025-01-31 18:30,54\n",
      "L1179103,NZ,NZ-CAN,NZ-CAN-059,-43.4141042,172.6469064,Waimakariri River nr Hwy 1,2024-11-27 17:40,35\n",
      "L23218177,NZ,NZ-CAN,NZ-CAN-060,-43.4376377,172.5607549,Waimakariri River--Bailes Island,2024-12-23 14:14,35\n",
      "L3118398,NZ,NZ-CAN,NZ-CAN-059,-43.3845324,172.5593939,\"Whites Rd Reserve, Ohoka\",2025-01-30 15:53,44\n",
      "L15497756,NZ,NZ-CAN,NZ-CAN-059,-43.3381565,172.7107559,Woodend Beach,2024-11-12 15:11,30\n",
      "\n"
     ]
    }
   ],
   "source": [
    "import requests\n",
    "\n",
    "# Replace these with actual latitude and longitude values\n",
    "lat = -43.50\n",
    "lng = 172.58\n",
    "\n",
    "url = f\"https://api.ebird.org/v2/ref/hotspot/geo?lat={lat}&lng={lng}\"\n",
    "\n",
    "payload = {}\n",
    "headers = {\n",
    "    'X-eBirdApiToken': 'aqf69iukjcqs'  # Replace 'YOUR_API_KEY' with your actual eBird API key\n",
    "}\n",
    "\n",
    "response = requests.request(\"GET\", url, headers=headers, data=payload)\n",
    "\n",
    "print(response.text)"
   ]
  },
  {
   "cell_type": "code",
   "execution_count": 12,
   "metadata": {},
   "outputs": [
    {
     "name": "stdout",
     "output_type": "stream",
     "text": [
      "L4001220,NZ,NZ-CAN,NZ-CAN-059,-43.2817824,172.5454009,Ashley River--Dunlops Road access,2024-09-21 11:24,42\n",
      "L1023141,NZ,NZ-CAN,NZ-CAN-059,-43.2803547,172.5793362,Ashley River--Rossitors Rd,2024-12-27 14:35,38\n",
      "L5126261,NZ,NZ-CAN,NZ-CAN-059,-43.2813294,172.6356786,Ashley River--Smarts Road,2025-01-31 16:02,46\n",
      "L523081,NZ,NZ-CAN,NZ-CAN-060,-43.5204229,172.7277374,Avon River mudflats @ Kibblewhite St,2024-12-29 20:27,48\n",
      "L1257339,NZ,NZ-CAN,NZ-CAN-060,-43.5001318,172.685667,Avon River--New Brighton Rd,2024-12-27 20:43,37\n",
      "L8597161,NZ,NZ-CAN,NZ-CAN-060,-43.5381682,172.7374619,Avon-Heathcote Estuary Ihutai--Ebbtide Street area,2025-01-10 21:15,46\n",
      "L15352477,NZ,NZ-CAN,NZ-CAN-060,-43.5307182,172.7236054,Avon-Heathcote Estuary Ihutai--Eel Trap Bay,2024-12-29 20:00,37\n",
      "L9979404,NZ,NZ-CAN,NZ-CAN-060,-43.558405,172.708853,Avon-Heathcote Estuary Ihutai--Heathcote River Bridge,2025-01-07 08:59,43\n",
      "L558750,NZ,NZ-CAN,NZ-CAN-060,-43.5541622,172.7035975,Avon-Heathcote Estuary Ihutai--Humphreys Drive Foreshore,2025-01-18 16:10,55\n",
      "L1097349,NZ,NZ-CAN,NZ-CAN-060,-43.5568991,172.7261817,Avon-Heathcote Estuary Ihutai--McCormacks Bay Reserve,2025-01-26 16:05,62\n",
      "L15352938,NZ,NZ-CAN,NZ-CAN-060,-43.5463793,172.716399,Avon-Heathcote Estuary Ihutai--Sandy Point,2025-01-15 09:40,45\n",
      "L11230171,NZ,NZ-CAN,NZ-CAN-060,-43.5299992,172.7314018,Avon-Heathcote Estuary Ihutai--South Brighton Domain,2025-01-09 19:32,54\n",
      "L1516130,NZ,NZ-CAN,NZ-CAN-060,-43.5499357,172.7040082,Avon-Heathcote Estuary Ihutai--Windsurf Car Park,2025-01-08 17:25,56\n",
      "L28802207,NZ,NZ-CAN,NZ-CAN-060,-43.5337448,172.7321724,Avon-Heathcote Estuary/Ihutai--Estuary Edge Walk,2025-01-14 14:09,44\n",
      "L3400718,NZ,NZ-CAN,NZ-CAN-060,-43.5601179,172.7479935,Avon-Heathcote Estuary/Ihutai--Southshore Spit Reserve,2025-01-28 14:57,59\n",
      "L683867,NZ,NZ-CAN,NZ-CAN-060,-43.5267359,172.7246583,Avon-Heathcote Estuary/Ihutai--northern arm,2025-01-09 16:00,55\n",
      "L554872,NZ,NZ-CAN,NZ-CAN-060,-43.5206252,172.723918,Bexley Wetland,2025-01-09 17:49,58\n",
      "L1528306,NZ,NZ-CAN,NZ-CAN-060,-43.5153346,172.7248099,Bexley Wetland--north end,2025-01-14 14:33,48\n",
      "L1071663,NZ,NZ-CAN,NZ-CAN-060,-43.531127,172.7112579,Bromley WTP,2025-01-14 15:49,63\n",
      "L1019425,NZ,NZ-CAN,NZ-CAN-060,-43.4057708,172.6984477,Brooklands -- Seafield Lagoon,2024-10-06 15:37,56\n",
      "L5078062,NZ,NZ-CAN,NZ-CAN-060,-43.4216094,172.7023745,Brooklands Lagoon,2025-01-26 14:50,60\n",
      "L5865635,NZ,NZ-CAN,NZ-CAN-060,-43.3973615,172.7024817,Brooklands Lagoon--north end,2025-01-26 15:04,58\n",
      "L31637523,NZ,NZ-CAN,NZ-CAN-060,-43.392721,172.7107349,Brooklands Spit,2024-11-24 14:11,24\n",
      "L2320851,NZ,NZ-CAN,NZ-CAN-060,-43.4845174,172.5456905,Christchurch International Airport,2025-01-25 15:33,34\n",
      "L34876575,NZ,NZ-CAN,NZ-CAN-060,-43.580912,172.616965,Christchurch — Adventure Park Wetlands,2025-01-08 18:40,35\n",
      "L32225418,NZ,NZ-CAN,NZ-CAN-060,-43.543559,172.622214,Christchurch--Addington Cemetery,2024-09-27 17:40,14\n",
      "L3437699,NZ,NZ-CAN,NZ-CAN-060,-43.5329316,172.6267147,Christchurch--Avon River (near Hospital),2025-01-31 10:58,49\n",
      "L523511,NZ,NZ-CAN,NZ-CAN-060,-43.5474283,172.7316856,Christchurch--Avon-Heathcote Estuary general (please be more site specific if possible),2025-01-09 06:25,62\n",
      "L1014703,NZ,NZ-CAN,NZ-CAN-060,-43.503889,172.7075,Christchurch--Avondale,2024-12-10 17:49,33\n",
      "L10298641,NZ,NZ-CAN,NZ-CAN-060,-43.52399,172.6460559,Christchurch--Barbadoes Street Cemetery,2025-01-17 14:11,36\n",
      "L607653,NZ,NZ-CAN,NZ-CAN-060,-43.5296646,172.6198483,Christchurch--Botanic Gardens,2025-01-31 17:12,56\n",
      "L12323480,NZ,NZ-CAN,NZ-CAN-060,-43.4632482,172.6912766,Christchurch--Bottle Lake Forest Park,2025-01-15 15:37,33\n",
      "L12108922,NZ,NZ-CAN,NZ-CAN-060,-43.5836593,172.6494739,Christchurch--Bowenvale Valley Track,2025-01-23 11:54,31\n",
      "L17857456,NZ,NZ-CAN,NZ-CAN-060,-43.5350126,172.528836,Christchurch--Carmen Reserve,2024-12-01 08:16,23\n",
      "L6354713,NZ,NZ-CAN,NZ-CAN-060,-43.5901356,172.5860363,Christchurch--Cashmere Rd ephemeral wetland,2023-11-02 15:31,30\n",
      "L558745,NZ,NZ-CAN,NZ-CAN-060,-43.5520317,172.7007222,Christchurch--Charlesworth Wetland Reserve,2025-01-11 10:35,56\n",
      "L12531064,NZ,NZ-CAN,NZ-CAN-060,-43.5924098,172.6319172,Christchurch--Christchurch Adventure Park,2025-01-16 10:33,31\n",
      "L9024946,NZ,NZ-CAN,NZ-CAN-060,-43.4901832,172.6820403,Christchurch--Clare Park Wetlands,2024-12-27 20:57,41\n",
      "L17486469,NZ,NZ-CAN,NZ-CAN-060,-43.5481536,172.5837684,Christchurch--Curletts Road stormwater basin,2024-10-31 18:11,35\n",
      "L11611832,NZ,NZ-CAN,NZ-CAN-060,-43.5201896,172.5920391,Christchurch--Fendalton Park,2023-12-28 11:23,20\n",
      "L4550819,NZ,NZ-CAN,NZ-CAN-060,-43.5670525,172.7022243,Christchurch--Ferrymead Historic Park,2024-12-08 13:41,51\n",
      "L596619,NZ,NZ-CAN,NZ-CAN-060,-43.5997557,172.5752914,Christchurch--Halswell Quarry Park,2025-01-17 13:17,52\n",
      "L11369473,NZ,NZ-CAN,NZ-CAN-060,-43.5973225,172.5848424,Christchurch--Halswell Quarry Park Crocodile Track,2023-10-09 18:38,21\n",
      "L11440382,NZ,NZ-CAN,NZ-CAN-060,-43.5993049,172.5809515,Christchurch--Halswell Quarry Park Findlays Picnic Area,2024-11-22 12:01,26\n",
      "L14631839,NZ,NZ-CAN,NZ-CAN-060,-43.5995852,172.5790859,Christchurch--Halswell Quarry Park--Mound,2024-08-24 09:45,35\n",
      "L11402521,NZ,NZ-CAN,NZ-CAN-060,-43.5609366,172.6618853,Christchurch--Hansen Park,2024-12-15 13:34,38\n",
      "L9101129,NZ,NZ-CAN,NZ-CAN-060,-43.6001875,172.642963,Christchurch--Harry Ell Walkway,2025-01-19 17:40,26\n",
      "L596339,NZ,NZ-CAN,NZ-CAN-060,-43.4951489,172.6738787,Christchurch--Horseshoe Lake Reserve,2024-12-15 14:05,47\n",
      "L10267713,NZ,NZ-CAN,NZ-CAN-060,-43.5239848,172.5769417,Christchurch--Ilam Gardens,2024-10-16 10:14,27\n",
      "L11229088,NZ,NZ-CAN,NZ-CAN-060,-43.5143225,172.5931677,Christchurch--Jeffreys Park,2025-01-22 10:46,18\n",
      "L11276860,NZ,NZ-CAN,NZ-CAN-060,-43.5079524,172.5817269,Christchurch--Jellie Park,2024-10-26 16:50,24\n",
      "L27855076,NZ,NZ-CAN,NZ-CAN-060,-43.5569751,172.7167886,Christchurch--King Park,2025-01-27 18:56,40\n",
      "L5213645,NZ,NZ-CAN,NZ-CAN-060,-43.4991684,172.7019346,Christchurch--Lake Kate Sheppard,2025-01-27 18:55,43\n",
      "L9153296,NZ,NZ-CAN,NZ-CAN-060,-43.547755,172.6975391,Christchurch--Linwood Canal,2025-01-24 12:37,44\n",
      "L4752315,NZ,NZ-CAN,NZ-CAN-060,-43.5447418,172.7032113,Christchurch--Linwood Paddocks,2024-12-14 09:24,49\n",
      "L10572785,NZ,NZ-CAN,NZ-CAN-060,-43.5592414,172.7023713,Christchurch--Lower Heathcote Estuary,2025-01-20 14:14,56\n",
      "L27756977,NZ,NZ-CAN,NZ-CAN-060,-43.5688304,172.7044033,Christchurch--Matuku Lakes,2025-01-30 10:40,48\n",
      "L29036673,NZ,NZ-CAN,NZ-CAN-060,-43.5233481,172.6081753,Christchurch--Mona Vale Garden Park,2025-01-19 08:00,27\n",
      "L17611837,NZ,NZ-CAN,NZ-CAN-060,-43.57108,172.661736,Christchurch--Mount Vernon Park,2024-10-21 17:27,29\n",
      "L21616054,NZ,NZ-CAN,NZ-CAN-060,-43.5556103,172.5428366,Christchurch--Mustang Flood Ponds,2023-08-17 15:17,16\n",
      "L7785151,NZ,NZ-CAN,NZ-CAN-060,-43.5065353,172.731861,Christchurch--New Brighton beach,2024-12-04 18:11,42\n",
      "L1093566,NZ,NZ-CAN,NZ-CAN-060,-43.4664802,172.463042,Christchurch--Orana Wildlife Trust,2025-01-17 17:34,48\n",
      "L16062194,NZ,NZ-CAN,NZ-CAN-060,-43.4670094,172.5242312,Christchurch--Peacock Springs (restricted access),2024-05-13 09:22,31\n",
      "L3480419,NZ,NZ-CAN,NZ-CAN-060,-43.448269,172.5964701,Christchurch--Pepper's Clearwater Resort,2024-10-24 18:43,32\n",
      "L1357600,NZ,NZ-CAN,NZ-CAN-060,-43.5278946,172.5959791,Christchurch--Riccarton Bush,2025-01-20 14:39,44\n",
      "L5749005,NZ,NZ-CAN,NZ-CAN-060,-43.4636661,172.5731134,Christchurch--Roto Kohatu,2025-01-19 16:58,50\n",
      "L8601530,NZ,NZ-CAN,NZ-CAN-060,-43.53468,172.73578,Christchurch--South Brighton Holiday Park,2025-01-09 12:20,39\n",
      "L12076906,NZ,NZ-CAN,NZ-CAN-060,-43.5730818,172.5910275,Christchurch--Sparks Road Wetland,2025-01-25 16:31,40\n",
      "L7785253,NZ,NZ-CAN,NZ-CAN-060,-43.5704024,172.7631855,Christchurch--Sumner Beach,2025-01-23 09:06,50\n",
      "L6217756,NZ,NZ-CAN,NZ-CAN-060,-43.5829115,172.7759453,Christchurch--Taylors Mistake Beach,2025-01-10 13:11,37\n",
      "L1227665,NZ,NZ-CAN,NZ-CAN-060,-43.449928,172.6044846,Christchurch--The Groynes,2025-01-15 13:32,46\n",
      "L563061,NZ,NZ-CAN,NZ-CAN-060,-43.4864623,172.6940448,Christchurch--Travis Wetland/Ōruapaeroa (general),2025-01-31 09:30,72\n",
      "L2508000,NZ,NZ-CAN,NZ-CAN-060,-43.5900896,172.6430655,Christchurch--Victoria Park,2025-01-30 20:02,39\n",
      "L4490312,NZ,NZ-CAN,NZ-CAN-060,-43.553929,172.5775552,Christchurch--Wigram Retention Basin,2024-12-21 11:21,57\n",
      "L6514864,NZ,NZ-CAN,NZ-CAN-060,-43.4635556,172.5940556,Christchurch--Willowbank Wildlife Reserve,2025-01-18 11:15,42\n",
      "L11120308,NZ,NZ-CAN,NZ-CAN-060,-43.5283846,172.6378167,Christchurch--former Armagh Street gull colony (historical submissions only),2025-01-26 17:31,29\n",
      "L17559232,NZ,NZ-CAN,NZ-CAN-060,-43.5640257,172.633241,Christchurch—Ernle Clark Reserve,2025-01-23 13:12,40\n",
      "L1328639,NZ,NZ-CAN,NZ-CAN-060,-43.4258172,172.6231578,Coutts Island,2024-02-16 14:10,35\n",
      "L19524239,NZ,NZ-CAN,NZ-CAN-060,-43.6234193,172.7415118,Diamond Harbour--Stoddart Point Reserve,2024-10-05 14:39,43\n",
      "L2482958,NZ,NZ-CAN,NZ-CAN-060,-43.588523,172.7990456,Godley Head,2025-01-29 10:47,64\n",
      "L8524320,NZ,NZ-CAN,NZ-CAN-060,-43.5273991,172.622333,Hagley Park--Victoria Lake,2025-01-26 15:26,45\n",
      "L8348176,NZ,NZ-CAN,NZ-CAN-060,-43.591543,172.5563963,Halswell--Creamery Reserve,2025-01-28 09:22,43\n",
      "L3251832,NZ,NZ-CAN,NZ-CAN-060,-43.5704368,172.5544572,Halswell--Westlake Reserve Ponds,2025-01-31 15:37,45\n",
      "L10941373,NZ,NZ-CAN,NZ-CAN-060,-43.5530006,172.6852405,Heathcote River @ Rutherford Street bridge,2025-01-20 13:02,39\n",
      "L3937474,NZ,NZ-CAN,NZ-CAN-059,-43.2857955,172.5039071,\"Hillcrest Rd, Fernside\",2024-04-27 14:35,22\n",
      "L1489273,NZ,NZ-CAN,NZ-CAN-059,-43.3613239,172.6625945,Kaiapoi Lakes--South Pond,2025-01-13 13:41,51\n",
      "L11753844,NZ,NZ-CAN,NZ-CAN-059,-43.3829581,172.6580701,Kaiapoi--Kaiapoi River precinct,2025-01-17 15:19,44\n",
      "L1227824,NZ,NZ-CAN,NZ-CAN-059,-43.3868364,172.7090263,Kairaki--Waimakariri River Mouth ,2025-01-06 17:01,50\n",
      "L9667472,NZ,NZ-CAN,NZ-CAN-060,-43.6028143,172.5837929,Kennedys Bush Rd,2024-05-12 15:14,25\n",
      "L5146144,NZ,NZ-CAN,NZ-CAN-062,-43.6322237,172.6249981,Kennedys Bush--Sign of the Bellbird,2025-01-26 08:28,32\n",
      "L12271046,NZ,NZ-CAN,NZ-CAN-059,-43.3087867,172.69553,Lake Pegasus,2025-01-26 16:17,51\n",
      "L7785176,NZ,NZ-CAN,NZ-CAN-062,-43.6436842,172.467767,Lincoln University,2024-09-24 16:00,33\n",
      "L4955097,NZ,NZ-CAN,NZ-CAN-062,-43.650671,172.50234,Lincoln Wetlands,2025-01-16 15:20,53\n",
      "L3761859,NZ,NZ-CAN,NZ-CAN-062,-43.6343751,172.4869823,Lincoln--Mahoe Reserve,2024-11-27 13:44,24\n",
      "L599604,NZ,NZ-CAN,NZ-CAN-060,-43.6522705,172.6357913,Living Springs Centre,2024-02-08 12:19,29\n",
      "L3887328,NZ,NZ-CAN,NZ-CAN-060,-43.641002,172.6511121,Lyttelton Harbour--Allandale,2025-01-21 19:14,48\n",
      "L19754326,NZ,NZ-CAN,NZ-CAN-060,-43.6602302,172.6692815,Lyttelton Harbour--Head of the Bay,2025-01-15 20:08,32\n",
      "L10009229,NZ,NZ-CAN,NZ-CAN-060,-43.6031067,172.7224431,Lyttelton--town and waterfront,2025-01-25 09:48,45\n",
      "L1575575,NZ,NZ-CAN,NZ-CAN-060,-43.5258732,172.626255,North Hagley Park,2025-01-31 19:55,47\n",
      "L5146148,NZ,NZ-CAN,NZ-CAN-062,-43.6631529,172.6214361,Omahu Bush Reserve,2024-09-12 18:15,25\n",
      "L3571697,NZ,NZ-CAN,NZ-CAN-060,-43.6617481,172.7148682,Orton Bradley Park,2025-01-15 19:13,40\n",
      "L1795874,NZ,NZ-CAN,NZ-CAN-060,-43.4337828,172.6447392,Otukaikino Reserve,2024-12-27 12:31,44\n",
      "L14653905,NZ,NZ-CAN,NZ-CAN-059,-43.3144884,172.6935564,Pegasus (General-please use specific sites if possible),2024-06-30 14:28,37\n",
      "L12230293,NZ,NZ-CAN,NZ-CAN-059,-43.315204,172.7142419,Pegasus Beach,2024-12-30 15:22,33\n",
      "L11771031,NZ,NZ-CAN,NZ-CAN-059,-43.3133521,172.6829338,Pegasus Golf & Sports Club,2024-12-04 16:59,33\n",
      "L2809218,NZ,NZ-CAN,NZ-CAN-059,-43.3127281,172.7012587,Pegasus Wetland,2025-01-26 16:02,63\n",
      "L4919431,NZ,NZ-CAN,NZ-CAN-059,-43.3045067,172.7049494,Pegasus Wetlands N of Tiritiri Moana Dr,2025-01-30 18:50,60\n",
      "L11751127,NZ,NZ-CAN,NZ-CAN-059,-43.3213767,172.6913945,Pegasus--Gladstone Park,2023-12-16 19:37,32\n",
      "L25619040,NZ,NZ-CAN,NZ-CAN-059,-43.3118681,172.688369,Pegasus--Kaitiritiri Ridge,2023-12-16 18:25,24\n",
      "L521319,NZ,NZ-CAN,NZ-CAN-060,-43.6289,172.6971,Quail Island,2024-09-21 10:44,51\n",
      "L970761,NZ,NZ-CAN,NZ-CAN-059,-43.2819959,172.5912552,Rangiora--Mike Kean walkway,2025-01-15 16:00,44\n",
      "L558004,NZ,NZ-CAN,NZ-CAN-059,-43.3151866,172.5814819,Rangiora--Northbrook Ponds,2023-07-25 12:44,41\n",
      "L12549402,NZ,NZ-CAN,NZ-CAN-059,-43.3115663,172.6051813,Rangiora--Northbrook Wetlands,2025-01-30 19:55,41\n",
      "L9071189,NZ,NZ-CAN,NZ-CAN-060,-43.6060115,172.6495079,Rapaki--Mitchell’s Track,2024-09-29 19:07,25\n",
      "L14905135,NZ,NZ-CAN,NZ-CAN-059,-43.3059058,172.6711835,Ravenswood--Kesteven Place Wetland,2025-01-27 10:09,51\n",
      "L24386738,NZ,NZ-CAN,NZ-CAN-059,-43.3109335,172.6639171,Ravenswood--Woodford Avenue Creek,2024-12-04 16:14,28\n",
      "L28905308,NZ,NZ-CAN,NZ-CAN-060,-43.5304035,172.5423982,Riccarton Park,2024-12-01 12:15,24\n",
      "L8782672,NZ,NZ-CAN,NZ-CAN-062,-43.5949391,172.3818831,Rolleston Reserve,2025-01-24 07:14,15\n",
      "L12675365,NZ,NZ-CAN,NZ-CAN-059,-43.4117457,172.6041123,Silverstream Reserve,2024-10-20 11:39,29\n",
      "L12812546,NZ,NZ-CAN,NZ-CAN-060,-43.5353319,172.617367,South Hagley Park,2025-01-10 17:04,42\n",
      "L2484336,NZ,NZ-CAN,NZ-CAN-060,-43.4653215,172.6084621,Styx Mill Walkway,2025-01-31 11:00,59\n",
      "L23130967,NZ,NZ-CAN,NZ-CAN-060,-43.588283,172.59343,\"Te Kuru Wetlands, Christchurch NZ-Canterbury\",2024-12-28 11:20,42\n",
      "L27844831,NZ,NZ-CAN,NZ-CAN-062,-43.6976422,172.5414442,Te Pae o Ahuriri,2024-11-22 17:44,38\n",
      "L1516132,NZ,NZ-CAN,NZ-CAN-060,-43.4852527,172.6971174,Travis Wetland--New Pond,2025-01-29 14:12,61\n",
      "L19884089,NZ,NZ-CAN,NZ-CAN-060,-43.4893921,172.6939784,Travis Wetland/Ōruapaeroa--Angela Stream,2024-12-30 19:50,43\n",
      "L19898856,NZ,NZ-CAN,NZ-CAN-060,-43.4882085,172.6963129,Travis Wetland/Ōruapaeroa--Stockyard Scape,2025-01-30 18:31,51\n",
      "L19884259,NZ,NZ-CAN,NZ-CAN-060,-43.4870806,172.6875392,Travis Wetland/Ōruapaeroa--Western Edge,2024-12-30 20:05,41\n",
      "L28021654,NZ,NZ-CAN,NZ-CAN-060,-43.4926627,172.7002532,Travis Wetland/Ōruapaeroa--roundabout pond,2025-01-16 09:56,36\n",
      "L2415037,NZ,NZ-CAN,NZ-CAN-059,-43.3365702,172.7036941,Tutaepatu Trail & Lagoon,2024-10-16 12:05,47\n",
      "L11106122,NZ,NZ-CAN,NZ-CAN-060,-43.601146,172.731354,Uramau Reserve Saddle Lookout,2025-01-28 10:33,23\n",
      "L25645251,NZ,NZ-CAN,NZ-CAN-060,-43.466851,172.716554,Waimairi Beach Park--Northern Ponds,2024-11-25 10:52,36\n",
      "L11660777,NZ,NZ-CAN,NZ-CAN-059,-43.3879738,172.6890424,Waimakariri River Mouth--McIntoshs & southern Kaiapoi Oxidation Ponds,2025-01-31 18:30,54\n",
      "L1179103,NZ,NZ-CAN,NZ-CAN-059,-43.4141042,172.6469064,Waimakariri River nr Hwy 1,2024-11-27 17:40,35\n",
      "L23218177,NZ,NZ-CAN,NZ-CAN-060,-43.4376377,172.5607549,Waimakariri River--Bailes Island,2024-12-23 14:14,35\n",
      "L3118398,NZ,NZ-CAN,NZ-CAN-059,-43.3845324,172.5593939,\"Whites Rd Reserve, Ohoka\",2025-01-30 15:53,44\n",
      "L15497756,NZ,NZ-CAN,NZ-CAN-059,-43.3381565,172.7107559,Woodend Beach,2024-11-12 15:11,30\n",
      "\n"
     ]
    }
   ],
   "source": [
    "print(response.text)"
   ]
  },
  {
   "cell_type": "code",
   "execution_count": 14,
   "metadata": {},
   "outputs": [
    {
     "name": "stdout",
     "output_type": "stream",
     "text": [
      "Latitude: -43.2817824, Longitude: 172.5454009\n"
     ]
    }
   ],
   "source": [
    "# Example data\n",
    "#data = \"L4001220,NZ,NZ-CAN,NZ-CAN-059,-43.2817824,172.5454009,Ashley River--Dunlops Road access,2024-09-21 11:24,42\"\n",
    "data = response.text\n",
    "# Split the string by commas\n",
    "data_list = data.split(',')\n",
    "\n",
    "# Extract the latitude and longitude\n",
    "latitude = float(data_list[4])\n",
    "longitude = float(data_list[5])\n",
    "\n",
    "print(f\"Latitude: {latitude}, Longitude: {longitude}\")"
   ]
  },
  {
   "cell_type": "code",
   "execution_count": 21,
   "metadata": {},
   "outputs": [
    {
     "data": {
      "text/plain": [
       "b'Z-CAN-059,-43.2803547,172.5793362,Ashley River--Rossitors Rd,2024-12-27 14:35,38\\nL5126261,NZ,NZ-CAN,NZ-CAN-059,-43.2813294,172.6'"
      ]
     },
     "execution_count": 21,
     "metadata": {},
     "output_type": "execute_result"
    }
   ],
   "source": [
    "list(response)[1]"
   ]
  },
  {
   "cell_type": "code",
   "execution_count": 22,
   "metadata": {},
   "outputs": [
    {
     "data": {
      "text/plain": [
       "b'356786,Ashley River--Smarts Road,2025-01-31 16:02,46\\nL523081,NZ,NZ-CAN,NZ-CAN-060,-43.5204229,172.7277374,Avon River mudflats @ '"
      ]
     },
     "execution_count": 22,
     "metadata": {},
     "output_type": "execute_result"
    }
   ],
   "source": [
    "list(response)[2]"
   ]
  },
  {
   "cell_type": "code",
   "execution_count": 37,
   "metadata": {},
   "outputs": [
    {
     "data": {
      "text/html": [
       "\n",
       "            <style>\n",
       "                .geemap-dark {\n",
       "                    --jp-widgets-color: white;\n",
       "                    --jp-widgets-label-color: white;\n",
       "                    --jp-ui-font-color1: white;\n",
       "                    --jp-layout-color2: #454545;\n",
       "                    background-color: #383838;\n",
       "                }\n",
       "\n",
       "                .geemap-dark .jupyter-button {\n",
       "                    --jp-layout-color3: #383838;\n",
       "                }\n",
       "\n",
       "                .geemap-colab {\n",
       "                    background-color: var(--colab-primary-surface-color, white);\n",
       "                }\n",
       "\n",
       "                .geemap-colab .jupyter-button {\n",
       "                    --jp-layout-color3: var(--colab-primary-surface-color, white);\n",
       "                }\n",
       "            </style>\n",
       "            "
      ],
      "text/plain": [
       "<IPython.core.display.HTML object>"
      ]
     },
     "metadata": {},
     "output_type": "display_data"
    },
    {
     "name": "stdout",
     "output_type": "stream",
     "text": [
      "Latitude: -43.2817824, Longitude: 172.5454009\n",
      "Latitude: -43.2803547, Longitude: 172.5793362\n",
      "Latitude: -43.2813294, Longitude: 172.6356786\n",
      "Latitude: -43.5204229, Longitude: 172.7277374\n",
      "Latitude: -43.5001318, Longitude: 172.685667\n",
      "Latitude: -43.5381682, Longitude: 172.7374619\n",
      "Latitude: -43.5307182, Longitude: 172.7236054\n",
      "Latitude: -43.558405, Longitude: 172.708853\n",
      "Latitude: -43.5541622, Longitude: 172.7035975\n",
      "Latitude: -43.5568991, Longitude: 172.7261817\n",
      "Latitude: -43.5463793, Longitude: 172.716399\n",
      "Latitude: -43.5299992, Longitude: 172.7314018\n",
      "Latitude: -43.5499357, Longitude: 172.7040082\n",
      "Latitude: -43.5337448, Longitude: 172.7321724\n",
      "Latitude: -43.5601179, Longitude: 172.7479935\n",
      "Latitude: -43.5267359, Longitude: 172.7246583\n",
      "Latitude: -43.5206252, Longitude: 172.723918\n",
      "Latitude: -43.5153346, Longitude: 172.7248099\n",
      "Latitude: -43.531127, Longitude: 172.7112579\n",
      "Latitude: -43.4057708, Longitude: 172.6984477\n",
      "Latitude: -43.4216094, Longitude: 172.7023745\n",
      "Latitude: -43.3973615, Longitude: 172.7024817\n",
      "Latitude: -43.392721, Longitude: 172.7107349\n",
      "Latitude: -43.4845174, Longitude: 172.5456905\n",
      "Latitude: -43.580912, Longitude: 172.616965\n",
      "Latitude: -43.543559, Longitude: 172.622214\n",
      "Latitude: -43.5329316, Longitude: 172.6267147\n",
      "Latitude: -43.5474283, Longitude: 172.7316856\n",
      "Latitude: -43.503889, Longitude: 172.7075\n",
      "Latitude: -43.52399, Longitude: 172.6460559\n",
      "Latitude: -43.5296646, Longitude: 172.6198483\n",
      "Latitude: -43.4632482, Longitude: 172.6912766\n",
      "Latitude: -43.5836593, Longitude: 172.6494739\n",
      "Latitude: -43.5350126, Longitude: 172.528836\n",
      "Latitude: -43.5901356, Longitude: 172.5860363\n",
      "Latitude: -43.5520317, Longitude: 172.7007222\n",
      "Latitude: -43.5924098, Longitude: 172.6319172\n",
      "Latitude: -43.4901832, Longitude: 172.6820403\n",
      "Latitude: -43.5481536, Longitude: 172.5837684\n",
      "Latitude: -43.5201896, Longitude: 172.5920391\n",
      "Latitude: -43.5670525, Longitude: 172.7022243\n",
      "Latitude: -43.5997557, Longitude: 172.5752914\n",
      "Latitude: -43.5973225, Longitude: 172.5848424\n",
      "Latitude: -43.5993049, Longitude: 172.5809515\n",
      "Latitude: -43.5995852, Longitude: 172.5790859\n",
      "Latitude: -43.5609366, Longitude: 172.6618853\n",
      "Latitude: -43.6001875, Longitude: 172.642963\n",
      "Latitude: -43.4951489, Longitude: 172.6738787\n",
      "Latitude: -43.5239848, Longitude: 172.5769417\n",
      "Latitude: -43.5143225, Longitude: 172.5931677\n",
      "Latitude: -43.5079524, Longitude: 172.5817269\n",
      "Latitude: -43.5569751, Longitude: 172.7167886\n",
      "Latitude: -43.4991684, Longitude: 172.7019346\n",
      "Latitude: -43.547755, Longitude: 172.6975391\n",
      "Latitude: -43.5447418, Longitude: 172.7032113\n",
      "Latitude: -43.5592414, Longitude: 172.7023713\n",
      "Latitude: -43.5688304, Longitude: 172.7044033\n",
      "Latitude: -43.5233481, Longitude: 172.6081753\n",
      "Latitude: -43.57108, Longitude: 172.661736\n",
      "Latitude: -43.5556103, Longitude: 172.5428366\n",
      "Latitude: -43.5065353, Longitude: 172.731861\n",
      "Latitude: -43.4664802, Longitude: 172.463042\n",
      "Latitude: -43.4670094, Longitude: 172.5242312\n",
      "Latitude: -43.448269, Longitude: 172.5964701\n",
      "Latitude: -43.5278946, Longitude: 172.5959791\n",
      "Latitude: -43.4636661, Longitude: 172.5731134\n",
      "Latitude: -43.53468, Longitude: 172.73578\n",
      "Latitude: -43.5730818, Longitude: 172.5910275\n",
      "Latitude: -43.5704024, Longitude: 172.7631855\n",
      "Latitude: -43.5829115, Longitude: 172.7759453\n",
      "Latitude: -43.449928, Longitude: 172.6044846\n",
      "Latitude: -43.4864623, Longitude: 172.6940448\n",
      "Latitude: -43.5900896, Longitude: 172.6430655\n",
      "Latitude: -43.553929, Longitude: 172.5775552\n",
      "Latitude: -43.4635556, Longitude: 172.5940556\n",
      "Latitude: -43.5283846, Longitude: 172.6378167\n",
      "Latitude: -43.5640257, Longitude: 172.633241\n",
      "Latitude: -43.4258172, Longitude: 172.6231578\n",
      "Latitude: -43.6234193, Longitude: 172.7415118\n",
      "Latitude: -43.588523, Longitude: 172.7990456\n",
      "Latitude: -43.5273991, Longitude: 172.622333\n",
      "Latitude: -43.591543, Longitude: 172.5563963\n",
      "Latitude: -43.5704368, Longitude: 172.5544572\n",
      "Latitude: -43.5530006, Longitude: 172.6852405\n",
      "Latitude: -43.2857955, Longitude: 172.5039071\n",
      "Latitude: -43.3613239, Longitude: 172.6625945\n",
      "Latitude: -43.3829581, Longitude: 172.6580701\n",
      "Latitude: -43.3868364, Longitude: 172.7090263\n",
      "Latitude: -43.6028143, Longitude: 172.5837929\n",
      "Latitude: -43.6322237, Longitude: 172.6249981\n",
      "Latitude: -43.3087867, Longitude: 172.69553\n",
      "Latitude: -43.6436842, Longitude: 172.467767\n",
      "Latitude: -43.650671, Longitude: 172.50234\n",
      "Latitude: -43.6343751, Longitude: 172.4869823\n",
      "Latitude: -43.6522705, Longitude: 172.6357913\n",
      "Latitude: -43.641002, Longitude: 172.6511121\n",
      "Latitude: -43.6602302, Longitude: 172.6692815\n",
      "Latitude: -43.6031067, Longitude: 172.7224431\n",
      "Latitude: -43.5258732, Longitude: 172.626255\n",
      "Latitude: -43.6631529, Longitude: 172.6214361\n",
      "Latitude: -43.6617481, Longitude: 172.7148682\n",
      "Latitude: -43.4337828, Longitude: 172.6447392\n",
      "Latitude: -43.3144884, Longitude: 172.6935564\n",
      "Latitude: -43.315204, Longitude: 172.7142419\n",
      "Latitude: -43.3133521, Longitude: 172.6829338\n",
      "Latitude: -43.3127281, Longitude: 172.7012587\n",
      "Latitude: -43.3045067, Longitude: 172.7049494\n",
      "Latitude: -43.3213767, Longitude: 172.6913945\n",
      "Latitude: -43.3118681, Longitude: 172.688369\n",
      "Latitude: -43.6289, Longitude: 172.6971\n",
      "Latitude: -43.2819959, Longitude: 172.5912552\n",
      "Latitude: -43.3151866, Longitude: 172.5814819\n",
      "Latitude: -43.3115663, Longitude: 172.6051813\n",
      "Latitude: -43.6060115, Longitude: 172.6495079\n",
      "Latitude: -43.3059058, Longitude: 172.6711835\n",
      "Latitude: -43.3109335, Longitude: 172.6639171\n",
      "Latitude: -43.5304035, Longitude: 172.5423982\n",
      "Latitude: -43.5949391, Longitude: 172.3818831\n",
      "Latitude: -43.4117457, Longitude: 172.6041123\n",
      "Latitude: -43.5353319, Longitude: 172.617367\n",
      "Latitude: -43.4653215, Longitude: 172.6084621\n",
      "Latitude: -43.588283, Longitude: 172.59343\n",
      "Latitude: -43.6976422, Longitude: 172.5414442\n",
      "Latitude: -43.4852527, Longitude: 172.6971174\n",
      "Latitude: -43.4893921, Longitude: 172.6939784\n",
      "Latitude: -43.4882085, Longitude: 172.6963129\n",
      "Latitude: -43.4870806, Longitude: 172.6875392\n",
      "Latitude: -43.4926627, Longitude: 172.7002532\n",
      "Latitude: -43.3365702, Longitude: 172.7036941\n",
      "Latitude: -43.601146, Longitude: 172.731354\n",
      "Latitude: -43.466851, Longitude: 172.716554\n",
      "Latitude: -43.3879738, Longitude: 172.6890424\n",
      "Latitude: -43.4141042, Longitude: 172.6469064\n",
      "Latitude: -43.4376377, Longitude: 172.5607549\n",
      "Latitude: -43.3845324, Longitude: 172.5593939\n",
      "Latitude: -43.3381565, Longitude: 172.7107559\n"
     ]
    }
   ],
   "source": [
    "# Split the data into lines\n",
    "lines = data.strip().split('\\n')\n",
    "\n",
    "# Extract coordinates from each line\n",
    "coordinates = []\n",
    "for line in lines:\n",
    "    parts = line.split(',')\n",
    "    latitude = float(parts[4])\n",
    "    longitude = float(parts[5])\n",
    "    coordinates.append((latitude, longitude))\n",
    "\n",
    "# Print the coordinates\n",
    "for lat, lon in coordinates:\n",
    "    print(f\"Latitude: {lat}, Longitude: {lon}\")"
   ]
  },
  {
   "cell_type": "code",
   "execution_count": 46,
   "metadata": {},
   "outputs": [
    {
     "data": {
      "text/html": [
       "\n",
       "            <style>\n",
       "                .geemap-dark {\n",
       "                    --jp-widgets-color: white;\n",
       "                    --jp-widgets-label-color: white;\n",
       "                    --jp-ui-font-color1: white;\n",
       "                    --jp-layout-color2: #454545;\n",
       "                    background-color: #383838;\n",
       "                }\n",
       "\n",
       "                .geemap-dark .jupyter-button {\n",
       "                    --jp-layout-color3: #383838;\n",
       "                }\n",
       "\n",
       "                .geemap-colab {\n",
       "                    background-color: var(--colab-primary-surface-color, white);\n",
       "                }\n",
       "\n",
       "                .geemap-colab .jupyter-button {\n",
       "                    --jp-layout-color3: var(--colab-primary-surface-color, white);\n",
       "                }\n",
       "            </style>\n",
       "            "
      ],
      "text/plain": [
       "<IPython.core.display.HTML object>"
      ]
     },
     "metadata": {},
     "output_type": "display_data"
    }
   ],
   "source": [
    "import geopandas as gpd"
   ]
  },
  {
   "cell_type": "markdown",
   "metadata": {},
   "source": []
  },
  {
   "cell_type": "code",
   "execution_count": 47,
   "metadata": {},
   "outputs": [
    {
     "data": {
      "text/html": [
       "\n",
       "            <style>\n",
       "                .geemap-dark {\n",
       "                    --jp-widgets-color: white;\n",
       "                    --jp-widgets-label-color: white;\n",
       "                    --jp-ui-font-color1: white;\n",
       "                    --jp-layout-color2: #454545;\n",
       "                    background-color: #383838;\n",
       "                }\n",
       "\n",
       "                .geemap-dark .jupyter-button {\n",
       "                    --jp-layout-color3: #383838;\n",
       "                }\n",
       "\n",
       "                .geemap-colab {\n",
       "                    background-color: var(--colab-primary-surface-color, white);\n",
       "                }\n",
       "\n",
       "                .geemap-colab .jupyter-button {\n",
       "                    --jp-layout-color3: var(--colab-primary-surface-color, white);\n",
       "                }\n",
       "            </style>\n",
       "            "
      ],
      "text/plain": [
       "<IPython.core.display.HTML object>"
      ]
     },
     "metadata": {},
     "output_type": "display_data"
    }
   ],
   "source": [
    "# Create a GeoDataFrame\n",
    "gdf = gpd.GeoDataFrame(geometry=gpd.points_from_xy([lon for lat, lon in coordinates], [lat for lat, lon in coordinates]))"
   ]
  },
  {
   "cell_type": "code",
   "execution_count": 54,
   "metadata": {},
   "outputs": [
    {
     "data": {
      "text/html": [
       "\n",
       "            <style>\n",
       "                .geemap-dark {\n",
       "                    --jp-widgets-color: white;\n",
       "                    --jp-widgets-label-color: white;\n",
       "                    --jp-ui-font-color1: white;\n",
       "                    --jp-layout-color2: #454545;\n",
       "                    background-color: #383838;\n",
       "                }\n",
       "\n",
       "                .geemap-dark .jupyter-button {\n",
       "                    --jp-layout-color3: #383838;\n",
       "                }\n",
       "\n",
       "                .geemap-colab {\n",
       "                    background-color: var(--colab-primary-surface-color, white);\n",
       "                }\n",
       "\n",
       "                .geemap-colab .jupyter-button {\n",
       "                    --jp-layout-color3: var(--colab-primary-surface-color, white);\n",
       "                }\n",
       "            </style>\n",
       "            "
      ],
      "text/plain": [
       "<IPython.core.display.HTML object>"
      ]
     },
     "metadata": {},
     "output_type": "display_data"
    }
   ],
   "source": [
    "lon = -43.5053818\n",
    "lat = 172.5837443\n",
    "\n",
    "# convert the latitude and longitude to coordinates\n",
    "center = (lat, lon)"
   ]
  },
  {
   "cell_type": "code",
   "execution_count": 60,
   "metadata": {},
   "outputs": [
    {
     "data": {
      "text/html": [
       "\n",
       "            <style>\n",
       "                .geemap-dark {\n",
       "                    --jp-widgets-color: white;\n",
       "                    --jp-widgets-label-color: white;\n",
       "                    --jp-ui-font-color1: white;\n",
       "                    --jp-layout-color2: #454545;\n",
       "                    background-color: #383838;\n",
       "                }\n",
       "\n",
       "                .geemap-dark .jupyter-button {\n",
       "                    --jp-layout-color3: #383838;\n",
       "                }\n",
       "\n",
       "                .geemap-colab {\n",
       "                    background-color: var(--colab-primary-surface-color, white);\n",
       "                }\n",
       "\n",
       "                .geemap-colab .jupyter-button {\n",
       "                    --jp-layout-color3: var(--colab-primary-surface-color, white);\n",
       "                }\n",
       "            </style>\n",
       "            "
      ],
      "text/plain": [
       "<IPython.core.display.HTML object>"
      ]
     },
     "metadata": {},
     "output_type": "display_data"
    }
   ],
   "source": [
    "from shapely.geometry import Point\n",
    "\n",
    "# Convert the center tuple to a shapely Point object\n",
    "center_point = Point(center)\n",
    "\n"
   ]
  },
  {
   "cell_type": "code",
   "execution_count": 109,
   "metadata": {},
   "outputs": [
    {
     "data": {
      "text/html": [
       "\n",
       "            <style>\n",
       "                .geemap-dark {\n",
       "                    --jp-widgets-color: white;\n",
       "                    --jp-widgets-label-color: white;\n",
       "                    --jp-ui-font-color1: white;\n",
       "                    --jp-layout-color2: #454545;\n",
       "                    background-color: #383838;\n",
       "                }\n",
       "\n",
       "                .geemap-dark .jupyter-button {\n",
       "                    --jp-layout-color3: #383838;\n",
       "                }\n",
       "\n",
       "                .geemap-colab {\n",
       "                    background-color: var(--colab-primary-surface-color, white);\n",
       "                }\n",
       "\n",
       "                .geemap-colab .jupyter-button {\n",
       "                    --jp-layout-color3: var(--colab-primary-surface-color, white);\n",
       "                }\n",
       "            </style>\n",
       "            "
      ],
      "text/plain": [
       "<IPython.core.display.HTML object>"
      ]
     },
     "metadata": {},
     "output_type": "display_data"
    },
    {
     "data": {
      "image/svg+xml": [
       "<svg xmlns=\"http://www.w3.org/2000/svg\" xmlns:xlink=\"http://www.w3.org/1999/xlink\" width=\"100.0\" height=\"100.0\" viewBox=\"171.5837443 -44.5053818 2.0 2.0\" preserveAspectRatio=\"xMinYMin meet\"><g transform=\"matrix(1,0,0,-1,0,-87.0107636)\"><circle cx=\"172.5837443\" cy=\"-43.5053818\" r=\"0.06\" stroke=\"#555555\" stroke-width=\"0.02\" fill=\"#66cc99\" opacity=\"0.6\" /></g></svg>"
      ],
      "text/plain": [
       "<POINT (172.584 -43.505)>"
      ]
     },
     "execution_count": 109,
     "metadata": {},
     "output_type": "execute_result"
    }
   ],
   "source": [
    "center_point"
   ]
  },
  {
   "cell_type": "code",
   "execution_count": 61,
   "metadata": {},
   "outputs": [
    {
     "data": {
      "text/html": [
       "\n",
       "            <style>\n",
       "                .geemap-dark {\n",
       "                    --jp-widgets-color: white;\n",
       "                    --jp-widgets-label-color: white;\n",
       "                    --jp-ui-font-color1: white;\n",
       "                    --jp-layout-color2: #454545;\n",
       "                    background-color: #383838;\n",
       "                }\n",
       "\n",
       "                .geemap-dark .jupyter-button {\n",
       "                    --jp-layout-color3: #383838;\n",
       "                }\n",
       "\n",
       "                .geemap-colab {\n",
       "                    background-color: var(--colab-primary-surface-color, white);\n",
       "                }\n",
       "\n",
       "                .geemap-colab .jupyter-button {\n",
       "                    --jp-layout-color3: var(--colab-primary-surface-color, white);\n",
       "                }\n",
       "            </style>\n",
       "            "
      ],
      "text/plain": [
       "<IPython.core.display.HTML object>"
      ]
     },
     "metadata": {},
     "output_type": "display_data"
    }
   ],
   "source": [
    "gdf['distance'] = gdf.distance(center_point)"
   ]
  },
  {
   "cell_type": "code",
   "execution_count": 64,
   "metadata": {},
   "outputs": [
    {
     "data": {
      "text/html": [
       "\n",
       "            <style>\n",
       "                .geemap-dark {\n",
       "                    --jp-widgets-color: white;\n",
       "                    --jp-widgets-label-color: white;\n",
       "                    --jp-ui-font-color1: white;\n",
       "                    --jp-layout-color2: #454545;\n",
       "                    background-color: #383838;\n",
       "                }\n",
       "\n",
       "                .geemap-dark .jupyter-button {\n",
       "                    --jp-layout-color3: #383838;\n",
       "                }\n",
       "\n",
       "                .geemap-colab {\n",
       "                    background-color: var(--colab-primary-surface-color, white);\n",
       "                }\n",
       "\n",
       "                .geemap-colab .jupyter-button {\n",
       "                    --jp-layout-color3: var(--colab-primary-surface-color, white);\n",
       "                }\n",
       "            </style>\n",
       "            "
      ],
      "text/plain": [
       "<IPython.core.display.HTML object>"
      ]
     },
     "metadata": {},
     "output_type": "display_data"
    }
   ],
   "source": [
    "# Set the CRS to WGS84 (EPSG:4326) before transforming\n",
    "gdf.set_crs(epsg=4326, inplace=True)\n",
    "gdf.to_crs(epsg=4326, inplace=True)"
   ]
  },
  {
   "cell_type": "code",
   "execution_count": 65,
   "metadata": {},
   "outputs": [
    {
     "data": {
      "text/html": [
       "\n",
       "            <style>\n",
       "                .geemap-dark {\n",
       "                    --jp-widgets-color: white;\n",
       "                    --jp-widgets-label-color: white;\n",
       "                    --jp-ui-font-color1: white;\n",
       "                    --jp-layout-color2: #454545;\n",
       "                    background-color: #383838;\n",
       "                }\n",
       "\n",
       "                .geemap-dark .jupyter-button {\n",
       "                    --jp-layout-color3: #383838;\n",
       "                }\n",
       "\n",
       "                .geemap-colab {\n",
       "                    background-color: var(--colab-primary-surface-color, white);\n",
       "                }\n",
       "\n",
       "                .geemap-colab .jupyter-button {\n",
       "                    --jp-layout-color3: var(--colab-primary-surface-color, white);\n",
       "                }\n",
       "            </style>\n",
       "            "
      ],
      "text/plain": [
       "<IPython.core.display.HTML object>"
      ]
     },
     "metadata": {},
     "output_type": "display_data"
    },
    {
     "data": {
      "text/plain": [
       "<Geographic 2D CRS: EPSG:4326>\n",
       "Name: WGS 84\n",
       "Axis Info [ellipsoidal]:\n",
       "- Lat[north]: Geodetic latitude (degree)\n",
       "- Lon[east]: Geodetic longitude (degree)\n",
       "Area of Use:\n",
       "- name: World.\n",
       "- bounds: (-180.0, -90.0, 180.0, 90.0)\n",
       "Datum: World Geodetic System 1984 ensemble\n",
       "- Ellipsoid: WGS 84\n",
       "- Prime Meridian: Greenwich"
      ]
     },
     "execution_count": 65,
     "metadata": {},
     "output_type": "execute_result"
    }
   ],
   "source": [
    "gdf.crs"
   ]
  },
  {
   "cell_type": "code",
   "execution_count": 66,
   "metadata": {},
   "outputs": [
    {
     "data": {
      "text/html": [
       "\n",
       "            <style>\n",
       "                .geemap-dark {\n",
       "                    --jp-widgets-color: white;\n",
       "                    --jp-widgets-label-color: white;\n",
       "                    --jp-ui-font-color1: white;\n",
       "                    --jp-layout-color2: #454545;\n",
       "                    background-color: #383838;\n",
       "                }\n",
       "\n",
       "                .geemap-dark .jupyter-button {\n",
       "                    --jp-layout-color3: #383838;\n",
       "                }\n",
       "\n",
       "                .geemap-colab {\n",
       "                    background-color: var(--colab-primary-surface-color, white);\n",
       "                }\n",
       "\n",
       "                .geemap-colab .jupyter-button {\n",
       "                    --jp-layout-color3: var(--colab-primary-surface-color, white);\n",
       "                }\n",
       "            </style>\n",
       "            "
      ],
      "text/plain": [
       "<IPython.core.display.HTML object>"
      ]
     },
     "metadata": {},
     "output_type": "display_data"
    }
   ],
   "source": [
    "gdf['distance'] = gdf.distance(center_point)"
   ]
  },
  {
   "cell_type": "code",
   "execution_count": 68,
   "metadata": {},
   "outputs": [
    {
     "data": {
      "text/html": [
       "\n",
       "            <style>\n",
       "                .geemap-dark {\n",
       "                    --jp-widgets-color: white;\n",
       "                    --jp-widgets-label-color: white;\n",
       "                    --jp-ui-font-color1: white;\n",
       "                    --jp-layout-color2: #454545;\n",
       "                    background-color: #383838;\n",
       "                }\n",
       "\n",
       "                .geemap-dark .jupyter-button {\n",
       "                    --jp-layout-color3: #383838;\n",
       "                }\n",
       "\n",
       "                .geemap-colab {\n",
       "                    background-color: var(--colab-primary-surface-color, white);\n",
       "                }\n",
       "\n",
       "                .geemap-colab .jupyter-button {\n",
       "                    --jp-layout-color3: var(--colab-primary-surface-color, white);\n",
       "                }\n",
       "            </style>\n",
       "            "
      ],
      "text/plain": [
       "<IPython.core.display.HTML object>"
      ]
     },
     "metadata": {},
     "output_type": "display_data"
    },
    {
     "name": "stdout",
     "output_type": "stream",
     "text": [
      "                       geometry  distance\n",
      "50  POINT (172.58173 -43.50795)  0.003268\n",
      "49  POINT (172.59317 -43.51432)  0.012990\n",
      "39  POINT (172.59204 -43.52019)  0.016973\n",
      "48  POINT (172.57694 -43.52398)  0.019808\n",
      "64  POINT (172.59598 -43.52789)  0.025623\n"
     ]
    }
   ],
   "source": [
    "# Find the nearest points\n",
    "nearest_points = gdf.nsmallest(5, 'distance')  # Adjust the number of nearest points as needed\n",
    "\n",
    "# Print the nearest points\n",
    "print(nearest_points)"
   ]
  },
  {
   "cell_type": "code",
   "execution_count": 108,
   "metadata": {},
   "outputs": [
    {
     "data": {
      "text/html": [
       "\n",
       "            <style>\n",
       "                .geemap-dark {\n",
       "                    --jp-widgets-color: white;\n",
       "                    --jp-widgets-label-color: white;\n",
       "                    --jp-ui-font-color1: white;\n",
       "                    --jp-layout-color2: #454545;\n",
       "                    background-color: #383838;\n",
       "                }\n",
       "\n",
       "                .geemap-dark .jupyter-button {\n",
       "                    --jp-layout-color3: #383838;\n",
       "                }\n",
       "\n",
       "                .geemap-colab {\n",
       "                    background-color: var(--colab-primary-surface-color, white);\n",
       "                }\n",
       "\n",
       "                .geemap-colab .jupyter-button {\n",
       "                    --jp-layout-color3: var(--colab-primary-surface-color, white);\n",
       "                }\n",
       "            </style>\n",
       "            "
      ],
      "text/plain": [
       "<IPython.core.display.HTML object>"
      ]
     },
     "metadata": {},
     "output_type": "display_data"
    },
    {
     "data": {
      "application/vnd.jupyter.widget-view+json": {
       "model_id": "6c3c921838804c119572e1dc1692d5f3",
       "version_major": 2,
       "version_minor": 0
      },
      "text/plain": [
       "Map(center=[-43.5053818, 172.5837443], controls=(WidgetControl(options=['position', 'transparent_bg'], widget=…"
      ]
     },
     "metadata": {},
     "output_type": "display_data"
    }
   ],
   "source": [
    "# plot the nearest_points on the gee map\n",
    "import folium\n",
    "import geemap\n",
    "import ipywidgets as widgets\n",
    "\n",
    "Map = geemap.Map(center=(lon,lat), zoom=12)\n",
    "popup = widgets.HTML(value=\"Your Location\")\n",
    "Map.add_marker(location=(lon,lat), popup=popup, name=\"Current Location\")\n",
    "Map.add_gdf(nearest_points, \"Nearest Hotspots\")\n",
    "Map\n",
    "\n"
   ]
  },
  {
   "cell_type": "code",
   "execution_count": 41,
   "metadata": {},
   "outputs": [
    {
     "data": {
      "text/html": [
       "\n",
       "            <style>\n",
       "                .geemap-dark {\n",
       "                    --jp-widgets-color: white;\n",
       "                    --jp-widgets-label-color: white;\n",
       "                    --jp-ui-font-color1: white;\n",
       "                    --jp-layout-color2: #454545;\n",
       "                    background-color: #383838;\n",
       "                }\n",
       "\n",
       "                .geemap-dark .jupyter-button {\n",
       "                    --jp-layout-color3: #383838;\n",
       "                }\n",
       "\n",
       "                .geemap-colab {\n",
       "                    background-color: var(--colab-primary-surface-color, white);\n",
       "                }\n",
       "\n",
       "                .geemap-colab .jupyter-button {\n",
       "                    --jp-layout-color3: var(--colab-primary-surface-color, white);\n",
       "                }\n",
       "            </style>\n",
       "            "
      ],
      "text/plain": [
       "<IPython.core.display.HTML object>"
      ]
     },
     "metadata": {},
     "output_type": "display_data"
    },
    {
     "data": {
      "application/vnd.jupyter.widget-view+json": {
       "model_id": "1980817f5afb43149bfed02edfc8d86b",
       "version_major": 2,
       "version_minor": 0
      },
      "text/plain": [
       "Map(center=[-43.5053818, 172.5837443], controls=(WidgetControl(options=['position', 'transparent_bg'], widget=…"
      ]
     },
     "metadata": {},
     "output_type": "display_data"
    }
   ],
   "source": [
    "import ipywidgets as widgets\n",
    "\n",
    "lon = -43.5053818\n",
    "lat = 172.5837443\n",
    "Map = geemap.Map(center=(lon,lat), zoom=10)\n",
    "popup = widgets.HTML(value=\"You are here\")\n",
    "Map.add_marker(location=(lon,lat), popup=popup)\n",
    "Map.add_marker(location=(-43.28178244, 172.5454009), popup=popup)\n",
    "\n",
    "# Display the map\n",
    "Map"
   ]
  },
  {
   "cell_type": "code",
   "execution_count": 4,
   "metadata": {},
   "outputs": [
    {
     "data": {
      "text/html": [
       "\n",
       "            <style>\n",
       "                .geemap-dark {\n",
       "                    --jp-widgets-color: white;\n",
       "                    --jp-widgets-label-color: white;\n",
       "                    --jp-ui-font-color1: white;\n",
       "                    --jp-layout-color2: #454545;\n",
       "                    background-color: #383838;\n",
       "                }\n",
       "\n",
       "                .geemap-dark .jupyter-button {\n",
       "                    --jp-layout-color3: #383838;\n",
       "                }\n",
       "\n",
       "                .geemap-colab {\n",
       "                    background-color: var(--colab-primary-surface-color, white);\n",
       "                }\n",
       "\n",
       "                .geemap-colab .jupyter-button {\n",
       "                    --jp-layout-color3: var(--colab-primary-surface-color, white);\n",
       "                }\n",
       "            </style>\n",
       "            "
      ],
      "text/plain": [
       "<IPython.core.display.HTML object>"
      ]
     },
     "metadata": {},
     "output_type": "display_data"
    }
   ],
   "source": [
    "import ee \n"
   ]
  },
  {
   "cell_type": "code",
   "execution_count": 1,
   "metadata": {},
   "outputs": [],
   "source": [
    "import geemap"
   ]
  },
  {
   "cell_type": "code",
   "execution_count": 18,
   "metadata": {},
   "outputs": [
    {
     "data": {
      "text/html": [
       "\n",
       "            <style>\n",
       "                .geemap-dark {\n",
       "                    --jp-widgets-color: white;\n",
       "                    --jp-widgets-label-color: white;\n",
       "                    --jp-ui-font-color1: white;\n",
       "                    --jp-layout-color2: #454545;\n",
       "                    background-color: #383838;\n",
       "                }\n",
       "\n",
       "                .geemap-dark .jupyter-button {\n",
       "                    --jp-layout-color3: #383838;\n",
       "                }\n",
       "\n",
       "                .geemap-colab {\n",
       "                    background-color: var(--colab-primary-surface-color, white);\n",
       "                }\n",
       "\n",
       "                .geemap-colab .jupyter-button {\n",
       "                    --jp-layout-color3: var(--colab-primary-surface-color, white);\n",
       "                }\n",
       "            </style>\n",
       "            "
      ],
      "text/plain": [
       "<IPython.core.display.HTML object>"
      ]
     },
     "metadata": {},
     "output_type": "display_data"
    },
    {
     "name": "stdout",
     "output_type": "stream",
     "text": [
      "Requirement already satisfied: geopy in /opt/anaconda3/envs/gee/lib/python3.12/site-packages (2.4.1)\n",
      "Requirement already satisfied: geographiclib<3,>=1.52 in /opt/anaconda3/envs/gee/lib/python3.12/site-packages (from geopy) (2.0)\n",
      "Note: you may need to restart the kernel to use updated packages.\n"
     ]
    },
    {
     "data": {
      "text/html": [
       "<div style=\"width:100%;\"><div style=\"position:relative;width:100%;height:0;padding-bottom:60%;\"><span style=\"color:#565656\">Make this Notebook Trusted to load map: File -> Trust Notebook</span><iframe srcdoc=\"&lt;!DOCTYPE html&gt;\n",
       "&lt;html&gt;\n",
       "&lt;head&gt;\n",
       "    \n",
       "    &lt;meta http-equiv=&quot;content-type&quot; content=&quot;text/html; charset=UTF-8&quot; /&gt;\n",
       "    \n",
       "        &lt;script&gt;\n",
       "            L_NO_TOUCH = false;\n",
       "            L_DISABLE_3D = false;\n",
       "        &lt;/script&gt;\n",
       "    \n",
       "    &lt;style&gt;html, body {width: 100%;height: 100%;margin: 0;padding: 0;}&lt;/style&gt;\n",
       "    &lt;style&gt;#map {position:absolute;top:0;bottom:0;right:0;left:0;}&lt;/style&gt;\n",
       "    &lt;script src=&quot;https://cdn.jsdelivr.net/npm/leaflet@1.9.3/dist/leaflet.js&quot;&gt;&lt;/script&gt;\n",
       "    &lt;script src=&quot;https://code.jquery.com/jquery-3.7.1.min.js&quot;&gt;&lt;/script&gt;\n",
       "    &lt;script src=&quot;https://cdn.jsdelivr.net/npm/bootstrap@5.2.2/dist/js/bootstrap.bundle.min.js&quot;&gt;&lt;/script&gt;\n",
       "    &lt;script src=&quot;https://cdnjs.cloudflare.com/ajax/libs/Leaflet.awesome-markers/2.0.2/leaflet.awesome-markers.js&quot;&gt;&lt;/script&gt;\n",
       "    &lt;link rel=&quot;stylesheet&quot; href=&quot;https://cdn.jsdelivr.net/npm/leaflet@1.9.3/dist/leaflet.css&quot;/&gt;\n",
       "    &lt;link rel=&quot;stylesheet&quot; href=&quot;https://cdn.jsdelivr.net/npm/bootstrap@5.2.2/dist/css/bootstrap.min.css&quot;/&gt;\n",
       "    &lt;link rel=&quot;stylesheet&quot; href=&quot;https://netdna.bootstrapcdn.com/bootstrap/3.0.0/css/bootstrap-glyphicons.css&quot;/&gt;\n",
       "    &lt;link rel=&quot;stylesheet&quot; href=&quot;https://cdn.jsdelivr.net/npm/@fortawesome/fontawesome-free@6.2.0/css/all.min.css&quot;/&gt;\n",
       "    &lt;link rel=&quot;stylesheet&quot; href=&quot;https://cdnjs.cloudflare.com/ajax/libs/Leaflet.awesome-markers/2.0.2/leaflet.awesome-markers.css&quot;/&gt;\n",
       "    &lt;link rel=&quot;stylesheet&quot; href=&quot;https://cdn.jsdelivr.net/gh/python-visualization/folium/folium/templates/leaflet.awesome.rotate.min.css&quot;/&gt;\n",
       "    \n",
       "            &lt;meta name=&quot;viewport&quot; content=&quot;width=device-width,\n",
       "                initial-scale=1.0, maximum-scale=1.0, user-scalable=no&quot; /&gt;\n",
       "            &lt;style&gt;\n",
       "                #map_a826704baa74354e1e6159ca4bd5ab14 {\n",
       "                    position: relative;\n",
       "                    width: 100.0%;\n",
       "                    height: 100.0%;\n",
       "                    left: 0.0%;\n",
       "                    top: 0.0%;\n",
       "                }\n",
       "                .leaflet-container { font-size: 1rem; }\n",
       "            &lt;/style&gt;\n",
       "        \n",
       "&lt;/head&gt;\n",
       "&lt;body&gt;\n",
       "    \n",
       "    \n",
       "            &lt;div class=&quot;folium-map&quot; id=&quot;map_a826704baa74354e1e6159ca4bd5ab14&quot; &gt;&lt;/div&gt;\n",
       "        \n",
       "&lt;/body&gt;\n",
       "&lt;script&gt;\n",
       "    \n",
       "    \n",
       "            var map_a826704baa74354e1e6159ca4bd5ab14 = L.map(\n",
       "                &quot;map_a826704baa74354e1e6159ca4bd5ab14&quot;,\n",
       "                {\n",
       "                    center: [-43.5053818, 172.5837443],\n",
       "                    crs: L.CRS.EPSG3857,\n",
       "                    zoom: 12,\n",
       "                    zoomControl: true,\n",
       "                    preferCanvas: false,\n",
       "                }\n",
       "            );\n",
       "\n",
       "            \n",
       "\n",
       "        \n",
       "    \n",
       "            var tile_layer_fd59b091b5ac84762c2d65aec350cec6 = L.tileLayer(\n",
       "                &quot;https://tile.openstreetmap.org/{z}/{x}/{y}.png&quot;,\n",
       "                {&quot;attribution&quot;: &quot;\\u0026copy; \\u003ca href=\\&quot;https://www.openstreetmap.org/copyright\\&quot;\\u003eOpenStreetMap\\u003c/a\\u003e contributors&quot;, &quot;detectRetina&quot;: false, &quot;maxNativeZoom&quot;: 19, &quot;maxZoom&quot;: 19, &quot;minZoom&quot;: 0, &quot;noWrap&quot;: false, &quot;opacity&quot;: 1, &quot;subdomains&quot;: &quot;abc&quot;, &quot;tms&quot;: false}\n",
       "            );\n",
       "        \n",
       "    \n",
       "            tile_layer_fd59b091b5ac84762c2d65aec350cec6.addTo(map_a826704baa74354e1e6159ca4bd5ab14);\n",
       "        \n",
       "    \n",
       "            var marker_b5005f400e944112069485b8e19beb6d = L.marker(\n",
       "                [-43.5053818, 172.5837443],\n",
       "                {}\n",
       "            ).addTo(map_a826704baa74354e1e6159ca4bd5ab14);\n",
       "        \n",
       "    \n",
       "            var icon_b945c59345d6a3ae52f8f533fe546a91 = L.AwesomeMarkers.icon(\n",
       "                {&quot;extraClasses&quot;: &quot;fa-rotate-0&quot;, &quot;icon&quot;: &quot;info-sign&quot;, &quot;iconColor&quot;: &quot;white&quot;, &quot;markerColor&quot;: &quot;red&quot;, &quot;prefix&quot;: &quot;glyphicon&quot;}\n",
       "            );\n",
       "            marker_b5005f400e944112069485b8e19beb6d.setIcon(icon_b945c59345d6a3ae52f8f533fe546a91);\n",
       "        \n",
       "    \n",
       "        var popup_bfbbad300dd32acb5adc96555b1de4cf = L.popup({&quot;maxWidth&quot;: &quot;100%&quot;});\n",
       "\n",
       "        \n",
       "            \n",
       "                var html_abe548c6ef7ad2b008eede420da5c98b = $(`&lt;div id=&quot;html_abe548c6ef7ad2b008eede420da5c98b&quot; style=&quot;width: 100.0%; height: 100.0%;&quot;&gt;Current Location&lt;/div&gt;`)[0];\n",
       "                popup_bfbbad300dd32acb5adc96555b1de4cf.setContent(html_abe548c6ef7ad2b008eede420da5c98b);\n",
       "            \n",
       "        \n",
       "\n",
       "        marker_b5005f400e944112069485b8e19beb6d.bindPopup(popup_bfbbad300dd32acb5adc96555b1de4cf)\n",
       "        ;\n",
       "\n",
       "        \n",
       "    \n",
       "&lt;/script&gt;\n",
       "&lt;/html&gt;\" style=\"position:absolute;width:100%;height:100%;left:0;top:0;border:none !important;\" allowfullscreen webkitallowfullscreen mozallowfullscreen></iframe></div></div>"
      ],
      "text/plain": [
       "<folium.folium.Map at 0x17eb522d0>"
      ]
     },
     "execution_count": 18,
     "metadata": {},
     "output_type": "execute_result"
    }
   ],
   "source": [
    "%pip install geopy\n",
    "\n",
    "# Use existing lat and lon variables\n",
    "\n",
    "lat = 172.5837443\n",
    "lon = -43.5053818\n",
    "import folium\n",
    "#from geopy.geocoders import Nominatim\n",
    "\n",
    "# Get current location (replace with actual coordinates if needed)\n",
    "#geolocator = Nominatim(user_agent=\"geo_locator\")\n",
    "# location = geolocator.geocode(\"Los Angeles, CA\")\n",
    "# lat, lon = location.latitude, location.longitude\n",
    "\n",
    "# Create a map centered at the current location\n",
    "m = folium.Map(location=[lon, lat], zoom_start=12)\n",
    "\n",
    "folium.Marker(\n",
    "    [lon, lat], \n",
    "    popup=\"Current Location\", \n",
    "    icon=folium.Icon(color='red')  # Set marker color\n",
    ").add_to(m)\n",
    "\n",
    "# Add a marker\n",
    "\n",
    "\n",
    "# Save map to an HTML file\n",
    "#m.save(\"current_location.html\")\n",
    "\n",
    "# Display the map\n",
    "m"
   ]
  },
  {
   "cell_type": "code",
   "execution_count": 19,
   "metadata": {},
   "outputs": [
    {
     "data": {
      "text/html": [
       "\n",
       "            <style>\n",
       "                .geemap-dark {\n",
       "                    --jp-widgets-color: white;\n",
       "                    --jp-widgets-label-color: white;\n",
       "                    --jp-ui-font-color1: white;\n",
       "                    --jp-layout-color2: #454545;\n",
       "                    background-color: #383838;\n",
       "                }\n",
       "\n",
       "                .geemap-dark .jupyter-button {\n",
       "                    --jp-layout-color3: #383838;\n",
       "                }\n",
       "\n",
       "                .geemap-colab {\n",
       "                    background-color: var(--colab-primary-surface-color, white);\n",
       "                }\n",
       "\n",
       "                .geemap-colab .jupyter-button {\n",
       "                    --jp-layout-color3: var(--colab-primary-surface-color, white);\n",
       "                }\n",
       "            </style>\n",
       "            "
      ],
      "text/plain": [
       "<IPython.core.display.HTML object>"
      ]
     },
     "metadata": {},
     "output_type": "display_data"
    }
   ],
   "source": [
    "url = f\"https://api.ebird.org/v2/ref/hotspot/geo?lat={lon}&lng={lat}\"\n",
    "\n",
    "payload = {}\n",
    "headers = {\n",
    "    'X-eBirdApiToken': 'aqf69iukjcqs'  # Replace 'YOUR_API_KEY' with your actual eBird API key\n",
    "}\n",
    "\n",
    "response = requests.request(\"GET\", url, headers=headers, data=payload)\n",
    "\n",
    "# Example data\n",
    "data = response.text"
   ]
  },
  {
   "cell_type": "code",
   "execution_count": 110,
   "metadata": {},
   "outputs": [
    {
     "data": {
      "text/html": [
       "\n",
       "            <style>\n",
       "                .geemap-dark {\n",
       "                    --jp-widgets-color: white;\n",
       "                    --jp-widgets-label-color: white;\n",
       "                    --jp-ui-font-color1: white;\n",
       "                    --jp-layout-color2: #454545;\n",
       "                    background-color: #383838;\n",
       "                }\n",
       "\n",
       "                .geemap-dark .jupyter-button {\n",
       "                    --jp-layout-color3: #383838;\n",
       "                }\n",
       "\n",
       "                .geemap-colab {\n",
       "                    background-color: var(--colab-primary-surface-color, white);\n",
       "                }\n",
       "\n",
       "                .geemap-colab .jupyter-button {\n",
       "                    --jp-layout-color3: var(--colab-primary-surface-color, white);\n",
       "                }\n",
       "            </style>\n",
       "            "
      ],
      "text/plain": [
       "<IPython.core.display.HTML object>"
      ]
     },
     "metadata": {},
     "output_type": "display_data"
    },
    {
     "data": {
      "text/plain": [
       "['Category:Articles containing video clips',\n",
       " \"Category:Articles with 'species' microformats\",\n",
       " 'Category:Articles with hAudio microformats',\n",
       " 'Category:Articles with short description',\n",
       " 'Category:Birds described in 1764',\n",
       " 'Category:Birds of Canada',\n",
       " 'Category:Birds of Greenland',\n",
       " 'Category:Birds of Iceland',\n",
       " 'Category:CS1: abbreviated year range',\n",
       " 'Category:CS1 Latin-language sources (la)',\n",
       " 'Category:Commons category link is on Wikidata',\n",
       " 'Category:Gaviiformes',\n",
       " 'Category:Good articles',\n",
       " 'Category:IUCN Red List least concern species',\n",
       " 'Category:Native birds of Alaska',\n",
       " 'Category:Native birds of the Northeastern United States',\n",
       " 'Category:Native birds of the Northwestern United States',\n",
       " 'Category:Short description is different from Wikidata',\n",
       " 'Category:Taxa named by Morten Thrane Brünnich',\n",
       " 'Category:Taxonbars with 35–39 taxon IDs',\n",
       " 'Category:Use dmy dates from March 2018']"
      ]
     },
     "execution_count": 110,
     "metadata": {},
     "output_type": "execute_result"
    }
   ],
   "source": [
    "endpoint = \"https://en.wikipedia.org/w/api.php\"\n",
    "\n",
    "data = \"common loon\"\n",
    "# Define the parameters\n",
    "params = {\n",
    "    \"action\": \"query\",\n",
    "    \"format\": \"json\",\n",
    "    \"titles\": f\"{data}\",\n",
    "    # extract the taxonomy information  \n",
    "    \"prop\": \"categories|extracts\",\n",
    "    #\"prop\": \"extracts\",\n",
    "    \"exintro\": True,\n",
    "    \"explaintext\": True,\n",
    "    #\"pithumbsize\": 500\n",
    "    'cllimit': 100\n",
    "}\n",
    "\n",
    "\n",
    "# Make the request\n",
    "response = requests.get(endpoint, params=params)\n",
    "\n",
    "# Parse the response\n",
    "data = response.json()\n",
    "\n",
    "# Extract the page content\n",
    "page = next(iter(data['query']['pages'].values()))\n",
    "\n",
    "categories = [cat['title'] for cat in page.get('categories', [])]\n",
    "\n",
    "categories\n",
    "\n"
   ]
  },
  {
   "cell_type": "code",
   "execution_count": 115,
   "metadata": {},
   "outputs": [
    {
     "data": {
      "text/html": [
       "\n",
       "            <style>\n",
       "                .geemap-dark {\n",
       "                    --jp-widgets-color: white;\n",
       "                    --jp-widgets-label-color: white;\n",
       "                    --jp-ui-font-color1: white;\n",
       "                    --jp-layout-color2: #454545;\n",
       "                    background-color: #383838;\n",
       "                }\n",
       "\n",
       "                .geemap-dark .jupyter-button {\n",
       "                    --jp-layout-color3: #383838;\n",
       "                }\n",
       "\n",
       "                .geemap-colab {\n",
       "                    background-color: var(--colab-primary-surface-color, white);\n",
       "                }\n",
       "\n",
       "                .geemap-colab .jupyter-button {\n",
       "                    --jp-layout-color3: var(--colab-primary-surface-color, white);\n",
       "                }\n",
       "            </style>\n",
       "            "
      ],
      "text/plain": [
       "<IPython.core.display.HTML object>"
      ]
     },
     "metadata": {},
     "output_type": "display_data"
    },
    {
     "name": "stdout",
     "output_type": "stream",
     "text": [
      "Categories: Category:Articles containing video clips, Category:Articles with 'species' microformats, Category:Articles with hAudio microformats, Category:Articles with short description, Category:Birds described in 1764, Category:Birds of Canada, Category:Birds of Greenland, Category:Birds of Iceland, Category:CS1: abbreviated year range, Category:CS1 Latin-language sources (la)\n",
      "Searching for pages in category: Birds described in 1764\n",
      "Pages in category Birds described in 1764: American pygmy kingfisher, Barred antshrike, Citril finch, Common loon, Eastern subalpine warbler\n",
      "\n",
      "American pygmy kingfisher\n",
      "The American pygmy kingfisher (Chloroceryle aenea) is a species of \"water kingfisher\" in subfamily Cerylinae of family Alcedinidae. It is found in the American tropics from southern Mexico south through Central America into every mainland South American country except Chile and Uruguay. It also occurs on Trinidad.\n",
      "\n",
      "Barred antshrike\n",
      "The barred antshrike (Thamnophilus doliatus) is a passerine bird in subfamily Thamnophilinae of family Thamnophilidae, the \"typical antbirds\". It is found in the Neotropics in Mexico, every country in Central America, Trinidad and Tobago, and every mainland South American country except Chile and Uruguay. There is also one accepted record from southern Texas.\n",
      "\n",
      "Citril finch\n",
      "The citril finch (Carduelis citrinella), also known as the Alpine citril finch, is a small songbird, a member of the true finch family, Fringillidae. \n",
      "This bird is a resident breeder in the mountains of southwestern Europe from Spain to the Alps. Its northernmost breeding area is found in the Black Forest of southwestern Germany.\n",
      "\n",
      "Common loon\n",
      "The common loon or great northern diver (Gavia immer) is a large member of the loon, or diver, family of birds. Breeding adults have a plumage that includes a broad black head and neck with a greenish, purplish, or bluish sheen, blackish or blackish-grey upperparts, and pure white underparts except some black on the undertail coverts and vent. Non-breeding adults are brownish with a dark neck and head marked with dark grey-brown. Their upperparts are dark brownish-grey with an unclear pattern of squares on the shoulders, and the underparts, lower face, chin, and throat are whitish. The sexes look alike, though males are significantly heavier than females. During the breeding season, loons live on lakes and other waterways in Canada, the northern United States (including Alaska), and southern parts of Greenland and Iceland. Small numbers breed on Svalbard and sporadically elsewhere in Arctic Eurasia. Common loons winter on both coasts of the US as far south as Mexico, and on the Atlantic coast of Europe.\n",
      "Common loons eat a variety of animal prey including fish, crustaceans, insect larvae, molluscs, and occasionally aquatic plant life. They swallow most of their prey underwater, where it is caught, but some larger items are first brought to the surface. Loons are monogamous; that is, a single female and male often together defend a territory and may breed together for a decade or more. Both members of a pair build a large nest out of dead marsh grasses and other plants formed into a mound along the vegetated shores of lakes. A single brood is raised each year from a clutch of one or two olive-brown oval eggs with dark brown spots which are incubated for about 28 days by both parents. Fed by both parents, the chicks fledge in 70 to 77 days. The chicks are capable of diving underwater when just a few days old, and they fly to their wintering areas before ice forms in the fall.\n",
      "The common loon is assessed as a species of least concern on the IUCN Red List of Endangered Species. It is one of the species to which the Agreement on the Conservation of African-Eurasian Migratory Waterbirds applies. The United States Forest Service has designated the common loon a species of special status because of threats from habitat loss and toxic metal poisoning in its US range.\n",
      "The common loon is the provincial bird of Ontario, and it appears on Canadian currency, including the one-dollar \"loonie\" coin and a previous series of $20 bills. In 1961, it was designated the state bird of Minnesota, and appears on the Minnesota State Quarter.\n",
      "\n",
      "\n",
      "\n",
      "Eastern subalpine warbler\n",
      "The eastern subalpine warbler (Curruca cantillans) is a small typical warbler which breeds in the southernmost areas of Europe. It was first described by the German naturalist Peter Simon Pallas in 1764 and given the binomial name Motacilla cantillans. The specific cantillans is Latin for \"warbling\" from canere, \"to sing\". \n",
      "Like most Curruca species, it has distinct male and female plumages. The adult male has a grey back and head, brick-red underparts, and white malar streaks (\"moustaches\"). The female is mainly brown above, with a greyer head, and whitish below with a pink flush. The subalpine warbler's song is fast and rattling, and is similar to the lesser whitethroat.\n",
      "This bird seems to be related to the Sardinian warbler-Menetries' warbler superspecies. They all have white malar areas, the heads being dark above in adult males, and naked eye-rings. These three species are related to a superspecies consisting of Rüppell's warbler and the Cyprus warbler, which also share the white malar area with blackish above (Shirihai et al. 2001, Jønsson & Fjeldså 2006 ).\n",
      "The subalpine warbler is divided into two distinct subspecies groups, which may possibly be sufficiently diverged to qualify as two separate species (Shirihai et al. 2001). The two groups have differing male plumages, distinctive calls, and are allopatric; on this particular issue, further study is needed. In May 2020, the IOC world bird list recognised the split of western and eastern subalpine warblers into two distinct species.\n",
      "Moltoni's warbler was formerly considered conspecific.\n",
      "The eastern subalpine warbler differs from the western subalpine warbler by its deeper blue-grey upperparts, a blackish mask on the lores and ear-coverts, brick reddish-brown coloration confined to the throat and breast and sharply demarcated from a largely white belly, paler flanks and a wider white submoustachial stripe.\n",
      "This is a bird of dry open country, often on hill slopes, with bushes for nesting. The nest is built in low shrub or gorse, and 3–5 eggs are laid. Like most \"warblers\", it is insectivorous, but will also take berries.\n",
      "\n",
      "\n"
     ]
    }
   ],
   "source": [
    "import requests\n",
    "\n",
    "def convert_label(label):\n",
    "    return label.replace(\" \", \"_\").lower()\n",
    "\n",
    "# Example label\n",
    "label = \"Common Loon\"\n",
    "\n",
    "# Define the endpoint\n",
    "endpoint = \"https://en.wikipedia.org/w/api.php\"\n",
    "\n",
    "# Define the parameters to get the categories\n",
    "params = {\n",
    "    \"action\": \"query\",\n",
    "    \"format\": \"json\",\n",
    "    \"titles\": f\"{convert_label(label)}\",\n",
    "    \"prop\": \"categories\",\n",
    "    \"cllimit\": 10  # Limit the number of categories to retrieve\n",
    "}\n",
    "\n",
    "# Make the request to get categories\n",
    "response = requests.get(endpoint, params=params)\n",
    "\n",
    "# Check if the response is empty\n",
    "if response.text.strip() == \"\":\n",
    "    print(\"Received empty response from Wikipedia API\")\n",
    "else:\n",
    "    try:\n",
    "        # Parse the response\n",
    "        data = response.json()\n",
    "\n",
    "        # Extract the categories\n",
    "        page = next(iter(data['query']['pages'].values()))\n",
    "        categories = [cat['title'] for cat in page.get('categories', [])]\n",
    "        \n",
    "        # Display the categories\n",
    "        print(f\"Categories: {', '.join(categories)}\")\n",
    "\n",
    "        # Use the first category to find related pages\n",
    "        if categories:\n",
    "            category = categories[4].replace(\"Category:\", \"\")\n",
    "            print(f\"Searching for pages in category: {category}\")\n",
    "\n",
    "            # Define the parameters to get pages in the category\n",
    "            params = {\n",
    "                \"action\": \"query\",\n",
    "                \"format\": \"json\",\n",
    "                \"list\": \"categorymembers\",\n",
    "                \"cmtitle\": f\"Category:{category}\",\n",
    "                \"cmlimit\": 5  # Limit the number of pages to retrieve\n",
    "            }\n",
    "\n",
    "            # Make the request to get pages in the category\n",
    "            response = requests.get(endpoint, params=params)\n",
    "            data = response.json()\n",
    "\n",
    "            # Extract the page titles\n",
    "            pages = [page['title'] for page in data.get('query', {}).get('categorymembers', [])]\n",
    "            print(f\"Pages in category {category}: {', '.join(pages)}\")\n",
    "\n",
    "            # Extract content from the related pages\n",
    "            for page_title in pages:\n",
    "                params = {\n",
    "                    \"action\": \"query\",\n",
    "                    \"format\": \"json\",\n",
    "                    \"titles\": page_title,\n",
    "                    \"prop\": \"extracts\",\n",
    "                    \"exintro\": True,\n",
    "                    \"explaintext\": True\n",
    "                }\n",
    "\n",
    "                response = requests.get(endpoint, params=params)\n",
    "                data = response.json()\n",
    "\n",
    "                page = next(iter(data['query']['pages'].values()))\n",
    "                extract = page.get('extract', 'No extract available')\n",
    "                \n",
    "                # Display the extract\n",
    "                print(f\"\\n{page_title}\")\n",
    "                print(f\"{extract}\")\n",
    "\n",
    "    except requests.exceptions.RequestException as e:\n",
    "        print(\"Failed to retrieve data from Wikipedia API\")\n",
    "        print(f\"Error: {e}\")\n",
    "    except ValueError as e:\n",
    "        print(\"Failed to parse JSON response from Wikipedia API\")\n",
    "        print(f\"Error: {e}\")"
   ]
  },
  {
   "cell_type": "code",
   "execution_count": null,
   "metadata": {},
   "outputs": [],
   "source": []
  },
  {
   "cell_type": "code",
   "execution_count": 54,
   "metadata": {},
   "outputs": [
    {
     "data": {
      "text/html": [
       "\n",
       "            <style>\n",
       "                .geemap-dark {\n",
       "                    --jp-widgets-color: white;\n",
       "                    --jp-widgets-label-color: white;\n",
       "                    --jp-ui-font-color1: white;\n",
       "                    --jp-layout-color2: #454545;\n",
       "                    background-color: #383838;\n",
       "                }\n",
       "\n",
       "                .geemap-dark .jupyter-button {\n",
       "                    --jp-layout-color3: #383838;\n",
       "                }\n",
       "\n",
       "                .geemap-colab {\n",
       "                    background-color: var(--colab-primary-surface-color, white);\n",
       "                }\n",
       "\n",
       "                .geemap-colab .jupyter-button {\n",
       "                    --jp-layout-color3: var(--colab-primary-surface-color, white);\n",
       "                }\n",
       "            </style>\n",
       "            "
      ],
      "text/plain": [
       "<IPython.core.display.HTML object>"
      ]
     },
     "metadata": {},
     "output_type": "display_data"
    },
    {
     "name": "stdout",
     "output_type": "stream",
     "text": [
      "Collecting wikipedia-api\n",
      "  Downloading wikipedia_api-0.8.1.tar.gz (19 kB)\n",
      "  Preparing metadata (setup.py) ... \u001b[?25ldone\n",
      "\u001b[?25hRequirement already satisfied: requests in /opt/anaconda3/envs/gee/lib/python3.12/site-packages (from wikipedia-api) (2.32.3)\n",
      "Requirement already satisfied: charset-normalizer<4,>=2 in /opt/anaconda3/envs/gee/lib/python3.12/site-packages (from requests->wikipedia-api) (3.3.2)\n",
      "Requirement already satisfied: idna<4,>=2.5 in /opt/anaconda3/envs/gee/lib/python3.12/site-packages (from requests->wikipedia-api) (3.7)\n",
      "Requirement already satisfied: urllib3<3,>=1.21.1 in /opt/anaconda3/envs/gee/lib/python3.12/site-packages (from requests->wikipedia-api) (2.2.2)\n",
      "Requirement already satisfied: certifi>=2017.4.17 in /opt/anaconda3/envs/gee/lib/python3.12/site-packages (from requests->wikipedia-api) (2024.7.4)\n",
      "Building wheels for collected packages: wikipedia-api\n",
      "  Building wheel for wikipedia-api (setup.py) ... \u001b[?25ldone\n",
      "\u001b[?25h  Created wheel for wikipedia-api: filename=Wikipedia_API-0.8.1-py3-none-any.whl size=15382 sha256=3a1e9190ee7201be113f71ba5aa45cd3dce4f8de955db5d2d12a2790b6a19b26\n",
      "  Stored in directory: /Users/michaeltang/Library/Caches/pip/wheels/33/3c/79/b36253689d838af4a0539782853ac3cc38a83a6591ad570dde\n",
      "Successfully built wikipedia-api\n",
      "Installing collected packages: wikipedia-api\n",
      "Successfully installed wikipedia-api-0.8.1\n"
     ]
    }
   ],
   "source": [
    "#!pip install wikipedia-api\n",
    "import wikipediaapi"
   ]
  },
  {
   "cell_type": "code",
   "execution_count": 103,
   "metadata": {},
   "outputs": [
    {
     "data": {
      "text/html": [
       "\n",
       "            <style>\n",
       "                .geemap-dark {\n",
       "                    --jp-widgets-color: white;\n",
       "                    --jp-widgets-label-color: white;\n",
       "                    --jp-ui-font-color1: white;\n",
       "                    --jp-layout-color2: #454545;\n",
       "                    background-color: #383838;\n",
       "                }\n",
       "\n",
       "                .geemap-dark .jupyter-button {\n",
       "                    --jp-layout-color3: #383838;\n",
       "                }\n",
       "\n",
       "                .geemap-colab {\n",
       "                    background-color: var(--colab-primary-surface-color, white);\n",
       "                }\n",
       "\n",
       "                .geemap-colab .jupyter-button {\n",
       "                    --jp-layout-color3: var(--colab-primary-surface-color, white);\n",
       "                }\n",
       "            </style>\n",
       "            "
      ],
      "text/plain": [
       "<IPython.core.display.HTML object>"
      ]
     },
     "metadata": {},
     "output_type": "display_data"
    },
    {
     "name": "stdout",
     "output_type": "stream",
     "text": [
      "The common loon or great northern diver (Gavia immer) is a large member of the loon, or diver, family of birds. Breeding adults have a plumage that includes a broad black head and neck with a greenish, purplish, or bluish sheen, blackish or blackish-grey upperparts, and pure white underparts except some black on the undertail coverts and vent. Non-breeding adults are brownish with a dark neck and head marked with dark grey-brown. Their upperparts are dark brownish-grey with an unclear pattern of squares on the shoulders, and the underparts, lower face, chin, and throat are whitish. The sexes look alike, though males are significantly heavier than females. During the breeding season, loons live on lakes and other waterways in Canada, the northern United States (including Alaska), and southern parts of Greenland and Iceland. Small numbers breed on Svalbard and sporadically elsewhere in Arctic Eurasia. Common loons winter on both coasts of the US as far south as Mexico, and on the Atlantic coast of Europe.\n",
      "Common loons eat a variety of animal prey including fish, crustaceans, insect larvae, molluscs, and occasionally aquatic plant life. They swallow most of their prey underwater, where it is caught, but some larger items are first brought to the surface. Loons are monogamous; that is, a single female and male often together defend a territory and may breed together for a decade or more. Both members of a pair build a large nest out of dead marsh grasses and other plants formed into a mound along the vegetated shores of lakes. A single brood is raised each year from a clutch of one or two olive-brown oval eggs with dark brown spots which are incubated for about 28 days by both parents. Fed by both parents, the chicks fledge in 70 to 77 days. The chicks are capable of diving underwater when just a few days old, and they fly to their wintering areas before ice forms in the fall.\n",
      "The common loon is assessed as a species of least concern on the IUCN Red List of Endangered Species. It is one of the species to which the Agreement on the Conservation of African-Eurasian Migratory Waterbirds applies. The United States Forest Service has designated the common loon a species of special status because of threats from habitat loss and toxic metal poisoning in its US range.\n",
      "The common loon is the provincial bird of Ontario, and it appears on Canadian currency, including the one-dollar \"loonie\" coin and a previous series of $20 bills. In 1961, it was designated the state bird of Minnesota, and appears on the Minnesota State Quarter.\n",
      "\n",
      "Taxonomy\n",
      "The common loon is also known as the great northern diver in Eurasia. Another former name, great northern loon, was a compromise proposed by the International Ornithological Committee. It is one of five loon species that make up the genus Gavia, the only genus of the family Gaviidae and order Gaviiformes. Its closest relative is another large black-headed species, the yellow-billed loon or white-billed diver (Gavia adamsii). There are no recognized subspecies of the common loon.\n",
      "Danish zoologist and mineralogist Morten Thrane Brünnich first described the common loon in 1764, as Colymbus immer in his Ornithologia Borealis. The now-defunct genus Colymbus contained grebes as well as loons, and remained in use until the International Commission on Zoological Nomenclature attempted to clarify the nomenclature in 1956 by declaring Colymbus a suppressed name unfit for further use and establishing Gavia, created by Johann Reinhold Forster in 1788, as the valid genus name for the loons.\n",
      "The current genus name Gavia was the Latin term for an unidentified seabird and the specific immer is derived from a Norwegian name for the bird, similar to the modern Icelandic word \"himbrimi\". The word may be related to Swedish immer and emmer: the grey or blackened ashes of a fire (referring to the loon's dark plumage); or to Latin immergo, to immerse, and immersus, submerged.\n",
      "The European name \"diver\" comes from the bird's practice of catching fish by diving. The North American name \"loon\" was first recorded in this sense in New Englands Prospect (1634) by William Wood (1580–1639); \"The Loone is an ill shap'd thing like a Cormorant\". It may be derived from Old Norse lómr, as are modern Swedish and Danish lom, in each case referring to the distinctive call.\n",
      "A number of fossil loon species are known from the Pliocene, and specimens from the Pleistocene of California and Florida appear to represent a paleosubspecies of the common loon.\n",
      "\n",
      "Description\n",
      "The adult common loon can range from 66 to 91 cm (26 to 36 in) in length with a 127 to 147 cm (4 ft 2 in to 4 ft 10 in) wingspan, slightly smaller than the similar yellow-billed loon. On average, it is about 81 cm (32 in) long and has a wingspan of 136 cm (54 in). Its weight can vary anywhere from 2.2 to 7.6 kg (4.9 to 16.8 lb). Sizes vary regionally, especially by body mass, with the smallest bodied loons on average from lower-central Canada and the Great Lakes, while westerly birds are similar or mildly larger, and loons breeding further east can appear to be significantly larger. Furthermore, males average up to nearly 27% more massive than females in some populations. Breeding loons in Maine averaged 4.65 kg (10.3 lb) in females and 5.97 kg (13.2 lb) in males, essentially the same weight as the yellow-billed loon, although the yellow-billed is still larger than in linear dimensions (especially bill length) than the Maine loons. In Ontario, 20 females averaged 4.5 kg (9.9 lb) and 20 males averaged 5.46 kg (12.0 lb). In contrast, in the Gulf of Alaska, adults of both sexes reportedly averaged 4.13 kg (9.1 lb). Adult breeding plumage consists of a broad black head and neck with greenish, purplish, or bluish sheen. It has a black bill sometimes with a pale tip, and red eyes. The neck is encircled with a characteristic black ring and has two white necklaces of eight to ten short streaks on the upper foreneck, and a noticeable collar of white, parallel lines forming a large oval on the neck-side. The central lower foreneck is pure white, and the lower neck-sides has longitudinal white lines becoming rows of small spots and black lines becoming very narrow. The upperparts are blackish or blackish grey, and each feather has small white spots on it. The upperwing is blackish and with small white spots on the non-primary coverts, whereas the underwing is paler with white coverts except the long black shaft-streaks on the axillaries. The underparts are pure white, but have some black on the undertail coverts and vent. It has a checkered black-and-white mantle and a blackish tail. The legs are pale grey on the inner half and blackish on the outer half, and the webs between the toes are flesh colored.\n",
      "\n",
      "Adult non-breeding plumage is brownish with a dark neck and head marked with dark grey-brown. The eyes are surrounded with white, and the eyelids are pale. The bill is mostly pale grey, with a dark culmen and tip, but in early spring the tip may turn whitish. The underparts, lower face, chin, and throat are also whitish. The foreneck is whitish, usually forming wedge-shaped notch in dark neck-sides, and may sometimes reveal a shadowy trace of the neck ring or a pale collar. It has dark brownish grey upperparts with an unclear pattern of squares on the shoulders and some wing coverts spotted with white, which are usually concealed while swimming. The male and the female have similar appearances, although they exhibit sexual dimorphism in their physical dimensions with the male larger and significantly heavier than the female.\n",
      "The heavy dagger-like bill is evenly tapered and greyish, sometimes having a black tip. The bill colour and angle distinguish this species from the yellow-billed loon. The neck is short and thick. The common loon swims very low in the water, with sometimes only its head held above and horizontal to the surface. It must run across the water surface to get in flight. During flight, its head is slightly lower than its body, with its feet trailing behind. It has a skeletal structure made up of a number of solid bones (this is usual for the Gaviiformes and penguins but unlike most flying birds which have bones with extensive pneumatization, hollow and filled with air to make the skeleton lighter), which adds weight but helps in diving.\n",
      "\n",
      "A juvenile often has a dark, brownish-grey nape that may look darker than the pale-edged black feathers. It has a dark grey to black head, neck, and upperparts, with white throat, cheeks, and underparts. During the first winter, the bill shape of the young may not be as fully developed as that of the adult, and during the second winter, it much resembles the breeding adult, but with wing coverts lacking white spots.\n",
      "The common loon is distinguished from the black-throated loon (G. arctica) and the red-throated loon (G. stellata) mainly by its larger size. It usually has a steeper forehead and a bulging forecrown, somewhat similar to the black-throated loon. Its bill is heavier and the back is paler than its hindneck. It is more difficult to separate from the yellow-billed loon, but its breeding plumage has more white markings on the neck and the squares on its shoulders are usually smaller; the non-breeding plumage has darker neck-sides contrasting more sharply with pale areas and bill colour.\n",
      "\n",
      "Moult\n",
      "The scaly juvenile plumage is retained until January or February of the year following hatching, when a lengthy moult of head and body feathers gives them a more adult-like appearance. Adults shed all their flight feathers simultaneously around this time, leaving them temporarily flightless, prior to gaining breeding plumage, but second-year birds delay this substantial moult until the summer. The adult winter plumage is attained between October and January by partial moult mainly of head, body and tail feathers.\n",
      "\n",
      "Genomics\n",
      "With improved gene-sequencing technology, a draft genome of the common loon has assembled and identified at least 14,169 genes. 80.7% of chicken genes are found in the common loon genome. The physiological costs of deep-water diving and long distance aerial migration of loons have greatly affected loon evolution. Many identified genes are candidate genes for positive selection since the common loon-chicken split 90 million years ago. It is theorized that these candidate genes are related to haemoglobin affinity for oxygen, solute exchange, immunoglobulin function related to immune defence, nervous system development and a number of molecular pathways related to DNA metabolic function, and G-receptor pathways potentially involved in low-light visual acuity. For example, SLC48A, and SLC20A1 are candidate genes in the Gavia lineage for maintaining homeostasis due to maybe having a role in maintaining ion and pH balance.\n",
      "\n",
      "Distribution and habitat\n",
      "Common loons are mainly Nearctic, and breed from 48° N to the Arctic Circle, locally south to 40° N and north to 78° N. During their breeding season in spring and summer, most common loons live on lakes and other waterways in the northern United States and Canada, as well as in southern parts of Greenland, in Iceland, in Svalbard, in Jan Mayen, and in Bear Island in Norway; and in Alaska, to the west, and very rarely in Scotland, to the east. Their summer habitat ranges from wooded lakes to tundra ponds. The lakes must be large enough for flight take-off, and provide a large population of small fish. Deep lakes with warm surface waters, relatively low biological productivity and low turbidity where their fish prey are easy to see are habitats where breeding loons are more successful in raising young. For protection from predators, common loons favour lakes with islands and coves. They are rare visitors to the Arctic coast. They are known to exhibit high breeding site fidelity.\n",
      "\n",
      "Some common loons remain in Iceland year-round, although most migrate. In North America, they winter mainly along north Atlantic and north-east Pacific coasts, many stopping off on the Great Lakes during their migration. They migrate in the day, starting about two hours after sunrise and flying at altitudes of 1500 to 2700 m above sea level, above the convective and turbulent layer of air. In winter they can be seen on North America coasts as far south as Baja California, Sonora, northern Sinaloa, southern Texas, and rarely northern Tamaulipas. In the east, several thousand winter along western European coasts, probably originating from Iceland, Greenland, and Canada. Their range extends into northwestern Europe from Finland to Portugal and southern and northwestern Spain (Galicia and Asturias), as well as the western Mediterranean off Catalonia, and off Morocco in Africa, although only a few hundred travel as far south as Iberia. Although wintering site fidelity is not well known, annually, adults are observed to return to the same wintering locations in the Pacific Ocean (Morro Bay), the Gulf of Mexico (Barataria Bay), the Atlantic Ocean (Maryland and Massachusetts), and the reservoir Lake Pateros.\n",
      "They usually winter along coasts and on inland lakes, bays, inlets, and streams, with birds migrating to the nearest body of water that will not freeze over in the winter: western Canadian loons go to the Pacific, Great Lakes loons to the Gulf of Mexico region, eastern Canadian loons to the Atlantic, and some loons to large inland lakes and reservoirs. They appear in most of the inland waters of the United States. The South Carolina coast, the Gulf coast adjacent to the Florida panhandle, and the Atlantic seaboard from Massachusetts to Maine have some of the highest concentrations of common loons. Occasional vagrants are recorded inland in Mexico, in San Luis Potosí and Coahuila, as well as in Chiapas and Oaxaca in the south. They are accidental in northern Japan and the Commander Islands in northwestern Pacific, and Cuba in the West Indies.\n",
      "\n",
      "Behaviour\n",
      "The common loon is an expert fisher, catching its prey underwater by diving as deep as 60 m (200 ft). With its large webbed feet, the common loon is an efficient underwater pursuit predator and adroit diver. It needs a long run-up distance to gain momentum for flight take-off and is ungainly on land, sliding on its belly and pushing itself forward with its legs. Its clumsiness on land is due to the legs being positioned at the rear of its body; the pelvic muscles are well developed, ideal for swimming but not well-suited for walking. When it lands on water, it skims along on its belly to slow down, rather than braking with its feet, as they are set too far back. The common loon swims and dives well, and flies competently for hundreds of kilometres in migration. It flies with its neck outstretched, usually calling a particular tremolo that can be used to identify a flying loon. Its flying speed is as much as 120 km/h (75 mph) during migration. Particularly during the breeding season, common loons frequently engage in territorial disputes against other water birds, including ducks and geese, and will attack or drive off competitors and intruders to their territory.\n",
      "\n",
      "Feeding\n",
      "Fish account for about 80% of the diet of the common loon. It forages on fish of up to 26 cm (10 in) in length, including minnows, suckers, gizzard shad, rock bass, alewife, northern pike, whitefish, sauger, brown bullhead, pumpkinseed, burbot, walleye, bluegill, white crappie, black crappie, rainbow smelt, and killifish. The young typically eat small minnows, and sometimes insects and fragments of green vegetation. The freshwater diet primarily consists of pike, perch, sunfish, trout, and bass; the saltwater diet primarily consists of rock fish, flounder, sea trout, herring, Atlantic croaker, haddock, and Gulf silverside. When there is either a lack of fish or they are difficult to catch, it preys on crustaceans, crayfish, snails, leeches, insect larvae, molluscs, frogs, annelids, and occasionally aquatic plant matter such as pondweed, roots, moss, willow shoots, seeds, and algae. It has also been known to eat ducklings.\n",
      "The common loon uses its powerful hind legs to propel its body underwater at high speed to catch its prey, which it then swallows head-first. If the fish attempts to evade the common loon, the bird chases it down with excellent underwater manoeuvrability due to its strong legs. Most prey are swallowed underwater, where they are caught, but some larger prey are first brought to the surface. It is a visual predator, so it is essential to hunting success that the water is clear. It normally dives 4 to 10 m (13 to 33 ft), but has been recorded to dive up to 70 m (230 ft). The average diving time is 42 seconds, but the maximum duration spent underwater is about 1 min (60 s).\n",
      "\n",
      "Breeding\n",
      "The common loon's mating system is serially monogamous; breeding pairs jointly defend a territory consisting of an entire small lake or a protected bay within a large lake. A given male and female remain together throughout a breeding attempt, rear their own biological offspring, reunite each spring, and may breed together for many consecutive years. However, in the event of death or territorial eviction of one pair member by an intruding loon of the same sex, the other pair member quickly establishes a pair bond with the evicting bird. Hence, most adult loons have two or more different mates during their lives. Evicting individuals tend to be young males and females (5 to 9 years old), while evicted adults are often those 15 years and older.\n",
      "Pairs do not remain together during winter; in addition, males usually precede females by a few days to a few weeks during spring migration, settling on their lake once a portion of it becomes ice-free. Copulation takes place ashore, often on the nest site, repeated daily until the eggs are laid. The preceding courtship is very simple, with mutual bill-dipping and dives. The displays towards intruders, such as bow-jumping (an alternation of fencing and bill-dipping postures and rushing (running \"along the surface with its wings either folded or half-extended and flapping at about the same speed as when taking off\") are often misinterpreted as courtship.\n",
      "Nesting typically begins in early May. Significantly more nesting sites are found on islands than on mainland shoreline. Breeding pairs patrol their territories routinely, even at night, defending the territory both physically and vocally. Pairs that nested together the preceding year typically reuse the nest site from the previous year, if they hatched chicks successfully there. In contrast, pairs that lost their eggs to a predator usually shift the nest to a new location. This logical behaviour pattern appears to depend upon the male, because breeding pairs consisting of last year's male and a female not present during the preceding year continue to exhibit the behaviour; pairs composed of last year's female and a new male tend to select a new nest site, regardless of the success or failure of the previous year's attempt. Despite the lead role of males in nest site selection, both sexes contribute substantially to nest construction. The nest is about 56 cm (22 in) wide and is constructed out of dead marsh grasses and other indigenous plants, and formed into a mound along the vegetated coasts of lakes greater than 3.7 ha (9.1 acres). After a week of construction in late spring, one parent climbs on top to mould the interior of the nest to the shape of its body. Based on a number of studies, nesting success averages about 40%, and most newly hatched young survive due to parental care.\n",
      "Eggs from first clutches are typically laid in May or early June, the timing depending largely upon the date that lakes become ice-free and inhabitable. A clutch consists of two (occasionally one) olive-brown oval eggs with dark brown spots. Incubation is carried out jointly by male and female and lasts about 28 days. Loons often place nests along steep lake shorelines where adults can quickly dive underwater when approached by predators. The eggs are about 88 mm (3.5 in) long and 55 mm (2.2 in) wide and the two eggs are laid with an interval of one to three days between them, and hatch asynchronously.\n",
      "Newly hatched chicks are dark chocolate brown in colour and have a white belly. Within hours of hatching, the young begin to leave the nest with the parents, swimming close by and sometimes riding on one parent's back. Parents and chicks initially stay in shallow, isolated bays where the parents are able to defend the chicks better from intruding loons and eagles, which are their main predators. Male parents defend broods consisting of two chicks more vigorously than singleton chicks, chiefly with the territorial yodel call. The chicks are capable of making shallow dives from their first day but make deeper dives as they grow. Fledging takes 70 to 77 days. Usually, only one brood is raised. Both parents feed the chicks live prey from hatching to fledging. As they grow, chicks are able to catch an increasingly large proportion of their diet by themselves; they can feed and fend for themselves after about two months, although many juveniles continue to beg from adults well beyond this age. The parent birds capture small fish and hold them crosswise in their bill, call and approach the chicks with their head lowered so that the chicks can grasp them. If food is scarce, the larger chick may peck its small sibling incessantly; on small lakes with limited food, only one chick often survives. Juveniles leave the breeding ground before ice formation in the fall, weeks after their parents. A pair of loons raising two chicks have been estimated to feed on 423 kilograms (933 lb) of fish during the five and a half months that they spend in their breeding territory.\n",
      "\n",
      "Habitat selection\n",
      "Loons exhibit a strong tendency to settle as breeders on a lake that resembles their natal one, a phenomenon termed natal habitat imprinting. This preference is based on two lake attributes: size and pH. The behaviour is puzzling, because it is as strong in loons hatched on small, acidic lakes as those from large lakes of neutral pH. Hence, the former group is exhibiting active preference for lakes that have been shown to result in higher chick mortality and lower breeding success.\n",
      "\n",
      "Vocalizations\n",
      "The common loon produces a variety of vocalizations, the most common of which are the tremolo, the yodel, the wail, and the hoot. Each of these calls communicates a distinct message. The frequency at which it vocalizes has been shown to vary based on time of day, weather, and season. It is most vocally active between mid-May and mid-June. The wail, yodel, and tremolo calls are sounded more frequently at night than during the day; calls have also been shown to occur more frequently in cold temperatures and when there is little to no rain.\n",
      "\n",
      "The tremolo call—sometimes called the \"laughing\" call—is characterized by its short, wavering quality. It often uses this call to signal distress or alarm caused by territorial disputes or perceived threats. It emits a tremulous series of up to 10 rather high notes (hu)-heheheheheheha. It also uses the tremolo to communicate its presence to other loons when they arrive at a lake, often when they are flying overhead. It is the only vocalization used in flight. The tremolo call has varying three levels of intensities that correlate with a loon's level of distress, and the types are differentiated by increasingly higher pitch frequencies added to the call.\n",
      "\n",
      "The yodel is a long and complex call made only by the male. It is used in the establishment of territorial boundaries and in territorial confrontations, and the length of the call corresponds with the loon's level of aggression. The dominant frequencies in the yodel indicate the body mass and thereby the health of males. A male that occupies a new territory appears to alter its yodel to be clearly distinguishable from the call of the previous territory owner.\n",
      "A loon's wail is a long call consisting of up to three notes, and is often compared to a wolf's howl. It uses this call to communicate its location to other loons. The call is given back and forth between breeding pairs or an adult and its chick, either to maintain contact or in an attempt to move closer together after being separated. It is a loud aaoo, weee-wea weee-wea weee-wea, or ooo-aaah-éééé.\n",
      "The hoot is a short, soft call and is another form of contact call. It is a more intimate call than the wail and is used exclusively between small family groups or flocks. The common loon hoots to let other family or flock members know where it is. This call is often heard when the adult loon is summoning its chicks to feed.\n",
      "\n",
      "Longevity and terminal investment\n",
      "Considerable information on longevity and survival rates has been collected in the past two decades, owing to the implementation of an efficient capture protocol that permits marking and monitoring of large study populations. A rough preliminary analysis showed that common loons of both sexes survive at an annual rate of over 90% until they reach their mid-20s, but show a survival rate of only about 75% thereafter. However, a second, finer-scaled analysis made clear that male loons begin to show higher mortality, increased territory loss and lower body condition starting at age 15. Perhaps in response to their physical decline, males 15 and older show increased rates of both territorial aggression and territorial vocalization. This age-related shift in behaviour is interpreted as terminal investment, a \"go for broke\" strategy seen in senescing animals that are attempting to eke out another year or two of breeding before they die.\n",
      "\n",
      "Predators and parasites\n",
      "Adult common loons have few predators, although bald eagles will attack incubating birds. Attacks by sharks in winter have also been recorded. When a predator approaches (either the loon's nest or the loon itself), the common loon sometimes attacks the predator by rushing at it and trying to stab it with its dagger-like bill, aiming its attacks either at the predator's abdomen or the back of its head or neck, which may be deadly to predators up to the size of a fox or raccoon.\n",
      "Eggs are taken by a number of mammals, including American mink, striped skunk, otters, foxes and raccoons, with the latter being responsible for nearly 40% of all nest failures. Birds such as herring gulls, northern ravens and American crows will eat unattended eggs. Because their nests are at the water's edge, common loon eggs are especially vulnerable if the adult is absent.\n",
      "Chicks may be killed by common snapping turtles, large gulls, bald eagles and large fish such as northern pike and largemouth bass. The eagle in particular is a significant predator of chicks.\n",
      "Internal parasites of the common loon include many species of worms, including flatworms, tapeworms, nematodes and spiny-headed worms. High levels of worms may result from feeding changes due to low availability of fish, and can lead to illness and death. Protozoal infections including one caused by Eimeria gaviae and avian malaria have been recorded in this loon. The black fly Simulium annulus is closely associated with the common loon to which it is attracted to chemicals in the uropygial gland secretions as well as by visual and tactile cues. This fly is detrimental to loons, their preferred hosts, transmitting blood-borne parasites and viruses, and causing nest abandonment when numbers are high. External parasites include ischnoceran feather lice, although these are not found on the bird's head.\n",
      "Botulism, acquired by eating infected fish, can lead to paralysis and drowning. Aspergillosis is another cause of emaciation and death. Outbreaks sometimes lead to thousands of deaths.\n",
      "\n",
      "Status and conservation\n",
      "Since 1998, the common loon has been rated as a species of least concern on the IUCN Red List of Endangered Species. This is because it has a large range – more than 20,000 km2 (7,700 sq mi) – and because it has a stable population trend that does not warrant a vulnerable rating. It also has a large population size of 612,000 to 640,000 individuals. The estimated breeding population ranges from 1,400 to 2,600 mature individuals in Europe. Over half of the breeding population in North America is found in Ontario with 97,000 territorial pairs, and in Quebec with 50,000 territorial pairs. About 2,400 individuals occur in each of the maritime provinces of Canada—Nova Scotia and New Brunswick. British Columbia accounts for 25,000 territorial pairs. In far northern Canada, about 50,000 territorial pairs are known to occur, and 12,500 to 15,000 territorial pairs occur in the Prairie Provinces of Alberta, Manitoba, and Saskatchewan. In the United States, the largest breeding population is present in Alaska with 3,600 to 6,000 territorial pairs. The U.S. Great Lakes region has 5,900 to 7,200 territorial pairs which accounts for over half of the breeding population in the United States. There are about 100 territorial pairs in the northwestern U.S. states of Washington, Idaho, Montana, and Wyoming. About 2,250 territorial pairs are found in New England and New York. In winter, 3,500 to 4,500 individuals are found in the United Kingdom, and even fewer individuals are found in the western European coastline and in Iceland. Along the Pacific Coast, about 184,000 to 189,000 adults and 31,000 to 32,000 juveniles are found, and along the Atlantic Coast, 423,000 to 446,000 adults and 72,000 to 76,000 juveniles are found.\n",
      "The common loon is listed under Appendix II of the Convention on the Conservation of Migratory Species, and in Article I under the European Union (EU) Birds Directive. It is one of the species to which the Agreement on the Conservation of African-Eurasian Migratory Waterbirds (AEWA) is applied. In Europe it appears in 20 Important Bird Areas (IBAs), including Ireland, Svalbard, mainland Norway, Iceland, Spain, and the United Kingdom. It is also a listed species in 83 Special Protection Areas in the EU Natura 2000 network. The USDA National Forest Service has designated the common loon a species of special status, and in the upper Great Lake regions of the Huron-Manistee, Ottawa, and Hiawatha national forests as a regional forester sensitive species.\n",
      "\n",
      "Threats to status and conservation\n",
      "Effects of mercury and acid rain pollution on health and brood productivity\n",
      "The common loon is a key indicator of mercury deposition in aquatic environments due to its position at the top of the food chain. The main contributors to elevated mercury concentrations in aquatic environments are coal burning power plants, waste incineration, and metal production. Although environmental mercury (Hg) is naturally occurring, methylmercury (CH3Hg+, sometimes written as MeHg+) is a biologically toxic form that accumulates throughout aquatic environments in the northeastern United States. Methylmercury, a neurotoxin, has been shown to have a wide range of behavioral, reproductive, and survival effects on the common loon. Previous research has found a correlation between mercury levels and pH, with more acidic aquatic environments being at the highest risk for elevated methylmercury concentrations. Once mercury enters the water, it is taken up by fish and spread throughout the food chain. Resulting from this transmission of mercury, there is a significant positive correlation between mercury levels in fish and mercury levels in male, female, and chick blood of common loons; consequently, an increase in mercury concentration in the blood of common loons and fish was seen with a decrease in local aquatic pH. Although there have been reductions in recent years in acidifying emissions, there has been limited biological recovery in these lakes most likely due to climate change. Research has shown that warmer summer temperatures can inhibit reestablishment of cold-water fish species in acidified lakes and droughts brought on by increased summer temperatures can further acidify lakes.\n",
      "Although the common loon is able to decrease their methylmercury levels by molting and laying eggs, continued consumption of fish with raised methylmercury levels prevents these mechanisms from effectively lowering methylmercury levels. Mercury concentrations have been shown to vary by the sex and age of common loons. Male common loons were found to contain the highest blood mercury concentration likely due to the fact that they tend to consume bigger fish with higher mercury concentrations. Females contained the second highest blood mercury concentration with differences between the males likely being due to the fact that females can expel mercury into the eggs they lay. Juveniles had the lowest blood mercury concentration. Scientists found that the data from juveniles helped to best indicate the local mercury availability as they are fed exclusively from their natal territory.\n",
      "Elevated levels of mercury have been associated with changes in foraging and brooding behavior among adult common loons, especially in higher concentrations. Studies have found that elevated levels of methylmercury are associated with lethargy and decreased time spent foraging in adult common loons. A different study carried out in the Adirondack Mountains found that elevated levels of methylmercury are associated with reduced diving frequency in adult common loons. One study found that brood productivity was reduced by half when female blood mercury levels exceeded 4.3 μg/g and productivity completely failed when female blood mercury levels exceeded 8.6 μg/g. These results are related to fish mercury levels of 0.21 μg/g and 0.41 μg/g, respectively. As mercury levels and pH are correlated, scientists have found that brood success decreases with decreasing pH such that environments with a pH at around 4.5 exhibited reproductive success below a calculated positive growth rate threshold. An association has also been observed between elevated blood methylmercury levels and aberrant incubation patterns. Adult common loons with high levels of methylmercury were found to spend less time incubating and in the nest, increasing the risks of predation and the eggs overheating/overcooling. Together, the effects of heightened methylmercury levels on parenting behaviors may contribute to lower chick survival rates. One study in Maine and New Hampshire found that high levels of methylmercury in parents are associated with a significant decrease in the number of fledged young, with common loons in the highest risk group producing 41% fewer fledged young than common loons with low levels of methylmercury.\n",
      "\n",
      "Mercury deposition in the Adirondack Mountains\n",
      "The common loons of the Adirondack Mountains are particularly affected by methylmercury as the acidity of the lakes provides an environment conducive to converting environmental mercury to methylmercury. One study found that 21% of the male Adirondack common loon and 8% of the female Adirondacks common loon sampled were at high risk for detrimental impacts such as behavioral and reproductive abnormalities. In the Adirondacks, bioaccumulation factors for methylmercury were found to increase up the food chain, leaving common loons at the highest risk for detrimental effects from methylmercury. Spatial analysis indicates that the highest aquatic mercury concentrations are found in the southwestern portion of the Adirondacks, an area with lakes heavily affected by acid rain. Organizations such as the Adirondack Loon Center and the Adirondack Cooperative Loon Program spearhead loon conservation efforts in the Adirondacks by performing research, engaging the public, and informing public policy.\n",
      "\n",
      "Breeding range decline\n",
      "The common loon's breeding range has moved northward, the species breeding as far south as Iowa a century ago. It too is adversely affected by acid rain and pollution, as well as lead poisoning from fishing sinkers (especially those that are about the size of the grit stones they ingest) and mercury contamination from industrial waste. Heavy metals such as mercury may be partially removed through biological processes such as excretion or deposition in feathers, but their adverse effects are magnified through concentration of the toxic elements in organs such as the liver. Eggs shells may also contain metal contaminants, leading to low reproductive productivity. High levels of heavy metals are linked to loons being in poor condition, males being affected more because they eat larger fish.\n",
      "The common loon has also faced a decline in breeding range due to hunting, predation, and water-level fluctuations, or flooding. Some environmentalists attempt to increase nesting success by mitigating the effects of some of these threats, namely terrestrial predation and water-level fluctuations, through the deployment of rafts in the loon's breeding territories. In addition, artificial floating nesting platforms have been provided for the common loon in some lakes to reduce the impact of changing water levels due to dams and other human activities. The common loon abandons lakes that fail to provide suitable nesting habitat due to shoreline development. It is endangered by personal water-craft and powerboats that may drown newly born chicks, wash eggs away, or swamp nests. It is still considered an \"injured\" species in Alaska as a result of the Exxon Valdez oil spill.\n",
      "\n",
      "Lead poisoning\n",
      "In a 2003 survey of New England dead loons, lead poisoning from fishing weights accounted for about half of the deaths, and other human factors directly caused the death of 52% of the observed 522 loons.\n",
      "\n",
      "In culture\n",
      "The common loon appears on Canadian currency, including the one-dollar \"loonie\" coin and the previous series of $20 bills. It is the provincial bird of Ontario. It was designated the state bird of the U.S. state of Minnesota in 1961, and also appears on the Minnesota State Quarter.\n",
      "\n",
      "Folklore\n",
      "The voice and appearance of the common loon has made it prominent in several Native American tales. These include an Ojibwe story of a loon that created the world, and a Mi'kmaq saga describing Kwee-moo, the loon who was a special messenger of Glooscap (Glu-skap), the tribal hero. The tale of the loon's necklace was handed down in many versions among Pacific Coast peoples. The Delaware in the east of North America and the Buryats of Siberia also had creation stories involving the loon.\n",
      "Folk names for the common loon include \"big loon\", \"call-up-a-storm\", \"greenhead\", \"hell-diver\", \"walloon\", \"black-billed loon\", \"guinea duck\", \"imber diver\", \"ring-necked loon\", and \"ember-goose\". An old colloquial name from New England was call-up-a-storm, as its noisy cries supposedly foretold stormy weather. Some old Scottish names such as arran hawk and carara are corruptions of old Scottish Gaelic onomatopoeic names representing the bird's call; others, like bishop and ember goose, were used to avoid older names for this sometimes ill-omened bird.\n",
      "The common loon was eaten in the Scottish Islands from the Neolithic until the eighteenth century, and its thick layer of fat beneath the skin was used as a cure for sciatica.\n",
      "\n",
      "Popular culture\n",
      "The bird is central to the plot of the children's novel Great Northern? by Arthur Ransome (in which it is referred to throughout as \"great northern diver\", with the then current scientific name Colymbus immer). The story is set in the Outer Hebrides, where the main characters—a group of children on holiday—notice a pair of divers apparently nesting there. Checking their bird book, they believe that these are great northern divers. However, these have not previously been seen to nest in northern Scotland, and so they ask for help from an ornithologist. He confirms that these birds are indeed the great northern; unfortunately, it soon transpires that he does not wish merely to observe, but wants to steal the eggs and add them to his collection; and to do this, he must first kill the birds. Published in 1947, the story is one where the conservationists are the eventual victors over the egg collector, at a time when the latter hobby was not widely considered to be harmful.\n",
      "Major League Soccer club Minnesota United FC uses the loon in its crest and nickname, as well as a mascot.\n",
      "Minor League Baseball team Great Lakes Loons, located in Midland, Michigan also uses the loon in its logo and name, as well as a mascot.\n",
      "\n",
      "Films\n",
      "The wailing call of the loon is widely used in film and television to evoke wilderness and suspense, and is referenced in songs such as \"Old Devil Moon\" (\"wanna laugh like a loon\").\n",
      "Loons are featured prominently in the 1981 film On Golden Pond. Its distinctive sound also appeared in Conan the Barbarian, Out of Africa, Platoon, Guinevere, Harry Potter and the Prisoner of Azkaban, Rick and Morty, Watchmen, Godzilla, Kubo and the Two Strings, Avengers: Infinity War, Pet Sematary, 1917 and Avengers: Endgame, among others.\n",
      "In the 2016 Pixar movie Finding Dory, a somewhat bedraggled and dimwitted loon named Becky is persuaded to use a bucket to help two of the main characters, Nemo and Marlin, get into a marine life institute where the titular Dory is trapped.\n",
      "\n",
      "Notes\n",
      "References\n",
      "Sources\n",
      "External links\n",
      "\n",
      "Common Loon stamps[usurped] – bird-stamps.org\n",
      "Common loon (Gavia immer) – ARKive\n",
      "\"Great Northern Diver (Gavia immer) media\". Internet Bird Collection.\n",
      "The Loon Preservation Committee\n",
      "Common loon photo gallery at VIREO (Drexel University)\n"
     ]
    }
   ],
   "source": [
    "import wikipediaapi\n",
    "wiki_wiki = wikipediaapi.Wikipedia(user_agent='MyProjectName (merlin@example.com)', language='en')\n",
    "\n",
    "page_py = wiki_wiki.page('common loon')\n",
    "\n",
    "#print(\"Page - Exists: %s\" % page_py.exists())\n",
    "\n",
    "# Get the summary of the page\n",
    "#print(page_py.summary)\n",
    "\n",
    "# Print the entire text of the page\n",
    "print(page_py.text)\n",
    "\n"
   ]
  },
  {
   "cell_type": "code",
   "execution_count": 81,
   "metadata": {},
   "outputs": [
    {
     "data": {
      "text/html": [
       "\n",
       "            <style>\n",
       "                .geemap-dark {\n",
       "                    --jp-widgets-color: white;\n",
       "                    --jp-widgets-label-color: white;\n",
       "                    --jp-ui-font-color1: white;\n",
       "                    --jp-layout-color2: #454545;\n",
       "                    background-color: #383838;\n",
       "                }\n",
       "\n",
       "                .geemap-dark .jupyter-button {\n",
       "                    --jp-layout-color3: #383838;\n",
       "                }\n",
       "\n",
       "                .geemap-colab {\n",
       "                    background-color: var(--colab-primary-surface-color, white);\n",
       "                }\n",
       "\n",
       "                .geemap-colab .jupyter-button {\n",
       "                    --jp-layout-color3: var(--colab-primary-surface-color, white);\n",
       "                }\n",
       "            </style>\n",
       "            "
      ],
      "text/plain": [
       "<IPython.core.display.HTML object>"
      ]
     },
     "metadata": {},
     "output_type": "display_data"
    },
    {
     "name": "stdout",
     "output_type": "stream",
     "text": [
      "The common loon or great northern diver (Gavia immer) is a large member of the loon, or diver, family of birds. Breeding adults have a plumage that includes a broad black head and neck with a greenish, purplish, or bluish sheen, blackish or blackish-grey upperparts, and pure white underparts except some black on the undertail coverts and vent. Non-breeding adults are brownish with a dark neck and head marked with dark grey-brown. Their upperparts are dark brownish-grey with an unclear pattern of squares on the shoulders, and the underparts, lower face, chin, and throat are whitish. The sexes look alike, though males are significantly heavier than females. During the breeding season, loons live on lakes and other waterways in Canada, the northern United States (including Alaska), and southern parts of Greenland and Iceland. Small numbers breed on Svalbard and sporadically elsewhere in Arctic Eurasia. Common loons winter on both coasts of the US as far south as Mexico, and on the Atlantic coast of Europe.\n"
     ]
    }
   ],
   "source": [
    "#print(page_py.summary)\n",
    "# Extract the first secentence of the page_py.summary\n",
    "summary = page_py.summary.split('\\n')[0]\n",
    "\n",
    "print(summary)"
   ]
  },
  {
   "cell_type": "code",
   "execution_count": 84,
   "metadata": {},
   "outputs": [
    {
     "data": {
      "text/html": [
       "\n",
       "            <style>\n",
       "                .geemap-dark {\n",
       "                    --jp-widgets-color: white;\n",
       "                    --jp-widgets-label-color: white;\n",
       "                    --jp-ui-font-color1: white;\n",
       "                    --jp-layout-color2: #454545;\n",
       "                    background-color: #383838;\n",
       "                }\n",
       "\n",
       "                .geemap-dark .jupyter-button {\n",
       "                    --jp-layout-color3: #383838;\n",
       "                }\n",
       "\n",
       "                .geemap-colab {\n",
       "                    background-color: var(--colab-primary-surface-color, white);\n",
       "                }\n",
       "\n",
       "                .geemap-colab .jupyter-button {\n",
       "                    --jp-layout-color3: var(--colab-primary-surface-color, white);\n",
       "                }\n",
       "            </style>\n",
       "            "
      ],
      "text/plain": [
       "<IPython.core.display.HTML object>"
      ]
     },
     "metadata": {},
     "output_type": "display_data"
    },
    {
     "name": "stdout",
     "output_type": "stream",
     "text": [
      "The common loon or great northern diver (Gavia immer) is a large member of the loon, or diver, family of birds. Breeding adults have a plumage that includes a broad black head and neck with a greenish, purplish, or bluish sheen, blackish or blackish-grey upperparts, and pure white underparts except some black on the undertail coverts and vent. Non-breeding adults are brownish with a dark neck and head marked with dark grey-brown. Their upperparts are dark brownish-grey with an unclear pattern of squares on the shoulders, and the underparts, lower face, chin, and throat are whitish. The sexes look alike, though males are significantly heavier than females. During the breeding season, loons live on lakes and other waterways in Canada, the northern United States (including Alaska), and southern parts of Greenland and Iceland. Small numbers breed on Svalbard and sporadically elsewhere in Arctic Eurasia. Common loons winter on both coasts of the US as far south as Mexico, and on the Atlantic coast of Europe.\n",
      "Common loons eat a variety of animal prey including fish, crustaceans, insect larvae, molluscs, and occasionally aquatic plant life. They swallow most of their prey underwater, where it is caught, but some larger items are first brought to the surface. Loons are monogamous; that is, a single female and male often together defend a territory and may breed together for a decade or more. Both members of a pair build a large nest out of dead marsh grasses and other plants formed into a mound along the vegetated shores of lakes. A single brood is raised each year from a clutch of one or two olive-brown oval eggs with dark brown spots which are incubated for about 28 days by both parents. Fed by both parents, the chicks fledge in 70 to 77 days. The chicks are capable of diving underwater when just a few days old, and they fly to their wintering areas before ice forms in the fall.\n",
      "The common loon is assessed as a species of least concern on the IUCN Red List of Endangered Species. It is one of the species to which the Agreement on the Conservation of African-Eurasian Migratory Waterbirds applies. The United States Forest Service has designated the common loon a species of special status because of threats from habitat loss and toxic metal poisoning in its US range.\n",
      "The common loon is the provincial bird of Ontario, and it appears on Canadian currency, including the one-dollar \"loonie\" coin and a previous series of $20 bills. In 1961, it was designated the state bird of Minnesota, and appears on the Minnesota State Quarter.\n",
      "\n",
      "Taxonomy\n",
      "The common loon is also known as the great northern diver in Eurasia. Another former name, great northern loon, was a compromise proposed by the International Ornithological Committee. It is one of five loon species that make up the genus Gavia, the only genus of the family Gaviidae and order Gaviiformes. Its closest relative is another large black-headed species, the yellow-billed loon or white-billed diver (Gavia adamsii). There are no recognized subspecies of the common loon.\n",
      "Danish zoologist and mineralogist Morten Thrane Brünnich first described the common loon in 1764, as Colymbus immer in his Ornithologia Borealis. The now-defunct genus Colymbus contained grebes as well as loons, and remained in use until the International Commission on Zoological Nomenclature attempted to clarify the nomenclature in 1956 by declaring Colymbus a suppressed name unfit for further use and establishing Gavia, created by Johann Reinhold Forster in 1788, as the valid genus name for the loons.\n",
      "The current genus name Gavia was the Latin term for an unidentified seabird and the specific immer is derived from a Norwegian name for the bird, similar to the modern Icelandic word \"himbrimi\". The word may be related to Swedish immer and emmer: the grey or blackened ashes of a fire (referring to the loon's dark plumage); or to Latin immergo, to immerse, and immersus, submerged.\n",
      "The European name \"diver\" comes from the bird's practice of catching fish by diving. The North American name \"loon\" was first recorded in this sense in New Englands Prospect (1634) by William Wood (1580–1639); \"The Loone is an ill shap'd thing like a Cormorant\". It may be derived from Old Norse lómr, as are modern Swedish and Danish lom, in each case referring to the distinctive call.\n",
      "A number of fossil loon species are known from the Pliocene, and specimens from the Pleistocene of California and Florida appear to represent a paleosubspecies of the common loon.\n",
      "\n",
      "Description\n",
      "The adult common loon can range from 66 to 91 cm (26 to 36 in) in length with a 127 to 147 cm (4 ft 2 in to 4 ft 10 in) wingspan, slightly smaller than the similar yellow-billed loon. On average, it is about 81 cm (32 in) long and has a wingspan of 136 cm (54 in). Its weight can vary anywhere from 2.2 to 7.6 kg (4.9 to 16.8 lb). Sizes vary regionally, especially by body mass, with the smallest bodied loons on average from lower-central Canada and the Great Lakes, while westerly birds are similar or mildly larger, and loons breeding further east can appear to be significantly larger. Furthermore, males average up to nearly 27% more massive than females in some populations. Breeding loons in Maine averaged 4.65 kg (10.3 lb) in females and 5.97 kg (13.2 lb) in males, essentially the same weight as the yellow-billed loon, although the yellow-billed is still larger than in linear dimensions (especially bill length) than the Maine loons. In Ontario, 20 females averaged 4.5 kg (9.9 lb) and 20 males averaged 5.46 kg (12.0 lb). In contrast, in the Gulf of Alaska, adults of both sexes reportedly averaged 4.13 kg (9.1 lb). Adult breeding plumage consists of a broad black head and neck with greenish, purplish, or bluish sheen. It has a black bill sometimes with a pale tip, and red eyes. The neck is encircled with a characteristic black ring and has two white necklaces of eight to ten short streaks on the upper foreneck, and a noticeable collar of white, parallel lines forming a large oval on the neck-side. The central lower foreneck is pure white, and the lower neck-sides has longitudinal white lines becoming rows of small spots and black lines becoming very narrow. The upperparts are blackish or blackish grey, and each feather has small white spots on it. The upperwing is blackish and with small white spots on the non-primary coverts, whereas the underwing is paler with white coverts except the long black shaft-streaks on the axillaries. The underparts are pure white, but have some black on the undertail coverts and vent. It has a checkered black-and-white mantle and a blackish tail. The legs are pale grey on the inner half and blackish on the outer half, and the webs between the toes are flesh colored.\n",
      "\n",
      "Adult non-breeding plumage is brownish with a dark neck and head marked with dark grey-brown. The eyes are surrounded with white, and the eyelids are pale. The bill is mostly pale grey, with a dark culmen and tip, but in early spring the tip may turn whitish. The underparts, lower face, chin, and throat are also whitish. The foreneck is whitish, usually forming wedge-shaped notch in dark neck-sides, and may sometimes reveal a shadowy trace of the neck ring or a pale collar. It has dark brownish grey upperparts with an unclear pattern of squares on the shoulders and some wing coverts spotted with white, which are usually concealed while swimming. The male and the female have similar appearances, although they exhibit sexual dimorphism in their physical dimensions with the male larger and significantly heavier than the female.\n",
      "The heavy dagger-like bill is evenly tapered and greyish, sometimes having a black tip. The bill colour and angle distinguish this species from the yellow-billed loon. The neck is short and thick. The common loon swims very low in the water, with sometimes only its head held above and horizontal to the surface. It must run across the water surface to get in flight. During flight, its head is slightly lower than its body, with its feet trailing behind. It has a skeletal structure made up of a number of solid bones (this is usual for the Gaviiformes and penguins but unlike most flying birds which have bones with extensive pneumatization, hollow and filled with air to make the skeleton lighter), which adds weight but helps in diving.\n",
      "\n",
      "A juvenile often has a dark, brownish-grey nape that may look darker than the pale-edged black feathers. It has a dark grey to black head, neck, and upperparts, with white throat, cheeks, and underparts. During the first winter, the bill shape of the young may not be as fully developed as that of the adult, and during the second winter, it much resembles the breeding adult, but with wing coverts lacking white spots.\n",
      "The common loon is distinguished from the black-throated loon (G. arctica) and the red-throated loon (G. stellata) mainly by its larger size. It usually has a steeper forehead and a bulging forecrown, somewhat similar to the black-throated loon. Its bill is heavier and the back is paler than its hindneck. It is more difficult to separate from the yellow-billed loon, but its breeding plumage has more white markings on the neck and the squares on its shoulders are usually smaller; the non-breeding plumage has darker neck-sides contrasting more sharply with pale areas and bill colour.\n",
      "\n",
      "Moult\n",
      "The scaly juvenile plumage is retained until January or February of the year following hatching, when a lengthy moult of head and body feathers gives them a more adult-like appearance. Adults shed all their flight feathers simultaneously around this time, leaving them temporarily flightless, prior to gaining breeding plumage, but second-year birds delay this substantial moult until the summer. The adult winter plumage is attained between October and January by partial moult mainly of head, body and tail feathers.\n",
      "\n",
      "Genomics\n",
      "With improved gene-sequencing technology, a draft genome of the common loon has assembled and identified at least 14,169 genes. 80.7% of chicken genes are found in the common loon genome. The physiological costs of deep-water diving and long distance aerial migration of loons have greatly affected loon evolution. Many identified genes are candidate genes for positive selection since the common loon-chicken split 90 million years ago. It is theorized that these candidate genes are related to haemoglobin affinity for oxygen, solute exchange, immunoglobulin function related to immune defence, nervous system development and a number of molecular pathways related to DNA metabolic function, and G-receptor pathways potentially involved in low-light visual acuity. For example, SLC48A, and SLC20A1 are candidate genes in the Gavia lineage for maintaining homeostasis due to maybe having a role in maintaining ion and pH balance.\n",
      "\n",
      "Distribution and habitat\n",
      "Common loons are mainly Nearctic, and breed from 48° N to the Arctic Circle, locally south to 40° N and north to 78° N. During their breeding season in spring and summer, most common loons live on lakes and other waterways in the northern United States and Canada, as well as in southern parts of Greenland, in Iceland, in Svalbard, in Jan Mayen, and in Bear Island in Norway; and in Alaska, to the west, and very rarely in Scotland, to the east. Their summer habitat ranges from wooded lakes to tundra ponds. The lakes must be large enough for flight take-off, and provide a large population of small fish. Deep lakes with warm surface waters, relatively low biological productivity and low turbidity where their fish prey are easy to see are habitats where breeding loons are more successful in raising young. For protection from predators, common loons favour lakes with islands and coves. They are rare visitors to the Arctic coast. They are known to exhibit high breeding site fidelity.\n",
      "\n",
      "Some common loons remain in Iceland year-round, although most migrate. In North America, they winter mainly along north Atlantic and north-east Pacific coasts, many stopping off on the Great Lakes during their migration. They migrate in the day, starting about two hours after sunrise and flying at altitudes of 1500 to 2700 m above sea level, above the convective and turbulent layer of air. In winter they can be seen on North America coasts as far south as Baja California, Sonora, northern Sinaloa, southern Texas, and rarely northern Tamaulipas. In the east, several thousand winter along western European coasts, probably originating from Iceland, Greenland, and Canada. Their range extends into northwestern Europe from Finland to Portugal and southern and northwestern Spain (Galicia and Asturias), as well as the western Mediterranean off Catalonia, and off Morocco in Africa, although only a few hundred travel as far south as Iberia. Although wintering site fidelity is not well known, annually, adults are observed to return to the same wintering locations in the Pacific Ocean (Morro Bay), the Gulf of Mexico (Barataria Bay), the Atlantic Ocean (Maryland and Massachusetts), and the reservoir Lake Pateros.\n",
      "They usually winter along coasts and on inland lakes, bays, inlets, and streams, with birds migrating to the nearest body of water that will not freeze over in the winter: western Canadian loons go to the Pacific, Great Lakes loons to the Gulf of Mexico region, eastern Canadian loons to the Atlantic, and some loons to large inland lakes and reservoirs. They appear in most of the inland waters of the United States. The South Carolina coast, the Gulf coast adjacent to the Florida panhandle, and the Atlantic seaboard from Massachusetts to Maine have some of the highest concentrations of common loons. Occasional vagrants are recorded inland in Mexico, in San Luis Potosí and Coahuila, as well as in Chiapas and Oaxaca in the south. They are accidental in northern Japan and the Commander Islands in northwestern Pacific, and Cuba in the West Indies.\n",
      "\n",
      "Behaviour\n",
      "The common loon is an expert fisher, catching its prey underwater by diving as deep as 60 m (200 ft). With its large webbed feet, the common loon is an efficient underwater pursuit predator and adroit diver. It needs a long run-up distance to gain momentum for flight take-off and is ungainly on land, sliding on its belly and pushing itself forward with its legs. Its clumsiness on land is due to the legs being positioned at the rear of its body; the pelvic muscles are well developed, ideal for swimming but not well-suited for walking. When it lands on water, it skims along on its belly to slow down, rather than braking with its feet, as they are set too far back. The common loon swims and dives well, and flies competently for hundreds of kilometres in migration. It flies with its neck outstretched, usually calling a particular tremolo that can be used to identify a flying loon. Its flying speed is as much as 120 km/h (75 mph) during migration. Particularly during the breeding season, common loons frequently engage in territorial disputes against other water birds, including ducks and geese, and will attack or drive off competitors and intruders to their territory.\n",
      "\n",
      "Feeding\n",
      "Fish account for about 80% of the diet of the common loon. It forages on fish of up to 26 cm (10 in) in length, including minnows, suckers, gizzard shad, rock bass, alewife, northern pike, whitefish, sauger, brown bullhead, pumpkinseed, burbot, walleye, bluegill, white crappie, black crappie, rainbow smelt, and killifish. The young typically eat small minnows, and sometimes insects and fragments of green vegetation. The freshwater diet primarily consists of pike, perch, sunfish, trout, and bass; the saltwater diet primarily consists of rock fish, flounder, sea trout, herring, Atlantic croaker, haddock, and Gulf silverside. When there is either a lack of fish or they are difficult to catch, it preys on crustaceans, crayfish, snails, leeches, insect larvae, molluscs, frogs, annelids, and occasionally aquatic plant matter such as pondweed, roots, moss, willow shoots, seeds, and algae. It has also been known to eat ducklings.\n",
      "The common loon uses its powerful hind legs to propel its body underwater at high speed to catch its prey, which it then swallows head-first. If the fish attempts to evade the common loon, the bird chases it down with excellent underwater manoeuvrability due to its strong legs. Most prey are swallowed underwater, where they are caught, but some larger prey are first brought to the surface. It is a visual predator, so it is essential to hunting success that the water is clear. It normally dives 4 to 10 m (13 to 33 ft), but has been recorded to dive up to 70 m (230 ft). The average diving time is 42 seconds, but the maximum duration spent underwater is about 1 min (60 s).\n",
      "\n",
      "Breeding\n",
      "The common loon's mating system is serially monogamous; breeding pairs jointly defend a territory consisting of an entire small lake or a protected bay within a large lake. A given male and female remain together throughout a breeding attempt, rear their own biological offspring, reunite each spring, and may breed together for many consecutive years. However, in the event of death or territorial eviction of one pair member by an intruding loon of the same sex, the other pair member quickly establishes a pair bond with the evicting bird. Hence, most adult loons have two or more different mates during their lives. Evicting individuals tend to be young males and females (5 to 9 years old), while evicted adults are often those 15 years and older.\n",
      "Pairs do not remain together during winter; in addition, males usually precede females by a few days to a few weeks during spring migration, settling on their lake once a portion of it becomes ice-free. Copulation takes place ashore, often on the nest site, repeated daily until the eggs are laid. The preceding courtship is very simple, with mutual bill-dipping and dives. The displays towards intruders, such as bow-jumping (an alternation of fencing and bill-dipping postures and rushing (running \"along the surface with its wings either folded or half-extended and flapping at about the same speed as when taking off\") are often misinterpreted as courtship.\n",
      "Nesting typically begins in early May. Significantly more nesting sites are found on islands than on mainland shoreline. Breeding pairs patrol their territories routinely, even at night, defending the territory both physically and vocally. Pairs that nested together the preceding year typically reuse the nest site from the previous year, if they hatched chicks successfully there. In contrast, pairs that lost their eggs to a predator usually shift the nest to a new location. This logical behaviour pattern appears to depend upon the male, because breeding pairs consisting of last year's male and a female not present during the preceding year continue to exhibit the behaviour; pairs composed of last year's female and a new male tend to select a new nest site, regardless of the success or failure of the previous year's attempt. Despite the lead role of males in nest site selection, both sexes contribute substantially to nest construction. The nest is about 56 cm (22 in) wide and is constructed out of dead marsh grasses and other indigenous plants, and formed into a mound along the vegetated coasts of lakes greater than 3.7 ha (9.1 acres). After a week of construction in late spring, one parent climbs on top to mould the interior of the nest to the shape of its body. Based on a number of studies, nesting success averages about 40%, and most newly hatched young survive due to parental care.\n",
      "Eggs from first clutches are typically laid in May or early June, the timing depending largely upon the date that lakes become ice-free and inhabitable. A clutch consists of two (occasionally one) olive-brown oval eggs with dark brown spots. Incubation is carried out jointly by male and female and lasts about 28 days. Loons often place nests along steep lake shorelines where adults can quickly dive underwater when approached by predators. The eggs are about 88 mm (3.5 in) long and 55 mm (2.2 in) wide and the two eggs are laid with an interval of one to three days between them, and hatch asynchronously.\n",
      "Newly hatched chicks are dark chocolate brown in colour and have a white belly. Within hours of hatching, the young begin to leave the nest with the parents, swimming close by and sometimes riding on one parent's back. Parents and chicks initially stay in shallow, isolated bays where the parents are able to defend the chicks better from intruding loons and eagles, which are their main predators. Male parents defend broods consisting of two chicks more vigorously than singleton chicks, chiefly with the territorial yodel call. The chicks are capable of making shallow dives from their first day but make deeper dives as they grow. Fledging takes 70 to 77 days. Usually, only one brood is raised. Both parents feed the chicks live prey from hatching to fledging. As they grow, chicks are able to catch an increasingly large proportion of their diet by themselves; they can feed and fend for themselves after about two months, although many juveniles continue to beg from adults well beyond this age. The parent birds capture small fish and hold them crosswise in their bill, call and approach the chicks with their head lowered so that the chicks can grasp them. If food is scarce, the larger chick may peck its small sibling incessantly; on small lakes with limited food, only one chick often survives. Juveniles leave the breeding ground before ice formation in the fall, weeks after their parents. A pair of loons raising two chicks have been estimated to feed on 423 kilograms (933 lb) of fish during the five and a half months that they spend in their breeding territory.\n",
      "\n",
      "Habitat selection\n",
      "Loons exhibit a strong tendency to settle as breeders on a lake that resembles their natal one, a phenomenon termed natal habitat imprinting. This preference is based on two lake attributes: size and pH. The behaviour is puzzling, because it is as strong in loons hatched on small, acidic lakes as those from large lakes of neutral pH. Hence, the former group is exhibiting active preference for lakes that have been shown to result in higher chick mortality and lower breeding success.\n",
      "\n",
      "Vocalizations\n",
      "The common loon produces a variety of vocalizations, the most common of which are the tremolo, the yodel, the wail, and the hoot. Each of these calls communicates a distinct message. The frequency at which it vocalizes has been shown to vary based on time of day, weather, and season. It is most vocally active between mid-May and mid-June. The wail, yodel, and tremolo calls are sounded more frequently at night than during the day; calls have also been shown to occur more frequently in cold temperatures and when there is little to no rain.\n",
      "\n",
      "The tremolo call—sometimes called the \"laughing\" call—is characterized by its short, wavering quality. It often uses this call to signal distress or alarm caused by territorial disputes or perceived threats. It emits a tremulous series of up to 10 rather high notes (hu)-heheheheheheha. It also uses the tremolo to communicate its presence to other loons when they arrive at a lake, often when they are flying overhead. It is the only vocalization used in flight. The tremolo call has varying three levels of intensities that correlate with a loon's level of distress, and the types are differentiated by increasingly higher pitch frequencies added to the call.\n",
      "\n",
      "The yodel is a long and complex call made only by the male. It is used in the establishment of territorial boundaries and in territorial confrontations, and the length of the call corresponds with the loon's level of aggression. The dominant frequencies in the yodel indicate the body mass and thereby the health of males. A male that occupies a new territory appears to alter its yodel to be clearly distinguishable from the call of the previous territory owner.\n",
      "A loon's wail is a long call consisting of up to three notes, and is often compared to a wolf's howl. It uses this call to communicate its location to other loons. The call is given back and forth between breeding pairs or an adult and its chick, either to maintain contact or in an attempt to move closer together after being separated. It is a loud aaoo, weee-wea weee-wea weee-wea, or ooo-aaah-éééé.\n",
      "The hoot is a short, soft call and is another form of contact call. It is a more intimate call than the wail and is used exclusively between small family groups or flocks. The common loon hoots to let other family or flock members know where it is. This call is often heard when the adult loon is summoning its chicks to feed.\n",
      "\n",
      "Longevity and terminal investment\n",
      "Considerable information on longevity and survival rates has been collected in the past two decades, owing to the implementation of an efficient capture protocol that permits marking and monitoring of large study populations. A rough preliminary analysis showed that common loons of both sexes survive at an annual rate of over 90% until they reach their mid-20s, but show a survival rate of only about 75% thereafter. However, a second, finer-scaled analysis made clear that male loons begin to show higher mortality, increased territory loss and lower body condition starting at age 15. Perhaps in response to their physical decline, males 15 and older show increased rates of both territorial aggression and territorial vocalization. This age-related shift in behaviour is interpreted as terminal investment, a \"go for broke\" strategy seen in senescing animals that are attempting to eke out another year or two of breeding before they die.\n",
      "\n",
      "Predators and parasites\n",
      "Adult common loons have few predators, although bald eagles will attack incubating birds. Attacks by sharks in winter have also been recorded. When a predator approaches (either the loon's nest or the loon itself), the common loon sometimes attacks the predator by rushing at it and trying to stab it with its dagger-like bill, aiming its attacks either at the predator's abdomen or the back of its head or neck, which may be deadly to predators up to the size of a fox or raccoon.\n",
      "Eggs are taken by a number of mammals, including American mink, striped skunk, otters, foxes and raccoons, with the latter being responsible for nearly 40% of all nest failures. Birds such as herring gulls, northern ravens and American crows will eat unattended eggs. Because their nests are at the water's edge, common loon eggs are especially vulnerable if the adult is absent.\n",
      "Chicks may be killed by common snapping turtles, large gulls, bald eagles and large fish such as northern pike and largemouth bass. The eagle in particular is a significant predator of chicks.\n",
      "Internal parasites of the common loon include many species of worms, including flatworms, tapeworms, nematodes and spiny-headed worms. High levels of worms may result from feeding changes due to low availability of fish, and can lead to illness and death. Protozoal infections including one caused by Eimeria gaviae and avian malaria have been recorded in this loon. The black fly Simulium annulus is closely associated with the common loon to which it is attracted to chemicals in the uropygial gland secretions as well as by visual and tactile cues. This fly is detrimental to loons, their preferred hosts, transmitting blood-borne parasites and viruses, and causing nest abandonment when numbers are high. External parasites include ischnoceran feather lice, although these are not found on the bird's head.\n",
      "Botulism, acquired by eating infected fish, can lead to paralysis and drowning. Aspergillosis is another cause of emaciation and death. Outbreaks sometimes lead to thousands of deaths.\n",
      "\n",
      "Status and conservation\n",
      "Since 1998, the common loon has been rated as a species of least concern on the IUCN Red List of Endangered Species. This is because it has a large range – more than 20,000 km2 (7,700 sq mi) – and because it has a stable population trend that does not warrant a vulnerable rating. It also has a large population size of 612,000 to 640,000 individuals. The estimated breeding population ranges from 1,400 to 2,600 mature individuals in Europe. Over half of the breeding population in North America is found in Ontario with 97,000 territorial pairs, and in Quebec with 50,000 territorial pairs. About 2,400 individuals occur in each of the maritime provinces of Canada—Nova Scotia and New Brunswick. British Columbia accounts for 25,000 territorial pairs. In far northern Canada, about 50,000 territorial pairs are known to occur, and 12,500 to 15,000 territorial pairs occur in the Prairie Provinces of Alberta, Manitoba, and Saskatchewan. In the United States, the largest breeding population is present in Alaska with 3,600 to 6,000 territorial pairs. The U.S. Great Lakes region has 5,900 to 7,200 territorial pairs which accounts for over half of the breeding population in the United States. There are about 100 territorial pairs in the northwestern U.S. states of Washington, Idaho, Montana, and Wyoming. About 2,250 territorial pairs are found in New England and New York. In winter, 3,500 to 4,500 individuals are found in the United Kingdom, and even fewer individuals are found in the western European coastline and in Iceland. Along the Pacific Coast, about 184,000 to 189,000 adults and 31,000 to 32,000 juveniles are found, and along the Atlantic Coast, 423,000 to 446,000 adults and 72,000 to 76,000 juveniles are found.\n",
      "The common loon is listed under Appendix II of the Convention on the Conservation of Migratory Species, and in Article I under the European Union (EU) Birds Directive. It is one of the species to which the Agreement on the Conservation of African-Eurasian Migratory Waterbirds (AEWA) is applied. In Europe it appears in 20 Important Bird Areas (IBAs), including Ireland, Svalbard, mainland Norway, Iceland, Spain, and the United Kingdom. It is also a listed species in 83 Special Protection Areas in the EU Natura 2000 network. The USDA National Forest Service has designated the common loon a species of special status, and in the upper Great Lake regions of the Huron-Manistee, Ottawa, and Hiawatha national forests as a regional forester sensitive species.\n",
      "\n",
      "Threats to status and conservation\n",
      "Effects of mercury and acid rain pollution on health and brood productivity\n",
      "The common loon is a key indicator of mercury deposition in aquatic environments due to its position at the top of the food chain. The main contributors to elevated mercury concentrations in aquatic environments are coal burning power plants, waste incineration, and metal production. Although environmental mercury (Hg) is naturally occurring, methylmercury (CH3Hg+, sometimes written as MeHg+) is a biologically toxic form that accumulates throughout aquatic environments in the northeastern United States. Methylmercury, a neurotoxin, has been shown to have a wide range of behavioral, reproductive, and survival effects on the common loon. Previous research has found a correlation between mercury levels and pH, with more acidic aquatic environments being at the highest risk for elevated methylmercury concentrations. Once mercury enters the water, it is taken up by fish and spread throughout the food chain. Resulting from this transmission of mercury, there is a significant positive correlation between mercury levels in fish and mercury levels in male, female, and chick blood of common loons; consequently, an increase in mercury concentration in the blood of common loons and fish was seen with a decrease in local aquatic pH. Although there have been reductions in recent years in acidifying emissions, there has been limited biological recovery in these lakes most likely due to climate change. Research has shown that warmer summer temperatures can inhibit reestablishment of cold-water fish species in acidified lakes and droughts brought on by increased summer temperatures can further acidify lakes.\n",
      "Although the common loon is able to decrease their methylmercury levels by molting and laying eggs, continued consumption of fish with raised methylmercury levels prevents these mechanisms from effectively lowering methylmercury levels. Mercury concentrations have been shown to vary by the sex and age of common loons. Male common loons were found to contain the highest blood mercury concentration likely due to the fact that they tend to consume bigger fish with higher mercury concentrations. Females contained the second highest blood mercury concentration with differences between the males likely being due to the fact that females can expel mercury into the eggs they lay. Juveniles had the lowest blood mercury concentration. Scientists found that the data from juveniles helped to best indicate the local mercury availability as they are fed exclusively from their natal territory.\n",
      "Elevated levels of mercury have been associated with changes in foraging and brooding behavior among adult common loons, especially in higher concentrations. Studies have found that elevated levels of methylmercury are associated with lethargy and decreased time spent foraging in adult common loons. A different study carried out in the Adirondack Mountains found that elevated levels of methylmercury are associated with reduced diving frequency in adult common loons. One study found that brood productivity was reduced by half when female blood mercury levels exceeded 4.3 μg/g and productivity completely failed when female blood mercury levels exceeded 8.6 μg/g. These results are related to fish mercury levels of 0.21 μg/g and 0.41 μg/g, respectively. As mercury levels and pH are correlated, scientists have found that brood success decreases with decreasing pH such that environments with a pH at around 4.5 exhibited reproductive success below a calculated positive growth rate threshold. An association has also been observed between elevated blood methylmercury levels and aberrant incubation patterns. Adult common loons with high levels of methylmercury were found to spend less time incubating and in the nest, increasing the risks of predation and the eggs overheating/overcooling. Together, the effects of heightened methylmercury levels on parenting behaviors may contribute to lower chick survival rates. One study in Maine and New Hampshire found that high levels of methylmercury in parents are associated with a significant decrease in the number of fledged young, with common loons in the highest risk group producing 41% fewer fledged young than common loons with low levels of methylmercury.\n",
      "\n",
      "Mercury deposition in the Adirondack Mountains\n",
      "The common loons of the Adirondack Mountains are particularly affected by methylmercury as the acidity of the lakes provides an environment conducive to converting environmental mercury to methylmercury. One study found that 21% of the male Adirondack common loon and 8% of the female Adirondacks common loon sampled were at high risk for detrimental impacts such as behavioral and reproductive abnormalities. In the Adirondacks, bioaccumulation factors for methylmercury were found to increase up the food chain, leaving common loons at the highest risk for detrimental effects from methylmercury. Spatial analysis indicates that the highest aquatic mercury concentrations are found in the southwestern portion of the Adirondacks, an area with lakes heavily affected by acid rain. Organizations such as the Adirondack Loon Center and the Adirondack Cooperative Loon Program spearhead loon conservation efforts in the Adirondacks by performing research, engaging the public, and informing public policy.\n",
      "\n",
      "Breeding range decline\n",
      "The common loon's breeding range has moved northward, the species breeding as far south as Iowa a century ago. It too is adversely affected by acid rain and pollution, as well as lead poisoning from fishing sinkers (especially those that are about the size of the grit stones they ingest) and mercury contamination from industrial waste. Heavy metals such as mercury may be partially removed through biological processes such as excretion or deposition in feathers, but their adverse effects are magnified through concentration of the toxic elements in organs such as the liver. Eggs shells may also contain metal contaminants, leading to low reproductive productivity. High levels of heavy metals are linked to loons being in poor condition, males being affected more because they eat larger fish.\n",
      "The common loon has also faced a decline in breeding range due to hunting, predation, and water-level fluctuations, or flooding. Some environmentalists attempt to increase nesting success by mitigating the effects of some of these threats, namely terrestrial predation and water-level fluctuations, through the deployment of rafts in the loon's breeding territories. In addition, artificial floating nesting platforms have been provided for the common loon in some lakes to reduce the impact of changing water levels due to dams and other human activities. The common loon abandons lakes that fail to provide suitable nesting habitat due to shoreline development. It is endangered by personal water-craft and powerboats that may drown newly born chicks, wash eggs away, or swamp nests. It is still considered an \"injured\" species in Alaska as a result of the Exxon Valdez oil spill.\n",
      "\n",
      "Lead poisoning\n",
      "In a 2003 survey of New England dead loons, lead poisoning from fishing weights accounted for about half of the deaths, and other human factors directly caused the death of 52% of the observed 522 loons.\n",
      "\n",
      "In culture\n",
      "The common loon appears on Canadian currency, including the one-dollar \"loonie\" coin and the previous series of $20 bills. It is the provincial bird of Ontario. It was designated the state bird of the U.S. state of Minnesota in 1961, and also appears on the Minnesota State Quarter.\n",
      "\n",
      "Folklore\n",
      "The voice and appearance of the common loon has made it prominent in several Native American tales. These include an Ojibwe story of a loon that created the world, and a Mi'kmaq saga describing Kwee-moo, the loon who was a special messenger of Glooscap (Glu-skap), the tribal hero. The tale of the loon's necklace was handed down in many versions among Pacific Coast peoples. The Delaware in the east of North America and the Buryats of Siberia also had creation stories involving the loon.\n",
      "Folk names for the common loon include \"big loon\", \"call-up-a-storm\", \"greenhead\", \"hell-diver\", \"walloon\", \"black-billed loon\", \"guinea duck\", \"imber diver\", \"ring-necked loon\", and \"ember-goose\". An old colloquial name from New England was call-up-a-storm, as its noisy cries supposedly foretold stormy weather. Some old Scottish names such as arran hawk and carara are corruptions of old Scottish Gaelic onomatopoeic names representing the bird's call; others, like bishop and ember goose, were used to avoid older names for this sometimes ill-omened bird.\n",
      "The common loon was eaten in the Scottish Islands from the Neolithic until the eighteenth century, and its thick layer of fat beneath the skin was used as a cure for sciatica.\n",
      "\n",
      "Popular culture\n",
      "The bird is central to the plot of the children's novel Great Northern? by Arthur Ransome (in which it is referred to throughout as \"great northern diver\", with the then current scientific name Colymbus immer). The story is set in the Outer Hebrides, where the main characters—a group of children on holiday—notice a pair of divers apparently nesting there. Checking their bird book, they believe that these are great northern divers. However, these have not previously been seen to nest in northern Scotland, and so they ask for help from an ornithologist. He confirms that these birds are indeed the great northern; unfortunately, it soon transpires that he does not wish merely to observe, but wants to steal the eggs and add them to his collection; and to do this, he must first kill the birds. Published in 1947, the story is one where the conservationists are the eventual victors over the egg collector, at a time when the latter hobby was not widely considered to be harmful.\n",
      "Major League Soccer club Minnesota United FC uses the loon in its crest and nickname, as well as a mascot.\n",
      "Minor League Baseball team Great Lakes Loons, located in Midland, Michigan also uses the loon in its logo and name, as well as a mascot.\n",
      "\n",
      "Films\n",
      "The wailing call of the loon is widely used in film and television to evoke wilderness and suspense, and is referenced in songs such as \"Old Devil Moon\" (\"wanna laugh like a loon\").\n",
      "Loons are featured prominently in the 1981 film On Golden Pond. Its distinctive sound also appeared in Conan the Barbarian, Out of Africa, Platoon, Guinevere, Harry Potter and the Prisoner of Azkaban, Rick and Morty, Watchmen, Godzilla, Kubo and the Two Strings, Avengers: Infinity War, Pet Sematary, 1917 and Avengers: Endgame, among others.\n",
      "In the 2016 Pixar movie Finding Dory, a somewhat bedraggled and dimwitted loon named Becky is persuaded to use a bucket to help two of the main characters, Nemo and Marlin, get into a marine life institute where the titular Dory is trapped.\n",
      "\n",
      "Notes\n",
      "References\n",
      "Sources\n",
      "External links\n",
      "\n",
      "Common Loon stamps[usurped] – bird-stamps.org\n",
      "Common loon (Gavia immer) – ARKive\n",
      "\"Great Northern Diver (Gavia immer) media\". Internet Bird Collection.\n",
      "The Loon Preservation Committee\n",
      "Common loon photo gallery at VIREO (Drexel University)\n",
      "\n"
     ]
    }
   ],
   "source": [
    "wiki_wiki = wikipediaapi.Wikipedia(\n",
    "    user_agent='MyProjectName (merlin@example.com)',\n",
    "    language='en',\n",
    "    extract_format=wikipediaapi.ExtractFormat.WIKI\n",
    ")\n",
    "\n",
    "p_wiki = wiki_wiki.page(\"common loon\")\n",
    "print(p_wiki.text)\n",
    "# Summary\n",
    "# Section 1\n",
    "# Text of section 1\n",
    "# Section 1.1\n",
    "# Text of section 1.1\n",
    "# ...\n",
    "\n",
    "\n",
    "wiki_html = wikipediaapi.Wikipedia(\n",
    "    user_agent='MyProjectName (merlin@example.com)',\n",
    "    language='en',\n",
    "    extract_format=wikipediaapi.ExtractFormat.HTML\n",
    ")\n",
    "p_html = wiki_html.page(\"Test 1\")\n",
    "print(p_html.text)"
   ]
  },
  {
   "cell_type": "code",
   "execution_count": 85,
   "metadata": {},
   "outputs": [
    {
     "data": {
      "text/html": [
       "\n",
       "            <style>\n",
       "                .geemap-dark {\n",
       "                    --jp-widgets-color: white;\n",
       "                    --jp-widgets-label-color: white;\n",
       "                    --jp-ui-font-color1: white;\n",
       "                    --jp-layout-color2: #454545;\n",
       "                    background-color: #383838;\n",
       "                }\n",
       "\n",
       "                .geemap-dark .jupyter-button {\n",
       "                    --jp-layout-color3: #383838;\n",
       "                }\n",
       "\n",
       "                .geemap-colab {\n",
       "                    background-color: var(--colab-primary-surface-color, white);\n",
       "                }\n",
       "\n",
       "                .geemap-colab .jupyter-button {\n",
       "                    --jp-layout-color3: var(--colab-primary-surface-color, white);\n",
       "                }\n",
       "            </style>\n",
       "            "
      ],
      "text/plain": [
       "<IPython.core.display.HTML object>"
      ]
     },
     "metadata": {},
     "output_type": "display_data"
    }
   ],
   "source": [
    "def print_sections(sections, level=0):\n",
    "    for s in sections:\n",
    "        print(\"%s: %s - %s\" % (\"*\" * (level + 1), s.title, s.text[0:40]))\n",
    "        print_sections(s.sections, level + 1)"
   ]
  },
  {
   "cell_type": "code",
   "execution_count": 101,
   "metadata": {},
   "outputs": [
    {
     "data": {
      "text/html": [
       "\n",
       "            <style>\n",
       "                .geemap-dark {\n",
       "                    --jp-widgets-color: white;\n",
       "                    --jp-widgets-label-color: white;\n",
       "                    --jp-ui-font-color1: white;\n",
       "                    --jp-layout-color2: #454545;\n",
       "                    background-color: #383838;\n",
       "                }\n",
       "\n",
       "                .geemap-dark .jupyter-button {\n",
       "                    --jp-layout-color3: #383838;\n",
       "                }\n",
       "\n",
       "                .geemap-colab {\n",
       "                    background-color: var(--colab-primary-surface-color, white);\n",
       "                }\n",
       "\n",
       "                .geemap-colab .jupyter-button {\n",
       "                    --jp-layout-color3: var(--colab-primary-surface-color, white);\n",
       "                }\n",
       "            </style>\n",
       "            "
      ],
      "text/plain": [
       "<IPython.core.display.HTML object>"
      ]
     },
     "metadata": {},
     "output_type": "display_data"
    },
    {
     "name": "stdout",
     "output_type": "stream",
     "text": [
      "*: Taxonomy - The common loon is also known as the gre\n",
      "*: Description - The adult common loon can range from 66 \n",
      "**: Moult - The scaly juvenile plumage is retained u\n",
      "**: Genomics - With improved gene-sequencing technology\n",
      "*: Distribution and habitat - Common loons are mainly Nearctic, and br\n",
      "*: Behaviour - The common loon is an expert fisher, cat\n",
      "**: Feeding - Fish account for about 80% of the diet o\n",
      "**: Breeding - The common loon's mating system is seria\n",
      "**: Habitat selection - Loons exhibit a strong tendency to settl\n",
      "**: Vocalizations - The common loon produces a variety of vo\n",
      "*: Longevity and terminal investment - Considerable information on longevity an\n",
      "*: Predators and parasites - Adult common loons have few predators, a\n",
      "*: Status and conservation - Since 1998, the common loon has been rat\n",
      "**: Threats to status and conservation - \n",
      "***: Effects of mercury and acid rain pollution on health and brood productivity - The common loon is a key indicator of me\n",
      "***: Mercury deposition in the Adirondack Mountains - The common loons of the Adirondack Mount\n",
      "***: Breeding range decline - The common loon's breeding range has mov\n",
      "**: Lead poisoning - In a 2003 survey of New England dead loo\n",
      "*: In culture - The common loon appears on Canadian curr\n",
      "**: Folklore - The voice and appearance of the common l\n",
      "**: Popular culture - The bird is central to the plot of the c\n",
      "***: Films - The wailing call of the loon is widely u\n",
      "*: Notes - \n",
      "*: References - \n",
      "*: Sources - \n",
      "*: External links - \n",
      "Common Loon stamps[usurped] – bird-stam\n"
     ]
    }
   ],
   "source": [
    "print_sections(p_wiki.sections)"
   ]
  },
  {
   "cell_type": "code",
   "execution_count": 102,
   "metadata": {},
   "outputs": [
    {
     "data": {
      "text/html": [
       "\n",
       "            <style>\n",
       "                .geemap-dark {\n",
       "                    --jp-widgets-color: white;\n",
       "                    --jp-widgets-label-color: white;\n",
       "                    --jp-ui-font-color1: white;\n",
       "                    --jp-layout-color2: #454545;\n",
       "                    background-color: #383838;\n",
       "                }\n",
       "\n",
       "                .geemap-dark .jupyter-button {\n",
       "                    --jp-layout-color3: #383838;\n",
       "                }\n",
       "\n",
       "                .geemap-colab {\n",
       "                    background-color: var(--colab-primary-surface-color, white);\n",
       "                }\n",
       "\n",
       "                .geemap-colab .jupyter-button {\n",
       "                    --jp-layout-color3: var(--colab-primary-surface-color, white);\n",
       "                }\n",
       "            </style>\n",
       "            "
      ],
      "text/plain": [
       "<IPython.core.display.HTML object>"
      ]
     },
     "metadata": {},
     "output_type": "display_data"
    },
    {
     "name": "stdout",
     "output_type": "stream",
     "text": [
      "Taxonomy\n",
      "The common loon is also known as the great northern diver in Eurasia. Another former name, great northern loon, was a compromise proposed by the International Ornithological Committee. It is one of five loon species that make up the genus Gavia, the only genus of the family Gaviidae and order Gaviiformes. Its closest relative is another large black-headed species, the yellow-billed loon or white-billed diver (Gavia adamsii). There are no recognized subspecies of the common loon.\n",
      "Danish zoologist and mineralogist Morten Thrane Brünnich first described the common loon in 1764, as Colymbus immer in his Ornithologia Borealis. The now-defunct genus Colymbus contained grebes as well as loons, and remained in use until the International Commission on Zoological Nomenclature attempted to clarify the nomenclature in 1956 by declaring Colymbus a suppressed name unfit for further use and establishing Gavia, created by Johann Reinhold Forster in 1788, as the valid genus name for the loons.\n",
      "The current genus name Gavia was the Latin term for an unidentified seabird and the specific immer is derived from a Norwegian name for the bird, similar to the modern Icelandic word \"himbrimi\". The word may be related to Swedish immer and emmer: the grey or blackened ashes of a fire (referring to the loon's dark plumage); or to Latin immergo, to immerse, and immersus, submerged.\n",
      "The European name \"diver\" comes from the bird's practice of catching fish by diving. The North American name \"loon\" was first recorded in this sense in New Englands Prospect (1634) by William Wood (1580–1639); \"The Loone is an ill shap'd thing like a Cormorant\". It may be derived from Old Norse lómr, as are modern Swedish and Danish lom, in each case referring to the distinctive call.\n",
      "A number of fossil loon species are known from the Pliocene, and specimens from the Pleistocene of California and Florida appear to represent a paleosubspecies of the common loon.\n"
     ]
    }
   ],
   "source": [
    "# Extract the contents of selected section\n",
    "section = p_wiki.sections[0]\n",
    "print(section.title)\n",
    "print(section.text)\n"
   ]
  },
  {
   "cell_type": "code",
   "execution_count": null,
   "metadata": {},
   "outputs": [],
   "source": []
  }
 ],
 "metadata": {
  "kernelspec": {
   "display_name": "gee",
   "language": "python",
   "name": "python3"
  },
  "language_info": {
   "codemirror_mode": {
    "name": "ipython",
    "version": 3
   },
   "file_extension": ".py",
   "mimetype": "text/x-python",
   "name": "python",
   "nbconvert_exporter": "python",
   "pygments_lexer": "ipython3",
   "version": "3.12.2"
  }
 },
 "nbformat": 4,
 "nbformat_minor": 2
}
