{
 "cells": [
  {
   "cell_type": "code",
   "execution_count": 2,
   "metadata": {},
   "outputs": [],
   "source": [
    "# create a streamlit web app to deploy the model\n",
    "import streamlit as st\n",
    "import pandas as pd\n",
    "import numpy as np\n",
    "import pickle\n",
    "\n",
    "# Importing the libraries needed\n",
    "import torch\n",
    "import urllib.request\n",
    "from PIL import Image\n",
    "from transformers import pipeline\n",
    "\n",
    "\n"
   ]
  },
  {
   "cell_type": "code",
   "execution_count": null,
   "metadata": {},
   "outputs": [],
   "source": [
    "# create a image upload function using streamlit in order to use the model\n",
    "\n"
   ]
  },
  {
   "cell_type": "code",
   "execution_count": 3,
   "metadata": {},
   "outputs": [
    {
     "ename": "ValueError",
     "evalue": "unknown url type: 'some url'",
     "output_type": "error",
     "traceback": [
      "\u001b[0;31m---------------------------------------------------------------------------\u001b[0m",
      "\u001b[0;31mValueError\u001b[0m                                Traceback (most recent call last)",
      "Cell \u001b[0;32mIn[3], line 5\u001b[0m\n\u001b[1;32m      2\u001b[0m url \u001b[38;5;241m=\u001b[39m \u001b[38;5;124m'\u001b[39m\u001b[38;5;124msome url\u001b[39m\u001b[38;5;124m'\u001b[39m\n\u001b[1;32m      4\u001b[0m \u001b[38;5;66;03m# Opening the image using PIL\u001b[39;00m\n\u001b[0;32m----> 5\u001b[0m img \u001b[38;5;241m=\u001b[39m Image\u001b[38;5;241m.\u001b[39mopen(\u001b[43murllib\u001b[49m\u001b[38;5;241;43m.\u001b[39;49m\u001b[43mrequest\u001b[49m\u001b[38;5;241;43m.\u001b[39;49m\u001b[43murlretrieve\u001b[49m\u001b[43m(\u001b[49m\u001b[43murl\u001b[49m\u001b[43m)\u001b[49m[\u001b[38;5;241m0\u001b[39m])\n\u001b[1;32m      7\u001b[0m \u001b[38;5;66;03m# Loading the model and preprocessor using Pipeline\u001b[39;00m\n\u001b[1;32m      8\u001b[0m pipe \u001b[38;5;241m=\u001b[39m pipeline(\u001b[38;5;124m\"\u001b[39m\u001b[38;5;124mimage-classification\u001b[39m\u001b[38;5;124m\"\u001b[39m, model\u001b[38;5;241m=\u001b[39m\u001b[38;5;124m\"\u001b[39m\u001b[38;5;124mdennisjooo/Birds-Classifier-EfficientNetB2\u001b[39m\u001b[38;5;124m\"\u001b[39m)\n",
      "File \u001b[0;32m/opt/conda/envs/streamlit/lib/python3.9/urllib/request.py:239\u001b[0m, in \u001b[0;36murlretrieve\u001b[0;34m(url, filename, reporthook, data)\u001b[0m\n\u001b[1;32m    222\u001b[0m \u001b[38;5;250m\u001b[39m\u001b[38;5;124;03m\"\"\"\u001b[39;00m\n\u001b[1;32m    223\u001b[0m \u001b[38;5;124;03mRetrieve a URL into a temporary location on disk.\u001b[39;00m\n\u001b[1;32m    224\u001b[0m \n\u001b[0;32m   (...)\u001b[0m\n\u001b[1;32m    235\u001b[0m \u001b[38;5;124;03mdata file as well as the resulting HTTPMessage object.\u001b[39;00m\n\u001b[1;32m    236\u001b[0m \u001b[38;5;124;03m\"\"\"\u001b[39;00m\n\u001b[1;32m    237\u001b[0m url_type, path \u001b[38;5;241m=\u001b[39m _splittype(url)\n\u001b[0;32m--> 239\u001b[0m \u001b[38;5;28;01mwith\u001b[39;00m contextlib\u001b[38;5;241m.\u001b[39mclosing(\u001b[43murlopen\u001b[49m\u001b[43m(\u001b[49m\u001b[43murl\u001b[49m\u001b[43m,\u001b[49m\u001b[43m \u001b[49m\u001b[43mdata\u001b[49m\u001b[43m)\u001b[49m) \u001b[38;5;28;01mas\u001b[39;00m fp:\n\u001b[1;32m    240\u001b[0m     headers \u001b[38;5;241m=\u001b[39m fp\u001b[38;5;241m.\u001b[39minfo()\n\u001b[1;32m    242\u001b[0m     \u001b[38;5;66;03m# Just return the local path and the \"headers\" for file://\u001b[39;00m\n\u001b[1;32m    243\u001b[0m     \u001b[38;5;66;03m# URLs. No sense in performing a copy unless requested.\u001b[39;00m\n",
      "File \u001b[0;32m/opt/conda/envs/streamlit/lib/python3.9/urllib/request.py:214\u001b[0m, in \u001b[0;36murlopen\u001b[0;34m(url, data, timeout, cafile, capath, cadefault, context)\u001b[0m\n\u001b[1;32m    212\u001b[0m \u001b[38;5;28;01melse\u001b[39;00m:\n\u001b[1;32m    213\u001b[0m     opener \u001b[38;5;241m=\u001b[39m _opener\n\u001b[0;32m--> 214\u001b[0m \u001b[38;5;28;01mreturn\u001b[39;00m \u001b[43mopener\u001b[49m\u001b[38;5;241;43m.\u001b[39;49m\u001b[43mopen\u001b[49m\u001b[43m(\u001b[49m\u001b[43murl\u001b[49m\u001b[43m,\u001b[49m\u001b[43m \u001b[49m\u001b[43mdata\u001b[49m\u001b[43m,\u001b[49m\u001b[43m \u001b[49m\u001b[43mtimeout\u001b[49m\u001b[43m)\u001b[49m\n",
      "File \u001b[0;32m/opt/conda/envs/streamlit/lib/python3.9/urllib/request.py:501\u001b[0m, in \u001b[0;36mOpenerDirector.open\u001b[0;34m(self, fullurl, data, timeout)\u001b[0m\n\u001b[1;32m    498\u001b[0m \u001b[38;5;28;01mdef\u001b[39;00m \u001b[38;5;21mopen\u001b[39m(\u001b[38;5;28mself\u001b[39m, fullurl, data\u001b[38;5;241m=\u001b[39m\u001b[38;5;28;01mNone\u001b[39;00m, timeout\u001b[38;5;241m=\u001b[39msocket\u001b[38;5;241m.\u001b[39m_GLOBAL_DEFAULT_TIMEOUT):\n\u001b[1;32m    499\u001b[0m     \u001b[38;5;66;03m# accept a URL or a Request object\u001b[39;00m\n\u001b[1;32m    500\u001b[0m     \u001b[38;5;28;01mif\u001b[39;00m \u001b[38;5;28misinstance\u001b[39m(fullurl, \u001b[38;5;28mstr\u001b[39m):\n\u001b[0;32m--> 501\u001b[0m         req \u001b[38;5;241m=\u001b[39m \u001b[43mRequest\u001b[49m\u001b[43m(\u001b[49m\u001b[43mfullurl\u001b[49m\u001b[43m,\u001b[49m\u001b[43m \u001b[49m\u001b[43mdata\u001b[49m\u001b[43m)\u001b[49m\n\u001b[1;32m    502\u001b[0m     \u001b[38;5;28;01melse\u001b[39;00m:\n\u001b[1;32m    503\u001b[0m         req \u001b[38;5;241m=\u001b[39m fullurl\n",
      "File \u001b[0;32m/opt/conda/envs/streamlit/lib/python3.9/urllib/request.py:320\u001b[0m, in \u001b[0;36mRequest.__init__\u001b[0;34m(self, url, data, headers, origin_req_host, unverifiable, method)\u001b[0m\n\u001b[1;32m    317\u001b[0m \u001b[38;5;28;01mdef\u001b[39;00m \u001b[38;5;21m__init__\u001b[39m(\u001b[38;5;28mself\u001b[39m, url, data\u001b[38;5;241m=\u001b[39m\u001b[38;5;28;01mNone\u001b[39;00m, headers\u001b[38;5;241m=\u001b[39m{},\n\u001b[1;32m    318\u001b[0m              origin_req_host\u001b[38;5;241m=\u001b[39m\u001b[38;5;28;01mNone\u001b[39;00m, unverifiable\u001b[38;5;241m=\u001b[39m\u001b[38;5;28;01mFalse\u001b[39;00m,\n\u001b[1;32m    319\u001b[0m              method\u001b[38;5;241m=\u001b[39m\u001b[38;5;28;01mNone\u001b[39;00m):\n\u001b[0;32m--> 320\u001b[0m     \u001b[38;5;28mself\u001b[39m\u001b[38;5;241m.\u001b[39mfull_url \u001b[38;5;241m=\u001b[39m url\n\u001b[1;32m    321\u001b[0m     \u001b[38;5;28mself\u001b[39m\u001b[38;5;241m.\u001b[39mheaders \u001b[38;5;241m=\u001b[39m {}\n\u001b[1;32m    322\u001b[0m     \u001b[38;5;28mself\u001b[39m\u001b[38;5;241m.\u001b[39munredirected_hdrs \u001b[38;5;241m=\u001b[39m {}\n",
      "File \u001b[0;32m/opt/conda/envs/streamlit/lib/python3.9/urllib/request.py:346\u001b[0m, in \u001b[0;36mRequest.full_url\u001b[0;34m(self, url)\u001b[0m\n\u001b[1;32m    344\u001b[0m \u001b[38;5;28mself\u001b[39m\u001b[38;5;241m.\u001b[39m_full_url \u001b[38;5;241m=\u001b[39m unwrap(url)\n\u001b[1;32m    345\u001b[0m \u001b[38;5;28mself\u001b[39m\u001b[38;5;241m.\u001b[39m_full_url, \u001b[38;5;28mself\u001b[39m\u001b[38;5;241m.\u001b[39mfragment \u001b[38;5;241m=\u001b[39m _splittag(\u001b[38;5;28mself\u001b[39m\u001b[38;5;241m.\u001b[39m_full_url)\n\u001b[0;32m--> 346\u001b[0m \u001b[38;5;28;43mself\u001b[39;49m\u001b[38;5;241;43m.\u001b[39;49m\u001b[43m_parse\u001b[49m\u001b[43m(\u001b[49m\u001b[43m)\u001b[49m\n",
      "File \u001b[0;32m/opt/conda/envs/streamlit/lib/python3.9/urllib/request.py:375\u001b[0m, in \u001b[0;36mRequest._parse\u001b[0;34m(self)\u001b[0m\n\u001b[1;32m    373\u001b[0m \u001b[38;5;28mself\u001b[39m\u001b[38;5;241m.\u001b[39mtype, rest \u001b[38;5;241m=\u001b[39m _splittype(\u001b[38;5;28mself\u001b[39m\u001b[38;5;241m.\u001b[39m_full_url)\n\u001b[1;32m    374\u001b[0m \u001b[38;5;28;01mif\u001b[39;00m \u001b[38;5;28mself\u001b[39m\u001b[38;5;241m.\u001b[39mtype \u001b[38;5;129;01mis\u001b[39;00m \u001b[38;5;28;01mNone\u001b[39;00m:\n\u001b[0;32m--> 375\u001b[0m     \u001b[38;5;28;01mraise\u001b[39;00m \u001b[38;5;167;01mValueError\u001b[39;00m(\u001b[38;5;124m\"\u001b[39m\u001b[38;5;124munknown url type: \u001b[39m\u001b[38;5;132;01m%r\u001b[39;00m\u001b[38;5;124m\"\u001b[39m \u001b[38;5;241m%\u001b[39m \u001b[38;5;28mself\u001b[39m\u001b[38;5;241m.\u001b[39mfull_url)\n\u001b[1;32m    376\u001b[0m \u001b[38;5;28mself\u001b[39m\u001b[38;5;241m.\u001b[39mhost, \u001b[38;5;28mself\u001b[39m\u001b[38;5;241m.\u001b[39mselector \u001b[38;5;241m=\u001b[39m _splithost(rest)\n\u001b[1;32m    377\u001b[0m \u001b[38;5;28;01mif\u001b[39;00m \u001b[38;5;28mself\u001b[39m\u001b[38;5;241m.\u001b[39mhost:\n",
      "\u001b[0;31mValueError\u001b[0m: unknown url type: 'some url'"
     ]
    }
   ],
   "source": [
    "# Determining the file URL\n",
    "url = 'some url'\n",
    "\n",
    "# Opening the image using PIL\n",
    "img = Image.open(urllib.request.urlretrieve(url)[0])\n",
    "\n",
    "# Loading the model and preprocessor using Pipeline\n",
    "pipe = pipeline(\"image-classification\", model=\"dennisjooo/Birds-Classifier-EfficientNetB2\")\n",
    "\n",
    "# Running the inference\n",
    "result = pipe(img)[0]\n",
    "\n",
    "# Printing the result label\n",
    "print(result['label'])"
   ]
  },
  {
   "cell_type": "code",
   "execution_count": 111,
   "metadata": {},
   "outputs": [
    {
     "data": {
      "text/html": [
       "\n",
       "            <style>\n",
       "                .geemap-dark {\n",
       "                    --jp-widgets-color: white;\n",
       "                    --jp-widgets-label-color: white;\n",
       "                    --jp-ui-font-color1: white;\n",
       "                    --jp-layout-color2: #454545;\n",
       "                    background-color: #383838;\n",
       "                }\n",
       "\n",
       "                .geemap-dark .jupyter-button {\n",
       "                    --jp-layout-color3: #383838;\n",
       "                }\n",
       "\n",
       "                .geemap-colab {\n",
       "                    background-color: var(--colab-primary-surface-color, white);\n",
       "                }\n",
       "\n",
       "                .geemap-colab .jupyter-button {\n",
       "                    --jp-layout-color3: var(--colab-primary-surface-color, white);\n",
       "                }\n",
       "            </style>\n",
       "            "
      ],
      "text/plain": [
       "<IPython.core.display.HTML object>"
      ]
     },
     "metadata": {},
     "output_type": "display_data"
    }
   ],
   "source": [
    "# create a function to convert the \"ALEXANDRINE PARAKEET\", to \"Alexandrine_parakeet\" sytle\n",
    "\n",
    "def convert_label(label):\n",
    "    return label.replace(\" \", \"_\").lower()"
   ]
  },
  {
   "cell_type": "code",
   "execution_count": 113,
   "metadata": {},
   "outputs": [
    {
     "data": {
      "text/html": [
       "\n",
       "            <style>\n",
       "                .geemap-dark {\n",
       "                    --jp-widgets-color: white;\n",
       "                    --jp-widgets-label-color: white;\n",
       "                    --jp-ui-font-color1: white;\n",
       "                    --jp-layout-color2: #454545;\n",
       "                    background-color: #383838;\n",
       "                }\n",
       "\n",
       "                .geemap-dark .jupyter-button {\n",
       "                    --jp-layout-color3: #383838;\n",
       "                }\n",
       "\n",
       "                .geemap-colab {\n",
       "                    background-color: var(--colab-primary-surface-color, white);\n",
       "                }\n",
       "\n",
       "                .geemap-colab .jupyter-button {\n",
       "                    --jp-layout-color3: var(--colab-primary-surface-color, white);\n",
       "                }\n",
       "            </style>\n",
       "            "
      ],
      "text/plain": [
       "<IPython.core.display.HTML object>"
      ]
     },
     "metadata": {},
     "output_type": "display_data"
    },
    {
     "data": {
      "text/plain": [
       "'gold_wing_warbler'"
      ]
     },
     "execution_count": 113,
     "metadata": {},
     "output_type": "execute_result"
    }
   ],
   "source": [
    "convert_label('GOLD WING WARBLER')"
   ]
  },
  {
   "cell_type": "code",
   "execution_count": 119,
   "metadata": {},
   "outputs": [
    {
     "data": {
      "text/html": [
       "\n",
       "            <style>\n",
       "                .geemap-dark {\n",
       "                    --jp-widgets-color: white;\n",
       "                    --jp-widgets-label-color: white;\n",
       "                    --jp-ui-font-color1: white;\n",
       "                    --jp-layout-color2: #454545;\n",
       "                    background-color: #383838;\n",
       "                }\n",
       "\n",
       "                .geemap-dark .jupyter-button {\n",
       "                    --jp-layout-color3: #383838;\n",
       "                }\n",
       "\n",
       "                .geemap-colab {\n",
       "                    background-color: var(--colab-primary-surface-color, white);\n",
       "                }\n",
       "\n",
       "                .geemap-colab .jupyter-button {\n",
       "                    --jp-layout-color3: var(--colab-primary-surface-color, white);\n",
       "                }\n",
       "            </style>\n",
       "            "
      ],
      "text/plain": [
       "<IPython.core.display.HTML object>"
      ]
     },
     "metadata": {},
     "output_type": "display_data"
    },
    {
     "name": "stdout",
     "output_type": "stream",
     "text": [
      "No extract available\n"
     ]
    }
   ],
   "source": [
    "import requests\n",
    "\n",
    "# Define the endpoint\n",
    "endpoint = \"https://en.wikipedia.org/w/api.php\"\n",
    "\n",
    "# Define the parameters\n",
    "params = {\n",
    "    \"action\": \"query\",\n",
    "    \"format\": \"json\",\n",
    "    \n",
    "    \"titles\": \"gold-winged warbler\",\n",
    "    \"prop\": \"extracts\",\n",
    "    \"exintro\": True,\n",
    "    \"explaintext\": True\n",
    "}\n",
    "\n",
    "# Make the request\n",
    "response = requests.get(endpoint, params=params)\n",
    "\n",
    "# Parse the response\n",
    "data = response.json()\n",
    "\n",
    "# Extract the page content\n",
    "page = next(iter(data['query']['pages'].values()))\n",
    "extract = page.get('extract', 'No extract available')\n",
    "\n",
    "print(extract)"
   ]
  },
  {
   "cell_type": "code",
   "execution_count": 13,
   "metadata": {},
   "outputs": [],
   "source": [
    "import geocoder\n",
    "\n"
   ]
  },
  {
   "cell_type": "code",
   "execution_count": 14,
   "metadata": {},
   "outputs": [
    {
     "name": "stdout",
     "output_type": "stream",
     "text": [
      "[-33.8678, 151.2073]\n"
     ]
    }
   ],
   "source": [
    "import geocoder\n",
    "\n",
    "# Get the current location based on IP\n",
    "g = geocoder.ip('me')\n",
    "\n",
    "# Print coordinates\n",
    "print(g.latlng)"
   ]
  },
  {
   "cell_type": "code",
   "execution_count": 28,
   "metadata": {},
   "outputs": [
    {
     "data": {
      "text/html": [
       "\n",
       "            <style>\n",
       "                .geemap-dark {\n",
       "                    --jp-widgets-color: white;\n",
       "                    --jp-widgets-label-color: white;\n",
       "                    --jp-ui-font-color1: white;\n",
       "                    --jp-layout-color2: #454545;\n",
       "                    background-color: #383838;\n",
       "                }\n",
       "\n",
       "                .geemap-dark .jupyter-button {\n",
       "                    --jp-layout-color3: #383838;\n",
       "                }\n",
       "\n",
       "                .geemap-colab {\n",
       "                    background-color: var(--colab-primary-surface-color, white);\n",
       "                }\n",
       "\n",
       "                .geemap-colab .jupyter-button {\n",
       "                    --jp-layout-color3: var(--colab-primary-surface-color, white);\n",
       "                }\n",
       "            </style>\n",
       "            "
      ],
      "text/plain": [
       "<IPython.core.display.HTML object>"
      ]
     },
     "metadata": {},
     "output_type": "display_data"
    },
    {
     "data": {
      "application/vnd.jupyter.widget-view+json": {
       "model_id": "39b0a7753d9f43c0996804e5d97f4f87",
       "version_major": 2,
       "version_minor": 0
      },
      "text/plain": [
       "Map(center=[-33.8678, 151.2073], controls=(WidgetControl(options=['position', 'transparent_bg'], widget=Search…"
      ]
     },
     "metadata": {},
     "output_type": "display_data"
    }
   ],
   "source": [
    "lat, lon = g.latlng\n",
    "import geemap\n",
    "Map = geemap.Map(center=(lat, lon), zoom=15)\n",
    "Map"
   ]
  },
  {
   "cell_type": "code",
   "execution_count": 29,
   "metadata": {},
   "outputs": [
    {
     "data": {
      "text/html": [
       "\n",
       "            <style>\n",
       "                .geemap-dark {\n",
       "                    --jp-widgets-color: white;\n",
       "                    --jp-widgets-label-color: white;\n",
       "                    --jp-ui-font-color1: white;\n",
       "                    --jp-layout-color2: #454545;\n",
       "                    background-color: #383838;\n",
       "                }\n",
       "\n",
       "                .geemap-dark .jupyter-button {\n",
       "                    --jp-layout-color3: #383838;\n",
       "                }\n",
       "\n",
       "                .geemap-colab {\n",
       "                    background-color: var(--colab-primary-surface-color, white);\n",
       "                }\n",
       "\n",
       "                .geemap-colab .jupyter-button {\n",
       "                    --jp-layout-color3: var(--colab-primary-surface-color, white);\n",
       "                }\n",
       "            </style>\n",
       "            "
      ],
      "text/plain": [
       "<IPython.core.display.HTML object>"
      ]
     },
     "metadata": {},
     "output_type": "display_data"
    },
    {
     "name": "stderr",
     "output_type": "stream",
     "text": [
      "2025-02-01 01:01:26.607 Thread 'MainThread': missing ScriptRunContext! This warning can be ignored when running in bare mode.\n",
      "2025-02-01 01:01:26.607 Thread 'MainThread': missing ScriptRunContext! This warning can be ignored when running in bare mode.\n",
      "2025-02-01 01:01:26.608 Thread 'MainThread': missing ScriptRunContext! This warning can be ignored when running in bare mode.\n",
      "2025-02-01 01:01:26.608 Thread 'MainThread': missing ScriptRunContext! This warning can be ignored when running in bare mode.\n"
     ]
    },
    {
     "name": "stdout",
     "output_type": "stream",
     "text": [
      "{'latitude': None, 'longitude': None, 'altitude': None, 'accuracy': None, 'altitudeAccuracy': None, 'heading': None, 'speed': None}\n"
     ]
    }
   ],
   "source": [
    "# pip install streamlit-geolocation\n",
    "from streamlit_geolocation import streamlit_geolocation\n",
    "location = streamlit_geolocation()\n",
    "print(location)"
   ]
  },
  {
   "cell_type": "code",
   "execution_count": null,
   "metadata": {},
   "outputs": [],
   "source": [
    "import streamlit as st\n",
    "from bokeh.models.widgets import Button\n",
    "from bokeh.models import CustomJS\n",
    "from streamlit_bokeh_events import streamlit_bokeh_events\n",
    "\n",
    "loc_button = Button(label=\"Get Location\")\n",
    "loc_button.js_on_event(\"button_click\", CustomJS(code=\"\"\"\n",
    "    navigator.geolocation.getCurrentPosition(\n",
    "        (loc) => {\n",
    "            document.dispatchEvent(new CustomEvent(\"GET_LOCATION\", {detail: {lat: loc.coords.latitude, lon: loc.coords.longitude}}))\n",
    "        }\n",
    "    )\n",
    "    \"\"\"))\n",
    "result = streamlit_bokeh_events(\n",
    "    loc_button,\n",
    "    events=\"GET_LOCATION\",\n",
    "    key=\"get_location\",\n",
    "    refresh_on_update=False,\n",
    "    override_height=75,\n",
    "    debounce_time=0)"
   ]
  },
  {
   "cell_type": "code",
   "execution_count": 23,
   "metadata": {},
   "outputs": [
    {
     "data": {
      "text/html": [
       "\n",
       "            <style>\n",
       "                .geemap-dark {\n",
       "                    --jp-widgets-color: white;\n",
       "                    --jp-widgets-label-color: white;\n",
       "                    --jp-ui-font-color1: white;\n",
       "                    --jp-layout-color2: #454545;\n",
       "                    background-color: #383838;\n",
       "                }\n",
       "\n",
       "                .geemap-dark .jupyter-button {\n",
       "                    --jp-layout-color3: #383838;\n",
       "                }\n",
       "\n",
       "                .geemap-colab {\n",
       "                    background-color: var(--colab-primary-surface-color, white);\n",
       "                }\n",
       "\n",
       "                .geemap-colab .jupyter-button {\n",
       "                    --jp-layout-color3: var(--colab-primary-surface-color, white);\n",
       "                }\n",
       "            </style>\n",
       "            "
      ],
      "text/plain": [
       "<IPython.core.display.HTML object>"
      ]
     },
     "metadata": {},
     "output_type": "display_data"
    },
    {
     "name": "stderr",
     "output_type": "stream",
     "text": [
      "2025-02-01 00:44:29.865 Thread 'MainThread': missing ScriptRunContext! This warning can be ignored when running in bare mode.\n"
     ]
    },
    {
     "ename": "TypeError",
     "evalue": "'module' object is not callable",
     "output_type": "error",
     "traceback": [
      "\u001b[0;31m---------------------------------------------------------------------------\u001b[0m",
      "\u001b[0;31mTypeError\u001b[0m                                 Traceback (most recent call last)",
      "Cell \u001b[0;32mIn[23], line 2\u001b[0m\n\u001b[1;32m      1\u001b[0m \u001b[38;5;28;01mimport\u001b[39;00m \u001b[38;5;21;01mstreamlit_js_eval\u001b[39;00m\n\u001b[0;32m----> 2\u001b[0m st\u001b[38;5;241m.\u001b[39mwrite(\u001b[38;5;124mf\u001b[39m\u001b[38;5;124m\"\u001b[39m\u001b[38;5;124mScreen width is \u001b[39m\u001b[38;5;132;01m{\u001b[39;00mstreamlit_js_eval(js_expressions\u001b[38;5;241m=\u001b[39m\u001b[38;5;124m'\u001b[39m\u001b[38;5;124mscreen.width\u001b[39m\u001b[38;5;124m'\u001b[39m,\u001b[38;5;250m \u001b[39mkey\u001b[38;5;250m \u001b[39m\u001b[38;5;241m=\u001b[39m\u001b[38;5;250m \u001b[39m\u001b[38;5;124m'\u001b[39m\u001b[38;5;124mSCR\u001b[39m\u001b[38;5;124m'\u001b[39m)\u001b[38;5;132;01m}\u001b[39;00m\u001b[38;5;124m\"\u001b[39m)\n",
      "\u001b[0;31mTypeError\u001b[0m: 'module' object is not callable"
     ]
    }
   ],
   "source": [
    "import streamlit_js_eval\n",
    "st.write(f\"Screen width is {streamlit_js_eval(js_expressions='screen.width', key = 'SCR')}\")"
   ]
  },
  {
   "cell_type": "code",
   "execution_count": 25,
   "metadata": {},
   "outputs": [
    {
     "data": {
      "text/html": [
       "\n",
       "            <style>\n",
       "                .geemap-dark {\n",
       "                    --jp-widgets-color: white;\n",
       "                    --jp-widgets-label-color: white;\n",
       "                    --jp-ui-font-color1: white;\n",
       "                    --jp-layout-color2: #454545;\n",
       "                    background-color: #383838;\n",
       "                }\n",
       "\n",
       "                .geemap-dark .jupyter-button {\n",
       "                    --jp-layout-color3: #383838;\n",
       "                }\n",
       "\n",
       "                .geemap-colab {\n",
       "                    background-color: var(--colab-primary-surface-color, white);\n",
       "                }\n",
       "\n",
       "                .geemap-colab .jupyter-button {\n",
       "                    --jp-layout-color3: var(--colab-primary-surface-color, white);\n",
       "                }\n",
       "            </style>\n",
       "            "
      ],
      "text/plain": [
       "<IPython.core.display.HTML object>"
      ]
     },
     "metadata": {},
     "output_type": "display_data"
    },
    {
     "name": "stderr",
     "output_type": "stream",
     "text": [
      "2025-02-01 00:45:35.320 Thread 'MainThread': missing ScriptRunContext! This warning can be ignored when running in bare mode.\n",
      "2025-02-01 00:45:35.320 Thread 'MainThread': missing ScriptRunContext! This warning can be ignored when running in bare mode.\n",
      "2025-02-01 00:45:35.321 Thread 'MainThread': missing ScriptRunContext! This warning can be ignored when running in bare mode.\n",
      "2025-02-01 00:45:35.322 Thread 'MainThread': missing ScriptRunContext! This warning can be ignored when running in bare mode.\n"
     ]
    },
    {
     "name": "stdout",
     "output_type": "stream",
     "text": [
      "{'latitude': None, 'longitude': None, 'altitude': None, 'accuracy': None, 'altitudeAccuracy': None, 'heading': None, 'speed': None}\n"
     ]
    }
   ],
   "source": [
    "# Returns user's location after asking for permission when the user clicks the generated link with the given text\n",
    "from streamlit_geolocation import streamlit_geolocation\n",
    "\n",
    "location = streamlit_geolocation()\n",
    "print(location)"
   ]
  },
  {
   "cell_type": "code",
   "execution_count": 27,
   "metadata": {},
   "outputs": [
    {
     "data": {
      "text/html": [
       "\n",
       "            <style>\n",
       "                .geemap-dark {\n",
       "                    --jp-widgets-color: white;\n",
       "                    --jp-widgets-label-color: white;\n",
       "                    --jp-ui-font-color1: white;\n",
       "                    --jp-layout-color2: #454545;\n",
       "                    background-color: #383838;\n",
       "                }\n",
       "\n",
       "                .geemap-dark .jupyter-button {\n",
       "                    --jp-layout-color3: #383838;\n",
       "                }\n",
       "\n",
       "                .geemap-colab {\n",
       "                    background-color: var(--colab-primary-surface-color, white);\n",
       "                }\n",
       "\n",
       "                .geemap-colab .jupyter-button {\n",
       "                    --jp-layout-color3: var(--colab-primary-surface-color, white);\n",
       "                }\n",
       "            </style>\n",
       "            "
      ],
      "text/plain": [
       "<IPython.core.display.HTML object>"
      ]
     },
     "metadata": {},
     "output_type": "display_data"
    },
    {
     "name": "stdout",
     "output_type": "stream",
     "text": [
      "Christchurch, Christchurch City, Canterbury, New Zealand / Aotearoa\n",
      "Latitude =  -43.530955 \n",
      "\n",
      "Longitude =  172.6364343\n"
     ]
    }
   ],
   "source": [
    "# importing geopy library\n",
    "from geopy.geocoders import Nominatim\n",
    " \n",
    "# calling the Nominatim tool\n",
    "loc = Nominatim(user_agent=\"GetLoc\")\n",
    " \n",
    "# entering the location name\n",
    "getLoc = loc.geocode(\"christchurch\")\n",
    " \n",
    "# printing address\n",
    "print(getLoc.address)\n",
    " \n",
    "# printing latitude and longitude\n",
    "print(\"Latitude = \", getLoc.latitude, \"\\n\")\n",
    "print(\"Longitude = \", getLoc.longitude)"
   ]
  },
  {
   "cell_type": "code",
   "execution_count": 2,
   "metadata": {},
   "outputs": [
    {
     "name": "stderr",
     "output_type": "stream",
     "text": [
      "2025-02-01 01:58:56.748 WARNING streamlit.runtime.scriptrunner_utils.script_run_context: Thread 'MainThread': missing ScriptRunContext! This warning can be ignored when running in bare mode.\n"
     ]
    }
   ],
   "source": [
    "from streamlit_folium import st_folium"
   ]
  },
  {
   "cell_type": "code",
   "execution_count": 1,
   "metadata": {},
   "outputs": [
    {
     "ename": "ModuleNotFoundError",
     "evalue": "No module named 'streamlit_folium'",
     "output_type": "error",
     "traceback": [
      "\u001b[0;31m---------------------------------------------------------------------------\u001b[0m",
      "\u001b[0;31mModuleNotFoundError\u001b[0m                       Traceback (most recent call last)",
      "Cell \u001b[0;32mIn[1], line 1\u001b[0m\n\u001b[0;32m----> 1\u001b[0m \u001b[38;5;28;01mfrom\u001b[39;00m \u001b[38;5;21;01mstreamlit_folium\u001b[39;00m \u001b[38;5;28;01mimport\u001b[39;00m st_folium\n",
      "\u001b[0;31mModuleNotFoundError\u001b[0m: No module named 'streamlit_folium'"
     ]
    }
   ],
   "source": [
    "# Install the streamlit_folium package\n",
    "%pip install streamlit_folium\n",
    "\n",
    "from streamlit_folium import st_folium"
   ]
  },
  {
   "cell_type": "code",
   "execution_count": 11,
   "metadata": {},
   "outputs": [
    {
     "name": "stdout",
     "output_type": "stream",
     "text": [
      "L4001220,NZ,NZ-CAN,NZ-CAN-059,-43.2817824,172.5454009,Ashley River--Dunlops Road access,2024-09-21 11:24,42\n",
      "L1023141,NZ,NZ-CAN,NZ-CAN-059,-43.2803547,172.5793362,Ashley River--Rossitors Rd,2024-12-27 14:35,38\n",
      "L5126261,NZ,NZ-CAN,NZ-CAN-059,-43.2813294,172.6356786,Ashley River--Smarts Road,2025-01-31 16:02,46\n",
      "L523081,NZ,NZ-CAN,NZ-CAN-060,-43.5204229,172.7277374,Avon River mudflats @ Kibblewhite St,2024-12-29 20:27,48\n",
      "L1257339,NZ,NZ-CAN,NZ-CAN-060,-43.5001318,172.685667,Avon River--New Brighton Rd,2024-12-27 20:43,37\n",
      "L8597161,NZ,NZ-CAN,NZ-CAN-060,-43.5381682,172.7374619,Avon-Heathcote Estuary Ihutai--Ebbtide Street area,2025-01-10 21:15,46\n",
      "L15352477,NZ,NZ-CAN,NZ-CAN-060,-43.5307182,172.7236054,Avon-Heathcote Estuary Ihutai--Eel Trap Bay,2024-12-29 20:00,37\n",
      "L9979404,NZ,NZ-CAN,NZ-CAN-060,-43.558405,172.708853,Avon-Heathcote Estuary Ihutai--Heathcote River Bridge,2025-01-07 08:59,43\n",
      "L558750,NZ,NZ-CAN,NZ-CAN-060,-43.5541622,172.7035975,Avon-Heathcote Estuary Ihutai--Humphreys Drive Foreshore,2025-01-18 16:10,55\n",
      "L1097349,NZ,NZ-CAN,NZ-CAN-060,-43.5568991,172.7261817,Avon-Heathcote Estuary Ihutai--McCormacks Bay Reserve,2025-01-26 16:05,62\n",
      "L15352938,NZ,NZ-CAN,NZ-CAN-060,-43.5463793,172.716399,Avon-Heathcote Estuary Ihutai--Sandy Point,2025-01-15 09:40,45\n",
      "L11230171,NZ,NZ-CAN,NZ-CAN-060,-43.5299992,172.7314018,Avon-Heathcote Estuary Ihutai--South Brighton Domain,2025-01-09 19:32,54\n",
      "L1516130,NZ,NZ-CAN,NZ-CAN-060,-43.5499357,172.7040082,Avon-Heathcote Estuary Ihutai--Windsurf Car Park,2025-01-08 17:25,56\n",
      "L28802207,NZ,NZ-CAN,NZ-CAN-060,-43.5337448,172.7321724,Avon-Heathcote Estuary/Ihutai--Estuary Edge Walk,2025-01-14 14:09,44\n",
      "L3400718,NZ,NZ-CAN,NZ-CAN-060,-43.5601179,172.7479935,Avon-Heathcote Estuary/Ihutai--Southshore Spit Reserve,2025-01-28 14:57,59\n",
      "L683867,NZ,NZ-CAN,NZ-CAN-060,-43.5267359,172.7246583,Avon-Heathcote Estuary/Ihutai--northern arm,2025-01-09 16:00,55\n",
      "L554872,NZ,NZ-CAN,NZ-CAN-060,-43.5206252,172.723918,Bexley Wetland,2025-01-09 17:49,58\n",
      "L1528306,NZ,NZ-CAN,NZ-CAN-060,-43.5153346,172.7248099,Bexley Wetland--north end,2025-01-14 14:33,48\n",
      "L1071663,NZ,NZ-CAN,NZ-CAN-060,-43.531127,172.7112579,Bromley WTP,2025-01-14 15:49,63\n",
      "L1019425,NZ,NZ-CAN,NZ-CAN-060,-43.4057708,172.6984477,Brooklands -- Seafield Lagoon,2024-10-06 15:37,56\n",
      "L5078062,NZ,NZ-CAN,NZ-CAN-060,-43.4216094,172.7023745,Brooklands Lagoon,2025-01-26 14:50,60\n",
      "L5865635,NZ,NZ-CAN,NZ-CAN-060,-43.3973615,172.7024817,Brooklands Lagoon--north end,2025-01-26 15:04,58\n",
      "L31637523,NZ,NZ-CAN,NZ-CAN-060,-43.392721,172.7107349,Brooklands Spit,2024-11-24 14:11,24\n",
      "L2320851,NZ,NZ-CAN,NZ-CAN-060,-43.4845174,172.5456905,Christchurch International Airport,2025-01-25 15:33,34\n",
      "L34876575,NZ,NZ-CAN,NZ-CAN-060,-43.580912,172.616965,Christchurch — Adventure Park Wetlands,2025-01-08 18:40,35\n",
      "L32225418,NZ,NZ-CAN,NZ-CAN-060,-43.543559,172.622214,Christchurch--Addington Cemetery,2024-09-27 17:40,14\n",
      "L3437699,NZ,NZ-CAN,NZ-CAN-060,-43.5329316,172.6267147,Christchurch--Avon River (near Hospital),2025-01-31 10:58,49\n",
      "L523511,NZ,NZ-CAN,NZ-CAN-060,-43.5474283,172.7316856,Christchurch--Avon-Heathcote Estuary general (please be more site specific if possible),2025-01-09 06:25,62\n",
      "L1014703,NZ,NZ-CAN,NZ-CAN-060,-43.503889,172.7075,Christchurch--Avondale,2024-12-10 17:49,33\n",
      "L10298641,NZ,NZ-CAN,NZ-CAN-060,-43.52399,172.6460559,Christchurch--Barbadoes Street Cemetery,2025-01-17 14:11,36\n",
      "L607653,NZ,NZ-CAN,NZ-CAN-060,-43.5296646,172.6198483,Christchurch--Botanic Gardens,2025-01-31 17:12,56\n",
      "L12323480,NZ,NZ-CAN,NZ-CAN-060,-43.4632482,172.6912766,Christchurch--Bottle Lake Forest Park,2025-01-15 15:37,33\n",
      "L12108922,NZ,NZ-CAN,NZ-CAN-060,-43.5836593,172.6494739,Christchurch--Bowenvale Valley Track,2025-01-23 11:54,31\n",
      "L17857456,NZ,NZ-CAN,NZ-CAN-060,-43.5350126,172.528836,Christchurch--Carmen Reserve,2024-12-01 08:16,23\n",
      "L6354713,NZ,NZ-CAN,NZ-CAN-060,-43.5901356,172.5860363,Christchurch--Cashmere Rd ephemeral wetland,2023-11-02 15:31,30\n",
      "L558745,NZ,NZ-CAN,NZ-CAN-060,-43.5520317,172.7007222,Christchurch--Charlesworth Wetland Reserve,2025-01-11 10:35,56\n",
      "L12531064,NZ,NZ-CAN,NZ-CAN-060,-43.5924098,172.6319172,Christchurch--Christchurch Adventure Park,2025-01-16 10:33,31\n",
      "L9024946,NZ,NZ-CAN,NZ-CAN-060,-43.4901832,172.6820403,Christchurch--Clare Park Wetlands,2024-12-27 20:57,41\n",
      "L17486469,NZ,NZ-CAN,NZ-CAN-060,-43.5481536,172.5837684,Christchurch--Curletts Road stormwater basin,2024-10-31 18:11,35\n",
      "L11611832,NZ,NZ-CAN,NZ-CAN-060,-43.5201896,172.5920391,Christchurch--Fendalton Park,2023-12-28 11:23,20\n",
      "L4550819,NZ,NZ-CAN,NZ-CAN-060,-43.5670525,172.7022243,Christchurch--Ferrymead Historic Park,2024-12-08 13:41,51\n",
      "L596619,NZ,NZ-CAN,NZ-CAN-060,-43.5997557,172.5752914,Christchurch--Halswell Quarry Park,2025-01-17 13:17,52\n",
      "L11369473,NZ,NZ-CAN,NZ-CAN-060,-43.5973225,172.5848424,Christchurch--Halswell Quarry Park Crocodile Track,2023-10-09 18:38,21\n",
      "L11440382,NZ,NZ-CAN,NZ-CAN-060,-43.5993049,172.5809515,Christchurch--Halswell Quarry Park Findlays Picnic Area,2024-11-22 12:01,26\n",
      "L14631839,NZ,NZ-CAN,NZ-CAN-060,-43.5995852,172.5790859,Christchurch--Halswell Quarry Park--Mound,2024-08-24 09:45,35\n",
      "L11402521,NZ,NZ-CAN,NZ-CAN-060,-43.5609366,172.6618853,Christchurch--Hansen Park,2024-12-15 13:34,38\n",
      "L9101129,NZ,NZ-CAN,NZ-CAN-060,-43.6001875,172.642963,Christchurch--Harry Ell Walkway,2025-01-19 17:40,26\n",
      "L596339,NZ,NZ-CAN,NZ-CAN-060,-43.4951489,172.6738787,Christchurch--Horseshoe Lake Reserve,2024-12-15 14:05,47\n",
      "L10267713,NZ,NZ-CAN,NZ-CAN-060,-43.5239848,172.5769417,Christchurch--Ilam Gardens,2024-10-16 10:14,27\n",
      "L11229088,NZ,NZ-CAN,NZ-CAN-060,-43.5143225,172.5931677,Christchurch--Jeffreys Park,2025-01-22 10:46,18\n",
      "L11276860,NZ,NZ-CAN,NZ-CAN-060,-43.5079524,172.5817269,Christchurch--Jellie Park,2024-10-26 16:50,24\n",
      "L27855076,NZ,NZ-CAN,NZ-CAN-060,-43.5569751,172.7167886,Christchurch--King Park,2025-01-27 18:56,40\n",
      "L5213645,NZ,NZ-CAN,NZ-CAN-060,-43.4991684,172.7019346,Christchurch--Lake Kate Sheppard,2025-01-27 18:55,43\n",
      "L9153296,NZ,NZ-CAN,NZ-CAN-060,-43.547755,172.6975391,Christchurch--Linwood Canal,2025-01-24 12:37,44\n",
      "L4752315,NZ,NZ-CAN,NZ-CAN-060,-43.5447418,172.7032113,Christchurch--Linwood Paddocks,2024-12-14 09:24,49\n",
      "L10572785,NZ,NZ-CAN,NZ-CAN-060,-43.5592414,172.7023713,Christchurch--Lower Heathcote Estuary,2025-01-20 14:14,56\n",
      "L27756977,NZ,NZ-CAN,NZ-CAN-060,-43.5688304,172.7044033,Christchurch--Matuku Lakes,2025-01-30 10:40,48\n",
      "L29036673,NZ,NZ-CAN,NZ-CAN-060,-43.5233481,172.6081753,Christchurch--Mona Vale Garden Park,2025-01-19 08:00,27\n",
      "L17611837,NZ,NZ-CAN,NZ-CAN-060,-43.57108,172.661736,Christchurch--Mount Vernon Park,2024-10-21 17:27,29\n",
      "L21616054,NZ,NZ-CAN,NZ-CAN-060,-43.5556103,172.5428366,Christchurch--Mustang Flood Ponds,2023-08-17 15:17,16\n",
      "L7785151,NZ,NZ-CAN,NZ-CAN-060,-43.5065353,172.731861,Christchurch--New Brighton beach,2024-12-04 18:11,42\n",
      "L1093566,NZ,NZ-CAN,NZ-CAN-060,-43.4664802,172.463042,Christchurch--Orana Wildlife Trust,2025-01-17 17:34,48\n",
      "L16062194,NZ,NZ-CAN,NZ-CAN-060,-43.4670094,172.5242312,Christchurch--Peacock Springs (restricted access),2024-05-13 09:22,31\n",
      "L3480419,NZ,NZ-CAN,NZ-CAN-060,-43.448269,172.5964701,Christchurch--Pepper's Clearwater Resort,2024-10-24 18:43,32\n",
      "L1357600,NZ,NZ-CAN,NZ-CAN-060,-43.5278946,172.5959791,Christchurch--Riccarton Bush,2025-01-20 14:39,44\n",
      "L5749005,NZ,NZ-CAN,NZ-CAN-060,-43.4636661,172.5731134,Christchurch--Roto Kohatu,2025-01-19 16:58,50\n",
      "L8601530,NZ,NZ-CAN,NZ-CAN-060,-43.53468,172.73578,Christchurch--South Brighton Holiday Park,2025-01-09 12:20,39\n",
      "L12076906,NZ,NZ-CAN,NZ-CAN-060,-43.5730818,172.5910275,Christchurch--Sparks Road Wetland,2025-01-25 16:31,40\n",
      "L7785253,NZ,NZ-CAN,NZ-CAN-060,-43.5704024,172.7631855,Christchurch--Sumner Beach,2025-01-23 09:06,50\n",
      "L6217756,NZ,NZ-CAN,NZ-CAN-060,-43.5829115,172.7759453,Christchurch--Taylors Mistake Beach,2025-01-10 13:11,37\n",
      "L1227665,NZ,NZ-CAN,NZ-CAN-060,-43.449928,172.6044846,Christchurch--The Groynes,2025-01-15 13:32,46\n",
      "L563061,NZ,NZ-CAN,NZ-CAN-060,-43.4864623,172.6940448,Christchurch--Travis Wetland/Ōruapaeroa (general),2025-01-31 09:30,72\n",
      "L2508000,NZ,NZ-CAN,NZ-CAN-060,-43.5900896,172.6430655,Christchurch--Victoria Park,2025-01-30 20:02,39\n",
      "L4490312,NZ,NZ-CAN,NZ-CAN-060,-43.553929,172.5775552,Christchurch--Wigram Retention Basin,2024-12-21 11:21,57\n",
      "L6514864,NZ,NZ-CAN,NZ-CAN-060,-43.4635556,172.5940556,Christchurch--Willowbank Wildlife Reserve,2025-01-18 11:15,42\n",
      "L11120308,NZ,NZ-CAN,NZ-CAN-060,-43.5283846,172.6378167,Christchurch--former Armagh Street gull colony (historical submissions only),2025-01-26 17:31,29\n",
      "L17559232,NZ,NZ-CAN,NZ-CAN-060,-43.5640257,172.633241,Christchurch—Ernle Clark Reserve,2025-01-23 13:12,40\n",
      "L1328639,NZ,NZ-CAN,NZ-CAN-060,-43.4258172,172.6231578,Coutts Island,2024-02-16 14:10,35\n",
      "L19524239,NZ,NZ-CAN,NZ-CAN-060,-43.6234193,172.7415118,Diamond Harbour--Stoddart Point Reserve,2024-10-05 14:39,43\n",
      "L2482958,NZ,NZ-CAN,NZ-CAN-060,-43.588523,172.7990456,Godley Head,2025-01-29 10:47,64\n",
      "L8524320,NZ,NZ-CAN,NZ-CAN-060,-43.5273991,172.622333,Hagley Park--Victoria Lake,2025-01-26 15:26,45\n",
      "L8348176,NZ,NZ-CAN,NZ-CAN-060,-43.591543,172.5563963,Halswell--Creamery Reserve,2025-01-28 09:22,43\n",
      "L3251832,NZ,NZ-CAN,NZ-CAN-060,-43.5704368,172.5544572,Halswell--Westlake Reserve Ponds,2025-01-31 15:37,45\n",
      "L10941373,NZ,NZ-CAN,NZ-CAN-060,-43.5530006,172.6852405,Heathcote River @ Rutherford Street bridge,2025-01-20 13:02,39\n",
      "L3937474,NZ,NZ-CAN,NZ-CAN-059,-43.2857955,172.5039071,\"Hillcrest Rd, Fernside\",2024-04-27 14:35,22\n",
      "L1489273,NZ,NZ-CAN,NZ-CAN-059,-43.3613239,172.6625945,Kaiapoi Lakes--South Pond,2025-01-13 13:41,51\n",
      "L11753844,NZ,NZ-CAN,NZ-CAN-059,-43.3829581,172.6580701,Kaiapoi--Kaiapoi River precinct,2025-01-17 15:19,44\n",
      "L1227824,NZ,NZ-CAN,NZ-CAN-059,-43.3868364,172.7090263,Kairaki--Waimakariri River Mouth ,2025-01-06 17:01,50\n",
      "L9667472,NZ,NZ-CAN,NZ-CAN-060,-43.6028143,172.5837929,Kennedys Bush Rd,2024-05-12 15:14,25\n",
      "L5146144,NZ,NZ-CAN,NZ-CAN-062,-43.6322237,172.6249981,Kennedys Bush--Sign of the Bellbird,2025-01-26 08:28,32\n",
      "L12271046,NZ,NZ-CAN,NZ-CAN-059,-43.3087867,172.69553,Lake Pegasus,2025-01-26 16:17,51\n",
      "L7785176,NZ,NZ-CAN,NZ-CAN-062,-43.6436842,172.467767,Lincoln University,2024-09-24 16:00,33\n",
      "L4955097,NZ,NZ-CAN,NZ-CAN-062,-43.650671,172.50234,Lincoln Wetlands,2025-01-16 15:20,53\n",
      "L3761859,NZ,NZ-CAN,NZ-CAN-062,-43.6343751,172.4869823,Lincoln--Mahoe Reserve,2024-11-27 13:44,24\n",
      "L599604,NZ,NZ-CAN,NZ-CAN-060,-43.6522705,172.6357913,Living Springs Centre,2024-02-08 12:19,29\n",
      "L3887328,NZ,NZ-CAN,NZ-CAN-060,-43.641002,172.6511121,Lyttelton Harbour--Allandale,2025-01-21 19:14,48\n",
      "L19754326,NZ,NZ-CAN,NZ-CAN-060,-43.6602302,172.6692815,Lyttelton Harbour--Head of the Bay,2025-01-15 20:08,32\n",
      "L10009229,NZ,NZ-CAN,NZ-CAN-060,-43.6031067,172.7224431,Lyttelton--town and waterfront,2025-01-25 09:48,45\n",
      "L1575575,NZ,NZ-CAN,NZ-CAN-060,-43.5258732,172.626255,North Hagley Park,2025-01-31 19:55,47\n",
      "L5146148,NZ,NZ-CAN,NZ-CAN-062,-43.6631529,172.6214361,Omahu Bush Reserve,2024-09-12 18:15,25\n",
      "L3571697,NZ,NZ-CAN,NZ-CAN-060,-43.6617481,172.7148682,Orton Bradley Park,2025-01-15 19:13,40\n",
      "L1795874,NZ,NZ-CAN,NZ-CAN-060,-43.4337828,172.6447392,Otukaikino Reserve,2024-12-27 12:31,44\n",
      "L14653905,NZ,NZ-CAN,NZ-CAN-059,-43.3144884,172.6935564,Pegasus (General-please use specific sites if possible),2024-06-30 14:28,37\n",
      "L12230293,NZ,NZ-CAN,NZ-CAN-059,-43.315204,172.7142419,Pegasus Beach,2024-12-30 15:22,33\n",
      "L11771031,NZ,NZ-CAN,NZ-CAN-059,-43.3133521,172.6829338,Pegasus Golf & Sports Club,2024-12-04 16:59,33\n",
      "L2809218,NZ,NZ-CAN,NZ-CAN-059,-43.3127281,172.7012587,Pegasus Wetland,2025-01-26 16:02,63\n",
      "L4919431,NZ,NZ-CAN,NZ-CAN-059,-43.3045067,172.7049494,Pegasus Wetlands N of Tiritiri Moana Dr,2025-01-30 18:50,60\n",
      "L11751127,NZ,NZ-CAN,NZ-CAN-059,-43.3213767,172.6913945,Pegasus--Gladstone Park,2023-12-16 19:37,32\n",
      "L25619040,NZ,NZ-CAN,NZ-CAN-059,-43.3118681,172.688369,Pegasus--Kaitiritiri Ridge,2023-12-16 18:25,24\n",
      "L521319,NZ,NZ-CAN,NZ-CAN-060,-43.6289,172.6971,Quail Island,2024-09-21 10:44,51\n",
      "L970761,NZ,NZ-CAN,NZ-CAN-059,-43.2819959,172.5912552,Rangiora--Mike Kean walkway,2025-01-15 16:00,44\n",
      "L558004,NZ,NZ-CAN,NZ-CAN-059,-43.3151866,172.5814819,Rangiora--Northbrook Ponds,2023-07-25 12:44,41\n",
      "L12549402,NZ,NZ-CAN,NZ-CAN-059,-43.3115663,172.6051813,Rangiora--Northbrook Wetlands,2025-01-30 19:55,41\n",
      "L9071189,NZ,NZ-CAN,NZ-CAN-060,-43.6060115,172.6495079,Rapaki--Mitchell’s Track,2024-09-29 19:07,25\n",
      "L14905135,NZ,NZ-CAN,NZ-CAN-059,-43.3059058,172.6711835,Ravenswood--Kesteven Place Wetland,2025-01-27 10:09,51\n",
      "L24386738,NZ,NZ-CAN,NZ-CAN-059,-43.3109335,172.6639171,Ravenswood--Woodford Avenue Creek,2024-12-04 16:14,28\n",
      "L28905308,NZ,NZ-CAN,NZ-CAN-060,-43.5304035,172.5423982,Riccarton Park,2024-12-01 12:15,24\n",
      "L8782672,NZ,NZ-CAN,NZ-CAN-062,-43.5949391,172.3818831,Rolleston Reserve,2025-01-24 07:14,15\n",
      "L12675365,NZ,NZ-CAN,NZ-CAN-059,-43.4117457,172.6041123,Silverstream Reserve,2024-10-20 11:39,29\n",
      "L12812546,NZ,NZ-CAN,NZ-CAN-060,-43.5353319,172.617367,South Hagley Park,2025-01-10 17:04,42\n",
      "L2484336,NZ,NZ-CAN,NZ-CAN-060,-43.4653215,172.6084621,Styx Mill Walkway,2025-01-31 11:00,59\n",
      "L23130967,NZ,NZ-CAN,NZ-CAN-060,-43.588283,172.59343,\"Te Kuru Wetlands, Christchurch NZ-Canterbury\",2024-12-28 11:20,42\n",
      "L27844831,NZ,NZ-CAN,NZ-CAN-062,-43.6976422,172.5414442,Te Pae o Ahuriri,2024-11-22 17:44,38\n",
      "L1516132,NZ,NZ-CAN,NZ-CAN-060,-43.4852527,172.6971174,Travis Wetland--New Pond,2025-01-29 14:12,61\n",
      "L19884089,NZ,NZ-CAN,NZ-CAN-060,-43.4893921,172.6939784,Travis Wetland/Ōruapaeroa--Angela Stream,2024-12-30 19:50,43\n",
      "L19898856,NZ,NZ-CAN,NZ-CAN-060,-43.4882085,172.6963129,Travis Wetland/Ōruapaeroa--Stockyard Scape,2025-01-30 18:31,51\n",
      "L19884259,NZ,NZ-CAN,NZ-CAN-060,-43.4870806,172.6875392,Travis Wetland/Ōruapaeroa--Western Edge,2024-12-30 20:05,41\n",
      "L28021654,NZ,NZ-CAN,NZ-CAN-060,-43.4926627,172.7002532,Travis Wetland/Ōruapaeroa--roundabout pond,2025-01-16 09:56,36\n",
      "L2415037,NZ,NZ-CAN,NZ-CAN-059,-43.3365702,172.7036941,Tutaepatu Trail & Lagoon,2024-10-16 12:05,47\n",
      "L11106122,NZ,NZ-CAN,NZ-CAN-060,-43.601146,172.731354,Uramau Reserve Saddle Lookout,2025-01-28 10:33,23\n",
      "L25645251,NZ,NZ-CAN,NZ-CAN-060,-43.466851,172.716554,Waimairi Beach Park--Northern Ponds,2024-11-25 10:52,36\n",
      "L11660777,NZ,NZ-CAN,NZ-CAN-059,-43.3879738,172.6890424,Waimakariri River Mouth--McIntoshs & southern Kaiapoi Oxidation Ponds,2025-01-31 18:30,54\n",
      "L1179103,NZ,NZ-CAN,NZ-CAN-059,-43.4141042,172.6469064,Waimakariri River nr Hwy 1,2024-11-27 17:40,35\n",
      "L23218177,NZ,NZ-CAN,NZ-CAN-060,-43.4376377,172.5607549,Waimakariri River--Bailes Island,2024-12-23 14:14,35\n",
      "L3118398,NZ,NZ-CAN,NZ-CAN-059,-43.3845324,172.5593939,\"Whites Rd Reserve, Ohoka\",2025-01-30 15:53,44\n",
      "L15497756,NZ,NZ-CAN,NZ-CAN-059,-43.3381565,172.7107559,Woodend Beach,2024-11-12 15:11,30\n",
      "\n"
     ]
    }
   ],
   "source": [
    "import requests\n",
    "\n",
    "# Replace these with actual latitude and longitude values\n",
    "lat = -43.50\n",
    "lng = 172.58\n",
    "\n",
    "url = f\"https://api.ebird.org/v2/ref/hotspot/geo?lat={lat}&lng={lng}\"\n",
    "\n",
    "payload = {}\n",
    "headers = {\n",
    "    'X-eBirdApiToken': 'aqf69iukjcqs'  # Replace 'YOUR_API_KEY' with your actual eBird API key\n",
    "}\n",
    "\n",
    "response = requests.request(\"GET\", url, headers=headers, data=payload)\n",
    "\n",
    "print(response.text)"
   ]
  },
  {
   "cell_type": "code",
   "execution_count": 12,
   "metadata": {},
   "outputs": [
    {
     "name": "stdout",
     "output_type": "stream",
     "text": [
      "L4001220,NZ,NZ-CAN,NZ-CAN-059,-43.2817824,172.5454009,Ashley River--Dunlops Road access,2024-09-21 11:24,42\n",
      "L1023141,NZ,NZ-CAN,NZ-CAN-059,-43.2803547,172.5793362,Ashley River--Rossitors Rd,2024-12-27 14:35,38\n",
      "L5126261,NZ,NZ-CAN,NZ-CAN-059,-43.2813294,172.6356786,Ashley River--Smarts Road,2025-01-31 16:02,46\n",
      "L523081,NZ,NZ-CAN,NZ-CAN-060,-43.5204229,172.7277374,Avon River mudflats @ Kibblewhite St,2024-12-29 20:27,48\n",
      "L1257339,NZ,NZ-CAN,NZ-CAN-060,-43.5001318,172.685667,Avon River--New Brighton Rd,2024-12-27 20:43,37\n",
      "L8597161,NZ,NZ-CAN,NZ-CAN-060,-43.5381682,172.7374619,Avon-Heathcote Estuary Ihutai--Ebbtide Street area,2025-01-10 21:15,46\n",
      "L15352477,NZ,NZ-CAN,NZ-CAN-060,-43.5307182,172.7236054,Avon-Heathcote Estuary Ihutai--Eel Trap Bay,2024-12-29 20:00,37\n",
      "L9979404,NZ,NZ-CAN,NZ-CAN-060,-43.558405,172.708853,Avon-Heathcote Estuary Ihutai--Heathcote River Bridge,2025-01-07 08:59,43\n",
      "L558750,NZ,NZ-CAN,NZ-CAN-060,-43.5541622,172.7035975,Avon-Heathcote Estuary Ihutai--Humphreys Drive Foreshore,2025-01-18 16:10,55\n",
      "L1097349,NZ,NZ-CAN,NZ-CAN-060,-43.5568991,172.7261817,Avon-Heathcote Estuary Ihutai--McCormacks Bay Reserve,2025-01-26 16:05,62\n",
      "L15352938,NZ,NZ-CAN,NZ-CAN-060,-43.5463793,172.716399,Avon-Heathcote Estuary Ihutai--Sandy Point,2025-01-15 09:40,45\n",
      "L11230171,NZ,NZ-CAN,NZ-CAN-060,-43.5299992,172.7314018,Avon-Heathcote Estuary Ihutai--South Brighton Domain,2025-01-09 19:32,54\n",
      "L1516130,NZ,NZ-CAN,NZ-CAN-060,-43.5499357,172.7040082,Avon-Heathcote Estuary Ihutai--Windsurf Car Park,2025-01-08 17:25,56\n",
      "L28802207,NZ,NZ-CAN,NZ-CAN-060,-43.5337448,172.7321724,Avon-Heathcote Estuary/Ihutai--Estuary Edge Walk,2025-01-14 14:09,44\n",
      "L3400718,NZ,NZ-CAN,NZ-CAN-060,-43.5601179,172.7479935,Avon-Heathcote Estuary/Ihutai--Southshore Spit Reserve,2025-01-28 14:57,59\n",
      "L683867,NZ,NZ-CAN,NZ-CAN-060,-43.5267359,172.7246583,Avon-Heathcote Estuary/Ihutai--northern arm,2025-01-09 16:00,55\n",
      "L554872,NZ,NZ-CAN,NZ-CAN-060,-43.5206252,172.723918,Bexley Wetland,2025-01-09 17:49,58\n",
      "L1528306,NZ,NZ-CAN,NZ-CAN-060,-43.5153346,172.7248099,Bexley Wetland--north end,2025-01-14 14:33,48\n",
      "L1071663,NZ,NZ-CAN,NZ-CAN-060,-43.531127,172.7112579,Bromley WTP,2025-01-14 15:49,63\n",
      "L1019425,NZ,NZ-CAN,NZ-CAN-060,-43.4057708,172.6984477,Brooklands -- Seafield Lagoon,2024-10-06 15:37,56\n",
      "L5078062,NZ,NZ-CAN,NZ-CAN-060,-43.4216094,172.7023745,Brooklands Lagoon,2025-01-26 14:50,60\n",
      "L5865635,NZ,NZ-CAN,NZ-CAN-060,-43.3973615,172.7024817,Brooklands Lagoon--north end,2025-01-26 15:04,58\n",
      "L31637523,NZ,NZ-CAN,NZ-CAN-060,-43.392721,172.7107349,Brooklands Spit,2024-11-24 14:11,24\n",
      "L2320851,NZ,NZ-CAN,NZ-CAN-060,-43.4845174,172.5456905,Christchurch International Airport,2025-01-25 15:33,34\n",
      "L34876575,NZ,NZ-CAN,NZ-CAN-060,-43.580912,172.616965,Christchurch — Adventure Park Wetlands,2025-01-08 18:40,35\n",
      "L32225418,NZ,NZ-CAN,NZ-CAN-060,-43.543559,172.622214,Christchurch--Addington Cemetery,2024-09-27 17:40,14\n",
      "L3437699,NZ,NZ-CAN,NZ-CAN-060,-43.5329316,172.6267147,Christchurch--Avon River (near Hospital),2025-01-31 10:58,49\n",
      "L523511,NZ,NZ-CAN,NZ-CAN-060,-43.5474283,172.7316856,Christchurch--Avon-Heathcote Estuary general (please be more site specific if possible),2025-01-09 06:25,62\n",
      "L1014703,NZ,NZ-CAN,NZ-CAN-060,-43.503889,172.7075,Christchurch--Avondale,2024-12-10 17:49,33\n",
      "L10298641,NZ,NZ-CAN,NZ-CAN-060,-43.52399,172.6460559,Christchurch--Barbadoes Street Cemetery,2025-01-17 14:11,36\n",
      "L607653,NZ,NZ-CAN,NZ-CAN-060,-43.5296646,172.6198483,Christchurch--Botanic Gardens,2025-01-31 17:12,56\n",
      "L12323480,NZ,NZ-CAN,NZ-CAN-060,-43.4632482,172.6912766,Christchurch--Bottle Lake Forest Park,2025-01-15 15:37,33\n",
      "L12108922,NZ,NZ-CAN,NZ-CAN-060,-43.5836593,172.6494739,Christchurch--Bowenvale Valley Track,2025-01-23 11:54,31\n",
      "L17857456,NZ,NZ-CAN,NZ-CAN-060,-43.5350126,172.528836,Christchurch--Carmen Reserve,2024-12-01 08:16,23\n",
      "L6354713,NZ,NZ-CAN,NZ-CAN-060,-43.5901356,172.5860363,Christchurch--Cashmere Rd ephemeral wetland,2023-11-02 15:31,30\n",
      "L558745,NZ,NZ-CAN,NZ-CAN-060,-43.5520317,172.7007222,Christchurch--Charlesworth Wetland Reserve,2025-01-11 10:35,56\n",
      "L12531064,NZ,NZ-CAN,NZ-CAN-060,-43.5924098,172.6319172,Christchurch--Christchurch Adventure Park,2025-01-16 10:33,31\n",
      "L9024946,NZ,NZ-CAN,NZ-CAN-060,-43.4901832,172.6820403,Christchurch--Clare Park Wetlands,2024-12-27 20:57,41\n",
      "L17486469,NZ,NZ-CAN,NZ-CAN-060,-43.5481536,172.5837684,Christchurch--Curletts Road stormwater basin,2024-10-31 18:11,35\n",
      "L11611832,NZ,NZ-CAN,NZ-CAN-060,-43.5201896,172.5920391,Christchurch--Fendalton Park,2023-12-28 11:23,20\n",
      "L4550819,NZ,NZ-CAN,NZ-CAN-060,-43.5670525,172.7022243,Christchurch--Ferrymead Historic Park,2024-12-08 13:41,51\n",
      "L596619,NZ,NZ-CAN,NZ-CAN-060,-43.5997557,172.5752914,Christchurch--Halswell Quarry Park,2025-01-17 13:17,52\n",
      "L11369473,NZ,NZ-CAN,NZ-CAN-060,-43.5973225,172.5848424,Christchurch--Halswell Quarry Park Crocodile Track,2023-10-09 18:38,21\n",
      "L11440382,NZ,NZ-CAN,NZ-CAN-060,-43.5993049,172.5809515,Christchurch--Halswell Quarry Park Findlays Picnic Area,2024-11-22 12:01,26\n",
      "L14631839,NZ,NZ-CAN,NZ-CAN-060,-43.5995852,172.5790859,Christchurch--Halswell Quarry Park--Mound,2024-08-24 09:45,35\n",
      "L11402521,NZ,NZ-CAN,NZ-CAN-060,-43.5609366,172.6618853,Christchurch--Hansen Park,2024-12-15 13:34,38\n",
      "L9101129,NZ,NZ-CAN,NZ-CAN-060,-43.6001875,172.642963,Christchurch--Harry Ell Walkway,2025-01-19 17:40,26\n",
      "L596339,NZ,NZ-CAN,NZ-CAN-060,-43.4951489,172.6738787,Christchurch--Horseshoe Lake Reserve,2024-12-15 14:05,47\n",
      "L10267713,NZ,NZ-CAN,NZ-CAN-060,-43.5239848,172.5769417,Christchurch--Ilam Gardens,2024-10-16 10:14,27\n",
      "L11229088,NZ,NZ-CAN,NZ-CAN-060,-43.5143225,172.5931677,Christchurch--Jeffreys Park,2025-01-22 10:46,18\n",
      "L11276860,NZ,NZ-CAN,NZ-CAN-060,-43.5079524,172.5817269,Christchurch--Jellie Park,2024-10-26 16:50,24\n",
      "L27855076,NZ,NZ-CAN,NZ-CAN-060,-43.5569751,172.7167886,Christchurch--King Park,2025-01-27 18:56,40\n",
      "L5213645,NZ,NZ-CAN,NZ-CAN-060,-43.4991684,172.7019346,Christchurch--Lake Kate Sheppard,2025-01-27 18:55,43\n",
      "L9153296,NZ,NZ-CAN,NZ-CAN-060,-43.547755,172.6975391,Christchurch--Linwood Canal,2025-01-24 12:37,44\n",
      "L4752315,NZ,NZ-CAN,NZ-CAN-060,-43.5447418,172.7032113,Christchurch--Linwood Paddocks,2024-12-14 09:24,49\n",
      "L10572785,NZ,NZ-CAN,NZ-CAN-060,-43.5592414,172.7023713,Christchurch--Lower Heathcote Estuary,2025-01-20 14:14,56\n",
      "L27756977,NZ,NZ-CAN,NZ-CAN-060,-43.5688304,172.7044033,Christchurch--Matuku Lakes,2025-01-30 10:40,48\n",
      "L29036673,NZ,NZ-CAN,NZ-CAN-060,-43.5233481,172.6081753,Christchurch--Mona Vale Garden Park,2025-01-19 08:00,27\n",
      "L17611837,NZ,NZ-CAN,NZ-CAN-060,-43.57108,172.661736,Christchurch--Mount Vernon Park,2024-10-21 17:27,29\n",
      "L21616054,NZ,NZ-CAN,NZ-CAN-060,-43.5556103,172.5428366,Christchurch--Mustang Flood Ponds,2023-08-17 15:17,16\n",
      "L7785151,NZ,NZ-CAN,NZ-CAN-060,-43.5065353,172.731861,Christchurch--New Brighton beach,2024-12-04 18:11,42\n",
      "L1093566,NZ,NZ-CAN,NZ-CAN-060,-43.4664802,172.463042,Christchurch--Orana Wildlife Trust,2025-01-17 17:34,48\n",
      "L16062194,NZ,NZ-CAN,NZ-CAN-060,-43.4670094,172.5242312,Christchurch--Peacock Springs (restricted access),2024-05-13 09:22,31\n",
      "L3480419,NZ,NZ-CAN,NZ-CAN-060,-43.448269,172.5964701,Christchurch--Pepper's Clearwater Resort,2024-10-24 18:43,32\n",
      "L1357600,NZ,NZ-CAN,NZ-CAN-060,-43.5278946,172.5959791,Christchurch--Riccarton Bush,2025-01-20 14:39,44\n",
      "L5749005,NZ,NZ-CAN,NZ-CAN-060,-43.4636661,172.5731134,Christchurch--Roto Kohatu,2025-01-19 16:58,50\n",
      "L8601530,NZ,NZ-CAN,NZ-CAN-060,-43.53468,172.73578,Christchurch--South Brighton Holiday Park,2025-01-09 12:20,39\n",
      "L12076906,NZ,NZ-CAN,NZ-CAN-060,-43.5730818,172.5910275,Christchurch--Sparks Road Wetland,2025-01-25 16:31,40\n",
      "L7785253,NZ,NZ-CAN,NZ-CAN-060,-43.5704024,172.7631855,Christchurch--Sumner Beach,2025-01-23 09:06,50\n",
      "L6217756,NZ,NZ-CAN,NZ-CAN-060,-43.5829115,172.7759453,Christchurch--Taylors Mistake Beach,2025-01-10 13:11,37\n",
      "L1227665,NZ,NZ-CAN,NZ-CAN-060,-43.449928,172.6044846,Christchurch--The Groynes,2025-01-15 13:32,46\n",
      "L563061,NZ,NZ-CAN,NZ-CAN-060,-43.4864623,172.6940448,Christchurch--Travis Wetland/Ōruapaeroa (general),2025-01-31 09:30,72\n",
      "L2508000,NZ,NZ-CAN,NZ-CAN-060,-43.5900896,172.6430655,Christchurch--Victoria Park,2025-01-30 20:02,39\n",
      "L4490312,NZ,NZ-CAN,NZ-CAN-060,-43.553929,172.5775552,Christchurch--Wigram Retention Basin,2024-12-21 11:21,57\n",
      "L6514864,NZ,NZ-CAN,NZ-CAN-060,-43.4635556,172.5940556,Christchurch--Willowbank Wildlife Reserve,2025-01-18 11:15,42\n",
      "L11120308,NZ,NZ-CAN,NZ-CAN-060,-43.5283846,172.6378167,Christchurch--former Armagh Street gull colony (historical submissions only),2025-01-26 17:31,29\n",
      "L17559232,NZ,NZ-CAN,NZ-CAN-060,-43.5640257,172.633241,Christchurch—Ernle Clark Reserve,2025-01-23 13:12,40\n",
      "L1328639,NZ,NZ-CAN,NZ-CAN-060,-43.4258172,172.6231578,Coutts Island,2024-02-16 14:10,35\n",
      "L19524239,NZ,NZ-CAN,NZ-CAN-060,-43.6234193,172.7415118,Diamond Harbour--Stoddart Point Reserve,2024-10-05 14:39,43\n",
      "L2482958,NZ,NZ-CAN,NZ-CAN-060,-43.588523,172.7990456,Godley Head,2025-01-29 10:47,64\n",
      "L8524320,NZ,NZ-CAN,NZ-CAN-060,-43.5273991,172.622333,Hagley Park--Victoria Lake,2025-01-26 15:26,45\n",
      "L8348176,NZ,NZ-CAN,NZ-CAN-060,-43.591543,172.5563963,Halswell--Creamery Reserve,2025-01-28 09:22,43\n",
      "L3251832,NZ,NZ-CAN,NZ-CAN-060,-43.5704368,172.5544572,Halswell--Westlake Reserve Ponds,2025-01-31 15:37,45\n",
      "L10941373,NZ,NZ-CAN,NZ-CAN-060,-43.5530006,172.6852405,Heathcote River @ Rutherford Street bridge,2025-01-20 13:02,39\n",
      "L3937474,NZ,NZ-CAN,NZ-CAN-059,-43.2857955,172.5039071,\"Hillcrest Rd, Fernside\",2024-04-27 14:35,22\n",
      "L1489273,NZ,NZ-CAN,NZ-CAN-059,-43.3613239,172.6625945,Kaiapoi Lakes--South Pond,2025-01-13 13:41,51\n",
      "L11753844,NZ,NZ-CAN,NZ-CAN-059,-43.3829581,172.6580701,Kaiapoi--Kaiapoi River precinct,2025-01-17 15:19,44\n",
      "L1227824,NZ,NZ-CAN,NZ-CAN-059,-43.3868364,172.7090263,Kairaki--Waimakariri River Mouth ,2025-01-06 17:01,50\n",
      "L9667472,NZ,NZ-CAN,NZ-CAN-060,-43.6028143,172.5837929,Kennedys Bush Rd,2024-05-12 15:14,25\n",
      "L5146144,NZ,NZ-CAN,NZ-CAN-062,-43.6322237,172.6249981,Kennedys Bush--Sign of the Bellbird,2025-01-26 08:28,32\n",
      "L12271046,NZ,NZ-CAN,NZ-CAN-059,-43.3087867,172.69553,Lake Pegasus,2025-01-26 16:17,51\n",
      "L7785176,NZ,NZ-CAN,NZ-CAN-062,-43.6436842,172.467767,Lincoln University,2024-09-24 16:00,33\n",
      "L4955097,NZ,NZ-CAN,NZ-CAN-062,-43.650671,172.50234,Lincoln Wetlands,2025-01-16 15:20,53\n",
      "L3761859,NZ,NZ-CAN,NZ-CAN-062,-43.6343751,172.4869823,Lincoln--Mahoe Reserve,2024-11-27 13:44,24\n",
      "L599604,NZ,NZ-CAN,NZ-CAN-060,-43.6522705,172.6357913,Living Springs Centre,2024-02-08 12:19,29\n",
      "L3887328,NZ,NZ-CAN,NZ-CAN-060,-43.641002,172.6511121,Lyttelton Harbour--Allandale,2025-01-21 19:14,48\n",
      "L19754326,NZ,NZ-CAN,NZ-CAN-060,-43.6602302,172.6692815,Lyttelton Harbour--Head of the Bay,2025-01-15 20:08,32\n",
      "L10009229,NZ,NZ-CAN,NZ-CAN-060,-43.6031067,172.7224431,Lyttelton--town and waterfront,2025-01-25 09:48,45\n",
      "L1575575,NZ,NZ-CAN,NZ-CAN-060,-43.5258732,172.626255,North Hagley Park,2025-01-31 19:55,47\n",
      "L5146148,NZ,NZ-CAN,NZ-CAN-062,-43.6631529,172.6214361,Omahu Bush Reserve,2024-09-12 18:15,25\n",
      "L3571697,NZ,NZ-CAN,NZ-CAN-060,-43.6617481,172.7148682,Orton Bradley Park,2025-01-15 19:13,40\n",
      "L1795874,NZ,NZ-CAN,NZ-CAN-060,-43.4337828,172.6447392,Otukaikino Reserve,2024-12-27 12:31,44\n",
      "L14653905,NZ,NZ-CAN,NZ-CAN-059,-43.3144884,172.6935564,Pegasus (General-please use specific sites if possible),2024-06-30 14:28,37\n",
      "L12230293,NZ,NZ-CAN,NZ-CAN-059,-43.315204,172.7142419,Pegasus Beach,2024-12-30 15:22,33\n",
      "L11771031,NZ,NZ-CAN,NZ-CAN-059,-43.3133521,172.6829338,Pegasus Golf & Sports Club,2024-12-04 16:59,33\n",
      "L2809218,NZ,NZ-CAN,NZ-CAN-059,-43.3127281,172.7012587,Pegasus Wetland,2025-01-26 16:02,63\n",
      "L4919431,NZ,NZ-CAN,NZ-CAN-059,-43.3045067,172.7049494,Pegasus Wetlands N of Tiritiri Moana Dr,2025-01-30 18:50,60\n",
      "L11751127,NZ,NZ-CAN,NZ-CAN-059,-43.3213767,172.6913945,Pegasus--Gladstone Park,2023-12-16 19:37,32\n",
      "L25619040,NZ,NZ-CAN,NZ-CAN-059,-43.3118681,172.688369,Pegasus--Kaitiritiri Ridge,2023-12-16 18:25,24\n",
      "L521319,NZ,NZ-CAN,NZ-CAN-060,-43.6289,172.6971,Quail Island,2024-09-21 10:44,51\n",
      "L970761,NZ,NZ-CAN,NZ-CAN-059,-43.2819959,172.5912552,Rangiora--Mike Kean walkway,2025-01-15 16:00,44\n",
      "L558004,NZ,NZ-CAN,NZ-CAN-059,-43.3151866,172.5814819,Rangiora--Northbrook Ponds,2023-07-25 12:44,41\n",
      "L12549402,NZ,NZ-CAN,NZ-CAN-059,-43.3115663,172.6051813,Rangiora--Northbrook Wetlands,2025-01-30 19:55,41\n",
      "L9071189,NZ,NZ-CAN,NZ-CAN-060,-43.6060115,172.6495079,Rapaki--Mitchell’s Track,2024-09-29 19:07,25\n",
      "L14905135,NZ,NZ-CAN,NZ-CAN-059,-43.3059058,172.6711835,Ravenswood--Kesteven Place Wetland,2025-01-27 10:09,51\n",
      "L24386738,NZ,NZ-CAN,NZ-CAN-059,-43.3109335,172.6639171,Ravenswood--Woodford Avenue Creek,2024-12-04 16:14,28\n",
      "L28905308,NZ,NZ-CAN,NZ-CAN-060,-43.5304035,172.5423982,Riccarton Park,2024-12-01 12:15,24\n",
      "L8782672,NZ,NZ-CAN,NZ-CAN-062,-43.5949391,172.3818831,Rolleston Reserve,2025-01-24 07:14,15\n",
      "L12675365,NZ,NZ-CAN,NZ-CAN-059,-43.4117457,172.6041123,Silverstream Reserve,2024-10-20 11:39,29\n",
      "L12812546,NZ,NZ-CAN,NZ-CAN-060,-43.5353319,172.617367,South Hagley Park,2025-01-10 17:04,42\n",
      "L2484336,NZ,NZ-CAN,NZ-CAN-060,-43.4653215,172.6084621,Styx Mill Walkway,2025-01-31 11:00,59\n",
      "L23130967,NZ,NZ-CAN,NZ-CAN-060,-43.588283,172.59343,\"Te Kuru Wetlands, Christchurch NZ-Canterbury\",2024-12-28 11:20,42\n",
      "L27844831,NZ,NZ-CAN,NZ-CAN-062,-43.6976422,172.5414442,Te Pae o Ahuriri,2024-11-22 17:44,38\n",
      "L1516132,NZ,NZ-CAN,NZ-CAN-060,-43.4852527,172.6971174,Travis Wetland--New Pond,2025-01-29 14:12,61\n",
      "L19884089,NZ,NZ-CAN,NZ-CAN-060,-43.4893921,172.6939784,Travis Wetland/Ōruapaeroa--Angela Stream,2024-12-30 19:50,43\n",
      "L19898856,NZ,NZ-CAN,NZ-CAN-060,-43.4882085,172.6963129,Travis Wetland/Ōruapaeroa--Stockyard Scape,2025-01-30 18:31,51\n",
      "L19884259,NZ,NZ-CAN,NZ-CAN-060,-43.4870806,172.6875392,Travis Wetland/Ōruapaeroa--Western Edge,2024-12-30 20:05,41\n",
      "L28021654,NZ,NZ-CAN,NZ-CAN-060,-43.4926627,172.7002532,Travis Wetland/Ōruapaeroa--roundabout pond,2025-01-16 09:56,36\n",
      "L2415037,NZ,NZ-CAN,NZ-CAN-059,-43.3365702,172.7036941,Tutaepatu Trail & Lagoon,2024-10-16 12:05,47\n",
      "L11106122,NZ,NZ-CAN,NZ-CAN-060,-43.601146,172.731354,Uramau Reserve Saddle Lookout,2025-01-28 10:33,23\n",
      "L25645251,NZ,NZ-CAN,NZ-CAN-060,-43.466851,172.716554,Waimairi Beach Park--Northern Ponds,2024-11-25 10:52,36\n",
      "L11660777,NZ,NZ-CAN,NZ-CAN-059,-43.3879738,172.6890424,Waimakariri River Mouth--McIntoshs & southern Kaiapoi Oxidation Ponds,2025-01-31 18:30,54\n",
      "L1179103,NZ,NZ-CAN,NZ-CAN-059,-43.4141042,172.6469064,Waimakariri River nr Hwy 1,2024-11-27 17:40,35\n",
      "L23218177,NZ,NZ-CAN,NZ-CAN-060,-43.4376377,172.5607549,Waimakariri River--Bailes Island,2024-12-23 14:14,35\n",
      "L3118398,NZ,NZ-CAN,NZ-CAN-059,-43.3845324,172.5593939,\"Whites Rd Reserve, Ohoka\",2025-01-30 15:53,44\n",
      "L15497756,NZ,NZ-CAN,NZ-CAN-059,-43.3381565,172.7107559,Woodend Beach,2024-11-12 15:11,30\n",
      "\n"
     ]
    }
   ],
   "source": [
    "print(response.text)"
   ]
  },
  {
   "cell_type": "code",
   "execution_count": 14,
   "metadata": {},
   "outputs": [
    {
     "name": "stdout",
     "output_type": "stream",
     "text": [
      "Latitude: -43.2817824, Longitude: 172.5454009\n"
     ]
    }
   ],
   "source": [
    "# Example data\n",
    "#data = \"L4001220,NZ,NZ-CAN,NZ-CAN-059,-43.2817824,172.5454009,Ashley River--Dunlops Road access,2024-09-21 11:24,42\"\n",
    "data = response.text\n",
    "# Split the string by commas\n",
    "data_list = data.split(',')\n",
    "\n",
    "# Extract the latitude and longitude\n",
    "latitude = float(data_list[4])\n",
    "longitude = float(data_list[5])\n",
    "\n",
    "print(f\"Latitude: {latitude}, Longitude: {longitude}\")"
   ]
  },
  {
   "cell_type": "code",
   "execution_count": 21,
   "metadata": {},
   "outputs": [
    {
     "data": {
      "text/plain": [
       "b'Z-CAN-059,-43.2803547,172.5793362,Ashley River--Rossitors Rd,2024-12-27 14:35,38\\nL5126261,NZ,NZ-CAN,NZ-CAN-059,-43.2813294,172.6'"
      ]
     },
     "execution_count": 21,
     "metadata": {},
     "output_type": "execute_result"
    }
   ],
   "source": [
    "list(response)[1]"
   ]
  },
  {
   "cell_type": "code",
   "execution_count": 22,
   "metadata": {},
   "outputs": [
    {
     "data": {
      "text/plain": [
       "b'356786,Ashley River--Smarts Road,2025-01-31 16:02,46\\nL523081,NZ,NZ-CAN,NZ-CAN-060,-43.5204229,172.7277374,Avon River mudflats @ '"
      ]
     },
     "execution_count": 22,
     "metadata": {},
     "output_type": "execute_result"
    }
   ],
   "source": [
    "list(response)[2]"
   ]
  },
  {
   "cell_type": "code",
   "execution_count": 37,
   "metadata": {},
   "outputs": [
    {
     "data": {
      "text/html": [
       "\n",
       "            <style>\n",
       "                .geemap-dark {\n",
       "                    --jp-widgets-color: white;\n",
       "                    --jp-widgets-label-color: white;\n",
       "                    --jp-ui-font-color1: white;\n",
       "                    --jp-layout-color2: #454545;\n",
       "                    background-color: #383838;\n",
       "                }\n",
       "\n",
       "                .geemap-dark .jupyter-button {\n",
       "                    --jp-layout-color3: #383838;\n",
       "                }\n",
       "\n",
       "                .geemap-colab {\n",
       "                    background-color: var(--colab-primary-surface-color, white);\n",
       "                }\n",
       "\n",
       "                .geemap-colab .jupyter-button {\n",
       "                    --jp-layout-color3: var(--colab-primary-surface-color, white);\n",
       "                }\n",
       "            </style>\n",
       "            "
      ],
      "text/plain": [
       "<IPython.core.display.HTML object>"
      ]
     },
     "metadata": {},
     "output_type": "display_data"
    },
    {
     "name": "stdout",
     "output_type": "stream",
     "text": [
      "Latitude: -43.2817824, Longitude: 172.5454009\n",
      "Latitude: -43.2803547, Longitude: 172.5793362\n",
      "Latitude: -43.2813294, Longitude: 172.6356786\n",
      "Latitude: -43.5204229, Longitude: 172.7277374\n",
      "Latitude: -43.5001318, Longitude: 172.685667\n",
      "Latitude: -43.5381682, Longitude: 172.7374619\n",
      "Latitude: -43.5307182, Longitude: 172.7236054\n",
      "Latitude: -43.558405, Longitude: 172.708853\n",
      "Latitude: -43.5541622, Longitude: 172.7035975\n",
      "Latitude: -43.5568991, Longitude: 172.7261817\n",
      "Latitude: -43.5463793, Longitude: 172.716399\n",
      "Latitude: -43.5299992, Longitude: 172.7314018\n",
      "Latitude: -43.5499357, Longitude: 172.7040082\n",
      "Latitude: -43.5337448, Longitude: 172.7321724\n",
      "Latitude: -43.5601179, Longitude: 172.7479935\n",
      "Latitude: -43.5267359, Longitude: 172.7246583\n",
      "Latitude: -43.5206252, Longitude: 172.723918\n",
      "Latitude: -43.5153346, Longitude: 172.7248099\n",
      "Latitude: -43.531127, Longitude: 172.7112579\n",
      "Latitude: -43.4057708, Longitude: 172.6984477\n",
      "Latitude: -43.4216094, Longitude: 172.7023745\n",
      "Latitude: -43.3973615, Longitude: 172.7024817\n",
      "Latitude: -43.392721, Longitude: 172.7107349\n",
      "Latitude: -43.4845174, Longitude: 172.5456905\n",
      "Latitude: -43.580912, Longitude: 172.616965\n",
      "Latitude: -43.543559, Longitude: 172.622214\n",
      "Latitude: -43.5329316, Longitude: 172.6267147\n",
      "Latitude: -43.5474283, Longitude: 172.7316856\n",
      "Latitude: -43.503889, Longitude: 172.7075\n",
      "Latitude: -43.52399, Longitude: 172.6460559\n",
      "Latitude: -43.5296646, Longitude: 172.6198483\n",
      "Latitude: -43.4632482, Longitude: 172.6912766\n",
      "Latitude: -43.5836593, Longitude: 172.6494739\n",
      "Latitude: -43.5350126, Longitude: 172.528836\n",
      "Latitude: -43.5901356, Longitude: 172.5860363\n",
      "Latitude: -43.5520317, Longitude: 172.7007222\n",
      "Latitude: -43.5924098, Longitude: 172.6319172\n",
      "Latitude: -43.4901832, Longitude: 172.6820403\n",
      "Latitude: -43.5481536, Longitude: 172.5837684\n",
      "Latitude: -43.5201896, Longitude: 172.5920391\n",
      "Latitude: -43.5670525, Longitude: 172.7022243\n",
      "Latitude: -43.5997557, Longitude: 172.5752914\n",
      "Latitude: -43.5973225, Longitude: 172.5848424\n",
      "Latitude: -43.5993049, Longitude: 172.5809515\n",
      "Latitude: -43.5995852, Longitude: 172.5790859\n",
      "Latitude: -43.5609366, Longitude: 172.6618853\n",
      "Latitude: -43.6001875, Longitude: 172.642963\n",
      "Latitude: -43.4951489, Longitude: 172.6738787\n",
      "Latitude: -43.5239848, Longitude: 172.5769417\n",
      "Latitude: -43.5143225, Longitude: 172.5931677\n",
      "Latitude: -43.5079524, Longitude: 172.5817269\n",
      "Latitude: -43.5569751, Longitude: 172.7167886\n",
      "Latitude: -43.4991684, Longitude: 172.7019346\n",
      "Latitude: -43.547755, Longitude: 172.6975391\n",
      "Latitude: -43.5447418, Longitude: 172.7032113\n",
      "Latitude: -43.5592414, Longitude: 172.7023713\n",
      "Latitude: -43.5688304, Longitude: 172.7044033\n",
      "Latitude: -43.5233481, Longitude: 172.6081753\n",
      "Latitude: -43.57108, Longitude: 172.661736\n",
      "Latitude: -43.5556103, Longitude: 172.5428366\n",
      "Latitude: -43.5065353, Longitude: 172.731861\n",
      "Latitude: -43.4664802, Longitude: 172.463042\n",
      "Latitude: -43.4670094, Longitude: 172.5242312\n",
      "Latitude: -43.448269, Longitude: 172.5964701\n",
      "Latitude: -43.5278946, Longitude: 172.5959791\n",
      "Latitude: -43.4636661, Longitude: 172.5731134\n",
      "Latitude: -43.53468, Longitude: 172.73578\n",
      "Latitude: -43.5730818, Longitude: 172.5910275\n",
      "Latitude: -43.5704024, Longitude: 172.7631855\n",
      "Latitude: -43.5829115, Longitude: 172.7759453\n",
      "Latitude: -43.449928, Longitude: 172.6044846\n",
      "Latitude: -43.4864623, Longitude: 172.6940448\n",
      "Latitude: -43.5900896, Longitude: 172.6430655\n",
      "Latitude: -43.553929, Longitude: 172.5775552\n",
      "Latitude: -43.4635556, Longitude: 172.5940556\n",
      "Latitude: -43.5283846, Longitude: 172.6378167\n",
      "Latitude: -43.5640257, Longitude: 172.633241\n",
      "Latitude: -43.4258172, Longitude: 172.6231578\n",
      "Latitude: -43.6234193, Longitude: 172.7415118\n",
      "Latitude: -43.588523, Longitude: 172.7990456\n",
      "Latitude: -43.5273991, Longitude: 172.622333\n",
      "Latitude: -43.591543, Longitude: 172.5563963\n",
      "Latitude: -43.5704368, Longitude: 172.5544572\n",
      "Latitude: -43.5530006, Longitude: 172.6852405\n",
      "Latitude: -43.2857955, Longitude: 172.5039071\n",
      "Latitude: -43.3613239, Longitude: 172.6625945\n",
      "Latitude: -43.3829581, Longitude: 172.6580701\n",
      "Latitude: -43.3868364, Longitude: 172.7090263\n",
      "Latitude: -43.6028143, Longitude: 172.5837929\n",
      "Latitude: -43.6322237, Longitude: 172.6249981\n",
      "Latitude: -43.3087867, Longitude: 172.69553\n",
      "Latitude: -43.6436842, Longitude: 172.467767\n",
      "Latitude: -43.650671, Longitude: 172.50234\n",
      "Latitude: -43.6343751, Longitude: 172.4869823\n",
      "Latitude: -43.6522705, Longitude: 172.6357913\n",
      "Latitude: -43.641002, Longitude: 172.6511121\n",
      "Latitude: -43.6602302, Longitude: 172.6692815\n",
      "Latitude: -43.6031067, Longitude: 172.7224431\n",
      "Latitude: -43.5258732, Longitude: 172.626255\n",
      "Latitude: -43.6631529, Longitude: 172.6214361\n",
      "Latitude: -43.6617481, Longitude: 172.7148682\n",
      "Latitude: -43.4337828, Longitude: 172.6447392\n",
      "Latitude: -43.3144884, Longitude: 172.6935564\n",
      "Latitude: -43.315204, Longitude: 172.7142419\n",
      "Latitude: -43.3133521, Longitude: 172.6829338\n",
      "Latitude: -43.3127281, Longitude: 172.7012587\n",
      "Latitude: -43.3045067, Longitude: 172.7049494\n",
      "Latitude: -43.3213767, Longitude: 172.6913945\n",
      "Latitude: -43.3118681, Longitude: 172.688369\n",
      "Latitude: -43.6289, Longitude: 172.6971\n",
      "Latitude: -43.2819959, Longitude: 172.5912552\n",
      "Latitude: -43.3151866, Longitude: 172.5814819\n",
      "Latitude: -43.3115663, Longitude: 172.6051813\n",
      "Latitude: -43.6060115, Longitude: 172.6495079\n",
      "Latitude: -43.3059058, Longitude: 172.6711835\n",
      "Latitude: -43.3109335, Longitude: 172.6639171\n",
      "Latitude: -43.5304035, Longitude: 172.5423982\n",
      "Latitude: -43.5949391, Longitude: 172.3818831\n",
      "Latitude: -43.4117457, Longitude: 172.6041123\n",
      "Latitude: -43.5353319, Longitude: 172.617367\n",
      "Latitude: -43.4653215, Longitude: 172.6084621\n",
      "Latitude: -43.588283, Longitude: 172.59343\n",
      "Latitude: -43.6976422, Longitude: 172.5414442\n",
      "Latitude: -43.4852527, Longitude: 172.6971174\n",
      "Latitude: -43.4893921, Longitude: 172.6939784\n",
      "Latitude: -43.4882085, Longitude: 172.6963129\n",
      "Latitude: -43.4870806, Longitude: 172.6875392\n",
      "Latitude: -43.4926627, Longitude: 172.7002532\n",
      "Latitude: -43.3365702, Longitude: 172.7036941\n",
      "Latitude: -43.601146, Longitude: 172.731354\n",
      "Latitude: -43.466851, Longitude: 172.716554\n",
      "Latitude: -43.3879738, Longitude: 172.6890424\n",
      "Latitude: -43.4141042, Longitude: 172.6469064\n",
      "Latitude: -43.4376377, Longitude: 172.5607549\n",
      "Latitude: -43.3845324, Longitude: 172.5593939\n",
      "Latitude: -43.3381565, Longitude: 172.7107559\n"
     ]
    }
   ],
   "source": [
    "# Split the data into lines\n",
    "lines = data.strip().split('\\n')\n",
    "\n",
    "# Extract coordinates from each line\n",
    "coordinates = []\n",
    "for line in lines:\n",
    "    parts = line.split(',')\n",
    "    latitude = float(parts[4])\n",
    "    longitude = float(parts[5])\n",
    "    coordinates.append((latitude, longitude))\n",
    "\n",
    "# Print the coordinates\n",
    "for lat, lon in coordinates:\n",
    "    print(f\"Latitude: {lat}, Longitude: {lon}\")"
   ]
  },
  {
   "cell_type": "code",
   "execution_count": 46,
   "metadata": {},
   "outputs": [
    {
     "data": {
      "text/html": [
       "\n",
       "            <style>\n",
       "                .geemap-dark {\n",
       "                    --jp-widgets-color: white;\n",
       "                    --jp-widgets-label-color: white;\n",
       "                    --jp-ui-font-color1: white;\n",
       "                    --jp-layout-color2: #454545;\n",
       "                    background-color: #383838;\n",
       "                }\n",
       "\n",
       "                .geemap-dark .jupyter-button {\n",
       "                    --jp-layout-color3: #383838;\n",
       "                }\n",
       "\n",
       "                .geemap-colab {\n",
       "                    background-color: var(--colab-primary-surface-color, white);\n",
       "                }\n",
       "\n",
       "                .geemap-colab .jupyter-button {\n",
       "                    --jp-layout-color3: var(--colab-primary-surface-color, white);\n",
       "                }\n",
       "            </style>\n",
       "            "
      ],
      "text/plain": [
       "<IPython.core.display.HTML object>"
      ]
     },
     "metadata": {},
     "output_type": "display_data"
    }
   ],
   "source": [
    "import geopandas as gpd"
   ]
  },
  {
   "cell_type": "markdown",
   "metadata": {},
   "source": []
  },
  {
   "cell_type": "code",
   "execution_count": 47,
   "metadata": {},
   "outputs": [
    {
     "data": {
      "text/html": [
       "\n",
       "            <style>\n",
       "                .geemap-dark {\n",
       "                    --jp-widgets-color: white;\n",
       "                    --jp-widgets-label-color: white;\n",
       "                    --jp-ui-font-color1: white;\n",
       "                    --jp-layout-color2: #454545;\n",
       "                    background-color: #383838;\n",
       "                }\n",
       "\n",
       "                .geemap-dark .jupyter-button {\n",
       "                    --jp-layout-color3: #383838;\n",
       "                }\n",
       "\n",
       "                .geemap-colab {\n",
       "                    background-color: var(--colab-primary-surface-color, white);\n",
       "                }\n",
       "\n",
       "                .geemap-colab .jupyter-button {\n",
       "                    --jp-layout-color3: var(--colab-primary-surface-color, white);\n",
       "                }\n",
       "            </style>\n",
       "            "
      ],
      "text/plain": [
       "<IPython.core.display.HTML object>"
      ]
     },
     "metadata": {},
     "output_type": "display_data"
    }
   ],
   "source": [
    "# Create a GeoDataFrame\n",
    "gdf = gpd.GeoDataFrame(geometry=gpd.points_from_xy([lon for lat, lon in coordinates], [lat for lat, lon in coordinates]))"
   ]
  },
  {
   "cell_type": "code",
   "execution_count": 54,
   "metadata": {},
   "outputs": [
    {
     "data": {
      "text/html": [
       "\n",
       "            <style>\n",
       "                .geemap-dark {\n",
       "                    --jp-widgets-color: white;\n",
       "                    --jp-widgets-label-color: white;\n",
       "                    --jp-ui-font-color1: white;\n",
       "                    --jp-layout-color2: #454545;\n",
       "                    background-color: #383838;\n",
       "                }\n",
       "\n",
       "                .geemap-dark .jupyter-button {\n",
       "                    --jp-layout-color3: #383838;\n",
       "                }\n",
       "\n",
       "                .geemap-colab {\n",
       "                    background-color: var(--colab-primary-surface-color, white);\n",
       "                }\n",
       "\n",
       "                .geemap-colab .jupyter-button {\n",
       "                    --jp-layout-color3: var(--colab-primary-surface-color, white);\n",
       "                }\n",
       "            </style>\n",
       "            "
      ],
      "text/plain": [
       "<IPython.core.display.HTML object>"
      ]
     },
     "metadata": {},
     "output_type": "display_data"
    }
   ],
   "source": [
    "lon = -43.5053818\n",
    "lat = 172.5837443\n",
    "\n",
    "# convert the latitude and longitude to coordinates\n",
    "center = (lat, lon)"
   ]
  },
  {
   "cell_type": "code",
   "execution_count": 60,
   "metadata": {},
   "outputs": [
    {
     "data": {
      "text/html": [
       "\n",
       "            <style>\n",
       "                .geemap-dark {\n",
       "                    --jp-widgets-color: white;\n",
       "                    --jp-widgets-label-color: white;\n",
       "                    --jp-ui-font-color1: white;\n",
       "                    --jp-layout-color2: #454545;\n",
       "                    background-color: #383838;\n",
       "                }\n",
       "\n",
       "                .geemap-dark .jupyter-button {\n",
       "                    --jp-layout-color3: #383838;\n",
       "                }\n",
       "\n",
       "                .geemap-colab {\n",
       "                    background-color: var(--colab-primary-surface-color, white);\n",
       "                }\n",
       "\n",
       "                .geemap-colab .jupyter-button {\n",
       "                    --jp-layout-color3: var(--colab-primary-surface-color, white);\n",
       "                }\n",
       "            </style>\n",
       "            "
      ],
      "text/plain": [
       "<IPython.core.display.HTML object>"
      ]
     },
     "metadata": {},
     "output_type": "display_data"
    }
   ],
   "source": [
    "from shapely.geometry import Point\n",
    "\n",
    "# Convert the center tuple to a shapely Point object\n",
    "center_point = Point(center)\n",
    "\n"
   ]
  },
  {
   "cell_type": "code",
   "execution_count": 109,
   "metadata": {},
   "outputs": [
    {
     "data": {
      "text/html": [
       "\n",
       "            <style>\n",
       "                .geemap-dark {\n",
       "                    --jp-widgets-color: white;\n",
       "                    --jp-widgets-label-color: white;\n",
       "                    --jp-ui-font-color1: white;\n",
       "                    --jp-layout-color2: #454545;\n",
       "                    background-color: #383838;\n",
       "                }\n",
       "\n",
       "                .geemap-dark .jupyter-button {\n",
       "                    --jp-layout-color3: #383838;\n",
       "                }\n",
       "\n",
       "                .geemap-colab {\n",
       "                    background-color: var(--colab-primary-surface-color, white);\n",
       "                }\n",
       "\n",
       "                .geemap-colab .jupyter-button {\n",
       "                    --jp-layout-color3: var(--colab-primary-surface-color, white);\n",
       "                }\n",
       "            </style>\n",
       "            "
      ],
      "text/plain": [
       "<IPython.core.display.HTML object>"
      ]
     },
     "metadata": {},
     "output_type": "display_data"
    },
    {
     "data": {
      "image/svg+xml": [
       "<svg xmlns=\"http://www.w3.org/2000/svg\" xmlns:xlink=\"http://www.w3.org/1999/xlink\" width=\"100.0\" height=\"100.0\" viewBox=\"171.5837443 -44.5053818 2.0 2.0\" preserveAspectRatio=\"xMinYMin meet\"><g transform=\"matrix(1,0,0,-1,0,-87.0107636)\"><circle cx=\"172.5837443\" cy=\"-43.5053818\" r=\"0.06\" stroke=\"#555555\" stroke-width=\"0.02\" fill=\"#66cc99\" opacity=\"0.6\" /></g></svg>"
      ],
      "text/plain": [
       "<POINT (172.584 -43.505)>"
      ]
     },
     "execution_count": 109,
     "metadata": {},
     "output_type": "execute_result"
    }
   ],
   "source": [
    "center_point"
   ]
  },
  {
   "cell_type": "code",
   "execution_count": 61,
   "metadata": {},
   "outputs": [
    {
     "data": {
      "text/html": [
       "\n",
       "            <style>\n",
       "                .geemap-dark {\n",
       "                    --jp-widgets-color: white;\n",
       "                    --jp-widgets-label-color: white;\n",
       "                    --jp-ui-font-color1: white;\n",
       "                    --jp-layout-color2: #454545;\n",
       "                    background-color: #383838;\n",
       "                }\n",
       "\n",
       "                .geemap-dark .jupyter-button {\n",
       "                    --jp-layout-color3: #383838;\n",
       "                }\n",
       "\n",
       "                .geemap-colab {\n",
       "                    background-color: var(--colab-primary-surface-color, white);\n",
       "                }\n",
       "\n",
       "                .geemap-colab .jupyter-button {\n",
       "                    --jp-layout-color3: var(--colab-primary-surface-color, white);\n",
       "                }\n",
       "            </style>\n",
       "            "
      ],
      "text/plain": [
       "<IPython.core.display.HTML object>"
      ]
     },
     "metadata": {},
     "output_type": "display_data"
    }
   ],
   "source": [
    "gdf['distance'] = gdf.distance(center_point)"
   ]
  },
  {
   "cell_type": "code",
   "execution_count": 64,
   "metadata": {},
   "outputs": [
    {
     "data": {
      "text/html": [
       "\n",
       "            <style>\n",
       "                .geemap-dark {\n",
       "                    --jp-widgets-color: white;\n",
       "                    --jp-widgets-label-color: white;\n",
       "                    --jp-ui-font-color1: white;\n",
       "                    --jp-layout-color2: #454545;\n",
       "                    background-color: #383838;\n",
       "                }\n",
       "\n",
       "                .geemap-dark .jupyter-button {\n",
       "                    --jp-layout-color3: #383838;\n",
       "                }\n",
       "\n",
       "                .geemap-colab {\n",
       "                    background-color: var(--colab-primary-surface-color, white);\n",
       "                }\n",
       "\n",
       "                .geemap-colab .jupyter-button {\n",
       "                    --jp-layout-color3: var(--colab-primary-surface-color, white);\n",
       "                }\n",
       "            </style>\n",
       "            "
      ],
      "text/plain": [
       "<IPython.core.display.HTML object>"
      ]
     },
     "metadata": {},
     "output_type": "display_data"
    }
   ],
   "source": [
    "# Set the CRS to WGS84 (EPSG:4326) before transforming\n",
    "gdf.set_crs(epsg=4326, inplace=True)\n",
    "gdf.to_crs(epsg=4326, inplace=True)"
   ]
  },
  {
   "cell_type": "code",
   "execution_count": 65,
   "metadata": {},
   "outputs": [
    {
     "data": {
      "text/html": [
       "\n",
       "            <style>\n",
       "                .geemap-dark {\n",
       "                    --jp-widgets-color: white;\n",
       "                    --jp-widgets-label-color: white;\n",
       "                    --jp-ui-font-color1: white;\n",
       "                    --jp-layout-color2: #454545;\n",
       "                    background-color: #383838;\n",
       "                }\n",
       "\n",
       "                .geemap-dark .jupyter-button {\n",
       "                    --jp-layout-color3: #383838;\n",
       "                }\n",
       "\n",
       "                .geemap-colab {\n",
       "                    background-color: var(--colab-primary-surface-color, white);\n",
       "                }\n",
       "\n",
       "                .geemap-colab .jupyter-button {\n",
       "                    --jp-layout-color3: var(--colab-primary-surface-color, white);\n",
       "                }\n",
       "            </style>\n",
       "            "
      ],
      "text/plain": [
       "<IPython.core.display.HTML object>"
      ]
     },
     "metadata": {},
     "output_type": "display_data"
    },
    {
     "data": {
      "text/plain": [
       "<Geographic 2D CRS: EPSG:4326>\n",
       "Name: WGS 84\n",
       "Axis Info [ellipsoidal]:\n",
       "- Lat[north]: Geodetic latitude (degree)\n",
       "- Lon[east]: Geodetic longitude (degree)\n",
       "Area of Use:\n",
       "- name: World.\n",
       "- bounds: (-180.0, -90.0, 180.0, 90.0)\n",
       "Datum: World Geodetic System 1984 ensemble\n",
       "- Ellipsoid: WGS 84\n",
       "- Prime Meridian: Greenwich"
      ]
     },
     "execution_count": 65,
     "metadata": {},
     "output_type": "execute_result"
    }
   ],
   "source": [
    "gdf.crs"
   ]
  },
  {
   "cell_type": "code",
   "execution_count": 66,
   "metadata": {},
   "outputs": [
    {
     "data": {
      "text/html": [
       "\n",
       "            <style>\n",
       "                .geemap-dark {\n",
       "                    --jp-widgets-color: white;\n",
       "                    --jp-widgets-label-color: white;\n",
       "                    --jp-ui-font-color1: white;\n",
       "                    --jp-layout-color2: #454545;\n",
       "                    background-color: #383838;\n",
       "                }\n",
       "\n",
       "                .geemap-dark .jupyter-button {\n",
       "                    --jp-layout-color3: #383838;\n",
       "                }\n",
       "\n",
       "                .geemap-colab {\n",
       "                    background-color: var(--colab-primary-surface-color, white);\n",
       "                }\n",
       "\n",
       "                .geemap-colab .jupyter-button {\n",
       "                    --jp-layout-color3: var(--colab-primary-surface-color, white);\n",
       "                }\n",
       "            </style>\n",
       "            "
      ],
      "text/plain": [
       "<IPython.core.display.HTML object>"
      ]
     },
     "metadata": {},
     "output_type": "display_data"
    }
   ],
   "source": [
    "gdf['distance'] = gdf.distance(center_point)"
   ]
  },
  {
   "cell_type": "code",
   "execution_count": 68,
   "metadata": {},
   "outputs": [
    {
     "data": {
      "text/html": [
       "\n",
       "            <style>\n",
       "                .geemap-dark {\n",
       "                    --jp-widgets-color: white;\n",
       "                    --jp-widgets-label-color: white;\n",
       "                    --jp-ui-font-color1: white;\n",
       "                    --jp-layout-color2: #454545;\n",
       "                    background-color: #383838;\n",
       "                }\n",
       "\n",
       "                .geemap-dark .jupyter-button {\n",
       "                    --jp-layout-color3: #383838;\n",
       "                }\n",
       "\n",
       "                .geemap-colab {\n",
       "                    background-color: var(--colab-primary-surface-color, white);\n",
       "                }\n",
       "\n",
       "                .geemap-colab .jupyter-button {\n",
       "                    --jp-layout-color3: var(--colab-primary-surface-color, white);\n",
       "                }\n",
       "            </style>\n",
       "            "
      ],
      "text/plain": [
       "<IPython.core.display.HTML object>"
      ]
     },
     "metadata": {},
     "output_type": "display_data"
    },
    {
     "name": "stdout",
     "output_type": "stream",
     "text": [
      "                       geometry  distance\n",
      "50  POINT (172.58173 -43.50795)  0.003268\n",
      "49  POINT (172.59317 -43.51432)  0.012990\n",
      "39  POINT (172.59204 -43.52019)  0.016973\n",
      "48  POINT (172.57694 -43.52398)  0.019808\n",
      "64  POINT (172.59598 -43.52789)  0.025623\n"
     ]
    }
   ],
   "source": [
    "# Find the nearest points\n",
    "nearest_points = gdf.nsmallest(5, 'distance')  # Adjust the number of nearest points as needed\n",
    "\n",
    "# Print the nearest points\n",
    "print(nearest_points)"
   ]
  },
  {
   "cell_type": "code",
   "execution_count": 108,
   "metadata": {},
   "outputs": [
    {
     "data": {
      "text/html": [
       "\n",
       "            <style>\n",
       "                .geemap-dark {\n",
       "                    --jp-widgets-color: white;\n",
       "                    --jp-widgets-label-color: white;\n",
       "                    --jp-ui-font-color1: white;\n",
       "                    --jp-layout-color2: #454545;\n",
       "                    background-color: #383838;\n",
       "                }\n",
       "\n",
       "                .geemap-dark .jupyter-button {\n",
       "                    --jp-layout-color3: #383838;\n",
       "                }\n",
       "\n",
       "                .geemap-colab {\n",
       "                    background-color: var(--colab-primary-surface-color, white);\n",
       "                }\n",
       "\n",
       "                .geemap-colab .jupyter-button {\n",
       "                    --jp-layout-color3: var(--colab-primary-surface-color, white);\n",
       "                }\n",
       "            </style>\n",
       "            "
      ],
      "text/plain": [
       "<IPython.core.display.HTML object>"
      ]
     },
     "metadata": {},
     "output_type": "display_data"
    },
    {
     "data": {
      "application/vnd.jupyter.widget-view+json": {
       "model_id": "6c3c921838804c119572e1dc1692d5f3",
       "version_major": 2,
       "version_minor": 0
      },
      "text/plain": [
       "Map(center=[-43.5053818, 172.5837443], controls=(WidgetControl(options=['position', 'transparent_bg'], widget=…"
      ]
     },
     "metadata": {},
     "output_type": "display_data"
    }
   ],
   "source": [
    "# plot the nearest_points on the gee map\n",
    "import folium\n",
    "import geemap\n",
    "import ipywidgets as widgets\n",
    "\n",
    "Map = geemap.Map(center=(lon,lat), zoom=12)\n",
    "popup = widgets.HTML(value=\"Your Location\")\n",
    "Map.add_marker(location=(lon,lat), popup=popup, name=\"Current Location\")\n",
    "Map.add_gdf(nearest_points, \"Nearest Hotspots\")\n",
    "Map\n",
    "\n"
   ]
  },
  {
   "cell_type": "code",
   "execution_count": 41,
   "metadata": {},
   "outputs": [
    {
     "data": {
      "text/html": [
       "\n",
       "            <style>\n",
       "                .geemap-dark {\n",
       "                    --jp-widgets-color: white;\n",
       "                    --jp-widgets-label-color: white;\n",
       "                    --jp-ui-font-color1: white;\n",
       "                    --jp-layout-color2: #454545;\n",
       "                    background-color: #383838;\n",
       "                }\n",
       "\n",
       "                .geemap-dark .jupyter-button {\n",
       "                    --jp-layout-color3: #383838;\n",
       "                }\n",
       "\n",
       "                .geemap-colab {\n",
       "                    background-color: var(--colab-primary-surface-color, white);\n",
       "                }\n",
       "\n",
       "                .geemap-colab .jupyter-button {\n",
       "                    --jp-layout-color3: var(--colab-primary-surface-color, white);\n",
       "                }\n",
       "            </style>\n",
       "            "
      ],
      "text/plain": [
       "<IPython.core.display.HTML object>"
      ]
     },
     "metadata": {},
     "output_type": "display_data"
    },
    {
     "data": {
      "application/vnd.jupyter.widget-view+json": {
       "model_id": "1980817f5afb43149bfed02edfc8d86b",
       "version_major": 2,
       "version_minor": 0
      },
      "text/plain": [
       "Map(center=[-43.5053818, 172.5837443], controls=(WidgetControl(options=['position', 'transparent_bg'], widget=…"
      ]
     },
     "metadata": {},
     "output_type": "display_data"
    }
   ],
   "source": [
    "import ipywidgets as widgets\n",
    "\n",
    "lon = -43.5053818\n",
    "lat = 172.5837443\n",
    "Map = geemap.Map(center=(lon,lat), zoom=10)\n",
    "popup = widgets.HTML(value=\"You are here\")\n",
    "Map.add_marker(location=(lon,lat), popup=popup)\n",
    "Map.add_marker(location=(-43.28178244, 172.5454009), popup=popup)\n",
    "\n",
    "# Display the map\n",
    "Map"
   ]
  },
  {
   "cell_type": "code",
   "execution_count": null,
   "metadata": {},
   "outputs": [],
   "source": []
  }
 ],
 "metadata": {
  "kernelspec": {
   "display_name": "streamlit",
   "language": "python",
   "name": "python3"
  },
  "language_info": {
   "codemirror_mode": {
    "name": "ipython",
    "version": 3
   },
   "file_extension": ".py",
   "mimetype": "text/x-python",
   "name": "python",
   "nbconvert_exporter": "python",
   "pygments_lexer": "ipython3",
   "version": "3.9.21"
  }
 },
 "nbformat": 4,
 "nbformat_minor": 2
}
